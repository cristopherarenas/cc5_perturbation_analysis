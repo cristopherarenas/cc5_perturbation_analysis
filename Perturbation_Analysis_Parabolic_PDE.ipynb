{
 "cells": [
  {
   "cell_type": "markdown",
   "metadata": {},
   "source": [
    "# Singular Perturbation Analysis for Parabolic Partial Differential Equations\n",
    "## Cristopher Arenas"
   ]
  },
  {
   "cell_type": "code",
   "execution_count": 5,
   "metadata": {
    "collapsed": true
   },
   "outputs": [],
   "source": [
    "import numpy as np\n",
    "import scipy as sc\n",
    "from scipy.linalg import toeplitz\n",
    "import matplotlib.pyplot as plt\n",
    "from ipywidgets import interact"
   ]
  },
  {
   "cell_type": "markdown",
   "metadata": {},
   "source": [
    "## Method of multiple scales"
   ]
  },
  {
   "cell_type": "markdown",
   "metadata": {},
   "source": [
    "This method is used in a wide variety of problems. Tipically, there are two phisical proceses acting simultaneously using different scales."
   ]
  },
  {
   "cell_type": "markdown",
   "metadata": {},
   "source": [
    "Consider the following diffusion-advection equation, valid for a periodic domain $\\theta \\in [0,2\\pi]$ and $t \\geq 0$"
   ]
  },
  {
   "cell_type": "markdown",
   "metadata": {},
   "source": [
    "\\begin{align*}\n",
    "\\frac{\\partial f(\\theta,t)}{\\partial t} + \\frac{\\partial}{\\partial \\theta} (\\omega(\\theta)\\,f(\\theta,t)) &= \\varepsilon\\frac{\\partial^2f(\\theta,t)}{\\partial \\theta^2}\\\\\n",
    "f(\\theta,0) &= F(\\theta)\\\\\n",
    "f(\\theta,t) &= f(\\theta+2\\pi,t)\n",
    "\\end{align*}"
   ]
  },
  {
   "cell_type": "markdown",
   "metadata": {},
   "source": [
    "where $\\omega(\\theta)$ is given over $0 \\leq \\theta \\leq 2\\pi$, periodic and positive. The previous equation describes advection in the periodic domain with a small diffusion, since $\\varepsilon$ is a tiny value."
   ]
  },
  {
   "cell_type": "markdown",
   "metadata": {},
   "source": [
    "The method of multiple scales work with two scales. First, the advection occurs on the fast scale $\\tau = t$ and the diffusion on the slow scale $T = \\varepsilon\\,t$. The method propose the following asymptotic expansion:"
   ]
  },
  {
   "cell_type": "markdown",
   "metadata": {},
   "source": [
    "$$\n",
    "f(\\theta,t; \\varepsilon) \\,\\,\\,\\tilde{}\\,\\,\\, f_0(\\theta,\\tau,T) + \\varepsilon\\,f_1(\\theta,\\tau,T)\n",
    "$$"
   ]
  },
  {
   "cell_type": "code",
   "execution_count": null,
   "metadata": {
    "collapsed": true
   },
   "outputs": [],
   "source": []
  },
  {
   "cell_type": "code",
   "execution_count": null,
   "metadata": {
    "collapsed": true
   },
   "outputs": [],
   "source": []
  },
  {
   "cell_type": "code",
   "execution_count": null,
   "metadata": {
    "collapsed": true
   },
   "outputs": [],
   "source": []
  },
  {
   "cell_type": "code",
   "execution_count": null,
   "metadata": {
    "collapsed": true
   },
   "outputs": [],
   "source": []
  },
  {
   "cell_type": "code",
   "execution_count": null,
   "metadata": {
    "collapsed": true
   },
   "outputs": [],
   "source": []
  },
  {
   "cell_type": "markdown",
   "metadata": {},
   "source": [
    "**Numerical Example**"
   ]
  },
  {
   "cell_type": "markdown",
   "metadata": {},
   "source": [
    "The previous equation is considered for the following functions $\\omega(\\theta)$ and $F(\\theta)$.\n",
    "\\begin{align}\n",
    "\\omega(\\theta) &= \\sin^2{\\left(\\frac{\\theta}{2}\\right)}\\\\\n",
    "\\omega'(\\theta) &= \\frac{1}{2}\\sin{(\\theta)}\\\\\n",
    "F(\\theta) &= -\\theta^2+\\pi\n",
    "\\end{align}"
   ]
  },
  {
   "cell_type": "code",
   "execution_count": 20,
   "metadata": {
    "collapsed": true
   },
   "outputs": [],
   "source": [
    "def w(theta):\n",
    "    #return (np.sin(0.5*theta))**2\n",
    "    return 1\n",
    "    \n",
    "def wp(theta):\n",
    "    #return 0.5*np.sin(theta)\n",
    "    return 0\n",
    "    \n",
    "def F(theta):\n",
    "    #return -theta*(theta-2*np.pi)\n",
    "    return 5*np.sin(theta)\n"
   ]
  },
  {
   "cell_type": "code",
   "execution_count": 21,
   "metadata": {
    "collapsed": true
   },
   "outputs": [],
   "source": [
    "def implicit_method(N,M,eps):\n",
    "    Theta = np.linspace(0,2*np.pi,N)\n",
    "    T = np.linspace(0,20,M)\n",
    "\n",
    "    dth = Theta[1]-Theta[0]\n",
    "    dt = T[1]-T[0]\n",
    "\n",
    "    A = np.zeros((N-1,N-1))\n",
    "    b = np.zeros((N-1,M))\n",
    "\n",
    "    for i in range(N-1):\n",
    "        A[i,i] = 1+ wp(Theta[i])*dt + ((w(Theta[i])*dt)/dth) + 2*(eps*dt)/dth**2\n",
    "        b[i,0] = F(Theta[i])\n",
    "        if i==0:\n",
    "            A[i,-1] = -eps*dt/dth**2  \n",
    "        elif i==N-2:\n",
    "            A[0,i] = 0#-w(Theta[i])*dt/dth - eps*dt/dth**2\n",
    "        if i>0:\n",
    "            A[i-1,i] = -eps*dt/dth**2\n",
    "        if i<N-2:    \n",
    "            A[i+1,i] = -w(Theta[i])*dt/dth - eps*dt/dth**2\n",
    "    #print(A)\n",
    "    for j in range(M-1):\n",
    "        b[:,j+1] = np.linalg.solve(A,b[:,j])\n",
    "    return b"
   ]
  },
  {
   "cell_type": "code",
   "execution_count": 24,
   "metadata": {
    "collapsed": true
   },
   "outputs": [],
   "source": [
    "def simulation(i,N,M,eps=0.001):\n",
    "    #y1 = advection_process(N,N,1)\n",
    "    y1 = implicit_method(N,M,0)\n",
    "    y2 = implicit_method(N,M,0.00000001)\n",
    "    y3 = implicit_method(N,M,1)\n",
    "    y4 = implicit_method(N,M,10)\n",
    "    Theta = np.linspace(0,2*np.pi,N)\n",
    "    T = np.linspace(0,100,M)\n",
    "    \n",
    "    plt.plot(Theta[:-1],y1[:,i],\"yo\", label=\"eps=0\")\n",
    "    #plt.plot(Theta[:-1],y2[:,i],\"bo\", label=\"eps=0.1\")\n",
    "    #plt.plot(Theta[:-1],y3[:,i],\"ro\", label = \"eps=1\")\n",
    "    #plt.plot(Theta[:-1],y4[:,i],\"go\", label = \"eps=100\")\n",
    "    plt.ylim(-10,10)\n",
    "    plt.grid(True)\n",
    "    plt.title(\"t = \"+str(T[i])+\" [s]\")\n",
    "    plt.legend(loc=\"best\")\n",
    "    plt.show()\n",
    "    \n",
    "    "
   ]
  },
  {
   "cell_type": "code",
   "execution_count": 25,
   "metadata": {
    "collapsed": false
   },
   "outputs": [
    {
     "data": {
      "application/vnd.jupyter.widget-view+json": {
       "model_id": "0cb564af433a472096cfaaaad787556a"
      }
     },
     "metadata": {},
     "output_type": "display_data"
    },
    {
     "data": {
      "text/plain": [
       "<function __main__.simulation>"
      ]
     },
     "execution_count": 25,
     "metadata": {},
     "output_type": "execute_result"
    }
   ],
   "source": [
    "interact(simulation,i=(0,69),N=80,M=50)"
   ]
  },
  {
   "cell_type": "code",
   "execution_count": null,
   "metadata": {
    "collapsed": true
   },
   "outputs": [],
   "source": []
  },
  {
   "cell_type": "code",
   "execution_count": 109,
   "metadata": {
    "collapsed": true
   },
   "outputs": [],
   "source": [
    "def advection_process(N,M,omega):\n",
    "    Theta = np.linspace(0,2*np.pi,N)\n",
    "    T = np.linspace(0,20,M)\n",
    "\n",
    "    dth = Theta[1]-Theta[0]\n",
    "    dt = T[1]-T[0]\n",
    "\n",
    "    A = np.zeros((N-1,N-1))\n",
    "    b = np.zeros((N-1,M))\n",
    "\n",
    "    for i in range(N-1):\n",
    "        b[i,0] = F(Theta[i])\n",
    "        A[i,i] = 1+omega*(dt/dth)\n",
    "        if i>0:\n",
    "            A[i-1,i] = 1\n",
    "        #else:\n",
    "        #    A[-1,i] = 1\n",
    "    #print(A)\n",
    "    for j in range(M-1):\n",
    "        b[:,j+1] = np.linalg.solve(A,b[:,j])\n",
    "    return b"
   ]
  },
  {
   "cell_type": "markdown",
   "metadata": {},
   "source": [
    "# Introduction"
   ]
  },
  {
   "cell_type": "markdown",
   "metadata": {},
   "source": [
    "Commonly, exist some phenomena that can be represented as mathematical models, using differential equations. In some cases, simplificationes in the moment of making the model can reduce the difficulty of the representation, but in change, the model could not consider the effect of small factors that are occurring. "
   ]
  },
  {
   "cell_type": "code",
   "execution_count": null,
   "metadata": {
    "collapsed": true
   },
   "outputs": [],
   "source": []
  }
 ],
 "metadata": {
  "kernelspec": {
   "display_name": "Python 3",
   "language": "python",
   "name": "python3"
  },
  "language_info": {
   "codemirror_mode": {
    "name": "ipython",
    "version": 3
   },
   "file_extension": ".py",
   "mimetype": "text/x-python",
   "name": "python",
   "nbconvert_exporter": "python",
   "pygments_lexer": "ipython3",
   "version": "3.4.3"
  }
 },
 "nbformat": 4,
 "nbformat_minor": 2
}

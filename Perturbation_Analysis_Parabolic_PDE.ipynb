{
 "cells": [
  {
   "cell_type": "markdown",
   "metadata": {},
   "source": [
    "# Perturbation Analysis for Parabolic Partial Differential Equations"
   ]
  },
  {
   "cell_type": "code",
   "execution_count": 1,
   "metadata": {
    "collapsed": true
   },
   "outputs": [],
   "source": [
    "import numpy as np\n",
    "import scipy as sc\n",
    "from scipy.linalg import toeplitz\n",
    "import matplotlib.pyplot as plt\n",
    "from ipywidgets import interact"
   ]
  },
  {
   "cell_type": "markdown",
   "metadata": {},
   "source": [
    "## Introduction"
   ]
  },
  {
   "cell_type": "markdown",
   "metadata": {},
   "source": [
    "Commonly, exist some phenomena that can be represented as mathematical models, using differential equations. In some cases, simplificationes in the moment of making the model can reduce the difficulty of the representation, but in change, the model could not consider the effect of small factors that are occurring."
   ]
  },
  {
   "cell_type": "markdown",
   "metadata": {},
   "source": [
    "Parabolic Partial Differential Equations model different process in the scope of Engineering and Science. One representative Parabolic Partial Differential Equation is the following:\n",
    "$$\n",
    "\\frac{\\partial u(x,t)}{\\partial t} = d\\,\\frac{\\partial^2 u(x,t)}{\\partial x^2} + c\\,\\frac{\\partial u(x,t)}{\\partial x}\n",
    "$$"
   ]
  },
  {
   "cell_type": "markdown",
   "metadata": {},
   "source": [
    "Tipically there are processes involved in this equation: advection, difusion and reaction. "
   ]
  },
  {
   "cell_type": "markdown",
   "metadata": {},
   "source": [
    "## Method of multiple scales"
   ]
  },
  {
   "cell_type": "markdown",
   "metadata": {
    "collapsed": true
   },
   "source": [
    "The method of multiple scales is a general method applicable in a wide range of problems. In this problems there are two processes acting at the same time, each one with its own scale. \n",
    "The problem of determinate $u(x,t)$ usually has an approximated value using the approximation:\n",
    "\n",
    "$$\n",
    "u(x,t, \\varepsilon) \\approx u_0(x,t) + \\varepsilon \\, u_1(x,t)\n",
    "$$\n",
    "\n",
    "This expansion works fine with a fixed value of $t$ and $\\varepsilon$ near to zero. However, there are problems if $t \\geq \\mathcal{O}(\\varepsilon ^{-1})$. There are two processes acting simultaneously that has its own scales. So, it is necessary to introduce two time variables:\n",
    "\n",
    "- $\\tau = t$ the _fast time_\n",
    "- $T = \\varepsilon t$ the _slow time_\n",
    "\n",
    "With this variables, the solution proposed by the method has the form:\n",
    "\n",
    "$$\n",
    "u(x,t,\\varepsilon) \\approx u(x,\\tau, T, \\varepsilon)\n",
    "$$"
   ]
  },
  {
   "cell_type": "markdown",
   "metadata": {
    "collapsed": true
   },
   "source": [
    "In this maner, variations of time must be deteminated in function of the variations of the _fast time_ and _slow time_. In terms of algebra:\n",
    "\n",
    "$$\n",
    "\\frac{\\mathrm{d}}{\\mathrm{d}t} = \\left( \\frac{ \\partial }{\\partial \\tau} \\right) + \\varepsilon \\left( \\frac{\\partial}{\\partial T} \\right)\n",
    "$$"
   ]
  },
  {
   "cell_type": "markdown",
   "metadata": {},
   "source": [
    "Finally, the approximation for $u(x,t)$ that is asymptotic for $T = \\mathcal{O}(1)$ is:\n",
    "\n",
    "$$\n",
    "u(x,t,\\varepsilon) \\approx u_0(x,\\tau,T) + \\varepsilon\\, u_1(x,\\tau,T)\n",
    "$$"
   ]
  },
  {
   "cell_type": "markdown",
   "metadata": {},
   "source": [
    "The next step is to determinate the functions $u_k$, replacing into the partial differential equation and comparing coefficients of $\\varepsilon^k$ as usual."
   ]
  },
  {
   "cell_type": "markdown",
   "metadata": {},
   "source": [
    "## Application of the Method of multiple scales"
   ]
  },
  {
   "cell_type": "markdown",
   "metadata": {},
   "source": [
    "### A diffusion-advection equation"
   ]
  },
  {
   "cell_type": "markdown",
   "metadata": {},
   "source": [
    "Consider the following problem that shows advection around a periodic domain $0 < \\theta < 2\\pi$ with some small diffusion. "
   ]
  },
  {
   "cell_type": "markdown",
   "metadata": {},
   "source": [
    "\\begin{align*}\n",
    "\\frac{\\partial u(\\theta,t)}{\\partial t} + \\frac{\\partial}{\\partial \\theta} (\\omega(\\theta)\\,u(\\theta,t)) &= \\varepsilon\\frac{\\partial^2u(\\theta,t)}{\\partial \\theta^2}\\\\\n",
    "u(\\theta,0) &= F(\\theta)\\\\\n",
    "u(0,t) &= u(2\\pi,t)\n",
    "\\end{align*}"
   ]
  },
  {
   "cell_type": "markdown",
   "metadata": {},
   "source": [
    "where $\\omega(\\theta)$ is given over $0 \\leq \\theta \\leq 2\\pi$, periodic and positive. $F(\\theta)$ is a known function and $\\varepsilon$ is a tiny value."
   ]
  },
  {
   "cell_type": "markdown",
   "metadata": {},
   "source": [
    " As can be seen there are two process acting at simultaneously: advection on the fast time scale and difusion on the slow scale. According to the method, the next expansion is used:\n",
    " \n",
    "$$\n",
    "u(\\theta,t,\\varepsilon) \\approx u_0(\\theta,\\tau,T) + \\varepsilon\\, u_1(\\theta,\\tau,T)\n",
    "$$"
   ]
  },
  {
   "cell_type": "markdown",
   "metadata": {},
   "source": [
    "Sustituing into the equation and comparing coefficients there are derivated problems to solve."
   ]
  },
  {
   "cell_type": "markdown",
   "metadata": {},
   "source": [
    "**First problem**"
   ]
  },
  {
   "cell_type": "markdown",
   "metadata": {},
   "source": [
    "$\n",
    "\\mathcal{O}(1):\n",
    "$\n",
    "\n",
    "$$\n",
    "\\frac{\\partial u_0}{\\partial \\tau} + \\frac{\\partial}{\\partial \\theta}(\\omega(\\theta) \\, u_0) = 0\n",
    "$$"
   ]
  },
  {
   "cell_type": "markdown",
   "metadata": {},
   "source": [
    "The first problem can be rewrited as:\n",
    "\n",
    "$$\n",
    "\\frac{1}{\\omega} \\left( \\frac{\\partial}{\\partial \\tau} + \\omega \\frac{\\partial}{\\partial \\theta}\\right) (\\omega\\, u_0) = 0\n",
    "$$\n",
    "\n",
    "This is an advection problem that depends only of the fast time, no slow time are implicated. An observed moving at  a speed $\\omega$ will see the quantity $\\omega \\, u_0$ remain constant. If the value of $\\omega(\\theta)$ was $\\omega(\\theta) = \\omega$, where $\\omega$ is constant, the solution is reduced to $u_0(\\theta,\\tau,T) = F(\\theta-\\omega\\tau)$, where $F(\\theta)$ is the initial value. However, in a general scenario, is necessary to know how much advanced is done after a time $\\tau$. Consider the following initial value problem:\n",
    "\n",
    "\\begin{align*}\n",
    "\\frac{\\mathrm{d}\\theta}{\\mathrm{d}t} &= \\omega(\\theta)\\\\\n",
    "\\theta(0) &= 0\n",
    "\\end{align*}"
   ]
  },
  {
   "cell_type": "markdown",
   "metadata": {},
   "source": [
    "Supouse that $\\Theta(t)$ is the solution of this problem. Then, $\\theta(t)$ is a periodic function with period $P$. In order to solve the problem, a change of variable to Lagrangian coordinates $s$ and $\\tau$ will be done. Let:\n",
    "\n",
    "$$\n",
    "\\theta(s,\\tau) = \\Theta(\\tau - s)\n",
    "$$"
   ]
  },
  {
   "cell_type": "markdown",
   "metadata": {},
   "source": [
    "Using the chain rule to recast the differential equation, the following equalities are valid:\n",
    "    \n",
    "\\begin{align*}\n",
    "\\left(\\frac{\\partial}{\\partial \\tau} \\right)_s &= \\left( \\frac{\\partial}{\\partial \\tau}  \\right)_\\theta + \\omega \\left( \\frac{\\partial}{\\partial \\theta} \\right)_{\\tau}\\\\\n",
    "\\left( \\frac{\\partial}{\\partial \\theta} \\right)_\\tau &= -\\frac{1}{\\omega} \\left( \\frac{\\partial}{\\partial s} \\right)_{\\tau}\n",
    "\\end{align*}\n",
    "    "
   ]
  },
  {
   "cell_type": "markdown",
   "metadata": {},
   "source": [
    "Replacing into the equation, the problem is reduced to:\n",
    "\n",
    "$$\n",
    "\\left(\\frac{\\partial}{\\partial \\tau} \\right)_s (\\omega\\,u_0) = 0\n",
    "$$\n",
    "\n",
    "Which has constant solution in this coordinate system. So the value of $u_0$ can be determinated:\n",
    "\n",
    "$$\n",
    "u_0(\\theta, \\tau, T) = \\frac{A_0(s,T)}{\\omega(\\theta)}\n",
    "$$"
   ]
  },
  {
   "cell_type": "markdown",
   "metadata": {},
   "source": [
    "This shows that an observed moving at a speed $\\omega(\\theta)$ will see the quantity $\\omega\\,u_0$ remain constant. But, this constant is allowed to modify its value in the slow scale $T$. The initial value of this _constant_ is given by the initial condition of the problem:\n",
    "\n",
    "$$\n",
    "A_0(s,0) = F(\\Theta(-s))\\omega(\\Theta(-s))\n",
    "$$\n"
   ]
  },
  {
   "cell_type": "markdown",
   "metadata": {},
   "source": [
    "In order to deteminate $A_0$ the second problem must be aborded."
   ]
  },
  {
   "cell_type": "markdown",
   "metadata": {},
   "source": [
    "**Second Problem**"
   ]
  },
  {
   "cell_type": "markdown",
   "metadata": {},
   "source": [
    "$\n",
    "\\mathcal{O}(\\varepsilon):\n",
    "$\n",
    "\n",
    "$$\n",
    "\\frac{\\partial u_0}{\\partial T}+ \\frac{\\partial u_1}{\\partial \\tau} + \\frac{\\partial}{\\partial \\theta} (\\omega(\\theta) \\, u_1) = \\frac{\\partial^2 u_0}{\\partial \\theta^2}\n",
    "$$"
   ]
  },
  {
   "cell_type": "markdown",
   "metadata": {},
   "source": [
    "Replacing the partially determined $u_0$, the problem becomes:\n",
    "\n",
    "$$\n",
    "\\frac{1}{\\omega} \\frac{\\partial A_0}{\\partial T} + \\frac{1}{\\omega} \\left(\\frac{\\partial}{\\partial \\tau}\\right)_s (\\omega\\,u_1) = \\frac{1}{\\omega} \\left( \\frac{\\partial}{\\partial s} \\right)_{\\tau}\\frac{1}{\\omega} \\left( \\frac{\\partial}{\\partial s} \\right)_{\\tau} \\frac{A_0}{\\omega}\n",
    "$$\n",
    "\n",
    "with $\\omega = \\omega(\\Theta(\\tau-s))$ a $P$-periodic function of $s$ and $\\tau$. Thus:\n",
    "\n",
    "$$\n",
    "\\frac{\\partial A_0}{\\partial T} + \\left(\\frac{\\partial}{\\partial \\tau}\\right)_s (\\omega\\,u_1) = \\frac{1}{\\omega^2} \\frac{\\partial^2A_0}{\\partial s^2}+ \\frac{3}{2} \\frac{\\partial}{\\partial s}\\left( \\frac{1}{\\omega^2} \\right) \\frac{\\partial A_0}{\\partial s}+\\frac{1}{2}\\frac{\\partial^2}{\\partial s^2} \\left( \\frac{1}{\\omega^2}\\right) A_0\n",
    "$$"
   ]
  },
  {
   "cell_type": "markdown",
   "metadata": {},
   "source": [
    "The right side of the equation has non zero average. In order to mantain the asymptoticness of the expansion of $f$ in $T = \\mathcal{O}(1)$, the quantity $\\omega \\,u_1$ has to be bounded as $\\tau$ increases. Thus, the average with respect to $\\tau$ of the right hand side must be removed by setting equal to $\\displaystyle\\frac{\\partial A_0}{\\partial T}$. The second and third terms of the right side has zero average because they are derivatives with respect to $s$ of functions of $\\omega$ and so derivatives with respect to $\\tau$. The next equalty must be satisfied:\n",
    "\n",
    "$$\n",
    "\\frac{\\partial A_0}{\\partial T} = \\frac{1}{P} \\int_{0}^{P} \\frac{1}{\\omega^2(\\Theta(\\tau-s))} \\mathrm{d}\\tau \\frac{\\partial^2A_0}{\\partial s^2}\n",
    "$$"
   ]
  },
  {
   "cell_type": "markdown",
   "metadata": {},
   "source": [
    "The previous equation corresponds to a Parabolic PDE with diffusion coeficient equals to the average value of $1/\\omega^2$, that can be solved numerically in order to detemine $A_0$. Then, the value of $u_1$ can be obtained."
   ]
  },
  {
   "cell_type": "code",
   "execution_count": null,
   "metadata": {
    "collapsed": true
   },
   "outputs": [],
   "source": []
  },
  {
   "cell_type": "markdown",
   "metadata": {},
   "source": [
    "**Numerical Example**\n",
    "Consider the following functions for $\\omega(\\theta)$ and $F(\\theta)$.\n",
    "\\begin{align}\n",
    "\\omega(\\theta) &= 1\\\\\n",
    "\\omega'(\\theta) &= 0\\\\\n",
    "F(\\theta) &= 2\\,\\sin{(\\theta)}\n",
    "\\end{align}"
   ]
  },
  {
   "cell_type": "code",
   "execution_count": 19,
   "metadata": {
    "collapsed": true
   },
   "outputs": [],
   "source": [
    "def w(theta):\n",
    "    return theta**0 \n",
    "def wp(theta):\n",
    "    return theta*0\n",
    "\n",
    "def F(theta):\n",
    "    #return (-theta**2+2*np.pi*theta)*0.5\n",
    "    return 2*np.sin(theta)"
   ]
  },
  {
   "cell_type": "code",
   "execution_count": 43,
   "metadata": {},
   "outputs": [
    {
     "data": {
      "image/png": "[encoded data removed]",
      "text/plain": [
       "<matplotlib.figure.Figure at 0x7f3a6d513f98>"
      ]
     },
     "metadata": {},
     "output_type": "display_data"
    }
   ],
   "source": [
    "th = np.linspace(0,4*np.pi,200)\n",
    "thh = np.linspace(0,2*np.pi,100)\n",
    "W = w(th)\n",
    "plt.plot(th,w(th),\"-r\",label=r\"$w(\\theta) = 1$\")\n",
    "plt.plot(th,wp(th),\"-b\",label=r\"$w'(\\theta) = 0$\")\n",
    "plt.plot(thh,F(thh),\"-g\",label = r\"$F(\\theta) = 2\\,\\sin{(\\theta)}$\")\n",
    "\n",
    "plt.xlim(-1,12)\n",
    "plt.ylim(-2,5)\n",
    "\n",
    "plt.axvline(x=0, color='k', linestyle='--')\n",
    "plt.axvline(x=2*np.pi, color='k', linestyle='--')\n",
    "\n",
    "plt.grid(True)\n",
    "plt.legend(loc=\"best\")\n",
    "plt.show()"
   ]
  },
  {
   "cell_type": "code",
   "execution_count": null,
   "metadata": {
    "collapsed": true
   },
   "outputs": [],
   "source": []
  },
  {
   "cell_type": "markdown",
   "metadata": {},
   "source": [
    "**Numerical Example 2**\n",
    "Consider the following functions for $\\omega(\\theta)$ and $F(\\theta)$.\n",
    "\\begin{align}\n",
    "\\omega(\\theta) &= \\sin^2{\\left(\\frac{\\theta}{2}\\right)}+\\frac{1}{2}\\\\\n",
    "\\omega'(\\theta) &= \\frac{1}{2}\\sin{(\\theta)}\\\\\n",
    "F(\\theta) &= 2\\,\\sin{(\\theta)}\n",
    "\\end{align}"
   ]
  },
  {
   "cell_type": "code",
   "execution_count": 33,
   "metadata": {
    "collapsed": true
   },
   "outputs": [],
   "source": [
    "def w(theta):\n",
    "    return (np.sin(0.5*theta))**2+0.5\n",
    "\n",
    "def wp(theta):\n",
    "    return 0.5*np.sin(theta)\n",
    "    \n",
    "def F(theta):\n",
    "    #return (-theta**2+2*np.pi*theta)*0.5\n",
    "    return 2*np.sin(theta)"
   ]
  },
  {
   "cell_type": "code",
   "execution_count": 44,
   "metadata": {},
   "outputs": [
    {
     "data": {
      "image/png": "[encoded data removed]",
      "text/plain": [
       "<matplotlib.figure.Figure at 0x7f3a6d4f1668>"
      ]
     },
     "metadata": {},
     "output_type": "display_data"
    }
   ],
   "source": [
    "th = np.linspace(0,4*np.pi,200)\n",
    "thh = np.linspace(0,2*np.pi,100)\n",
    "W = w(th)\n",
    "plt.plot(th,w(th),\"-r\",label=r\"$w(\\theta) = \\sin^2{\\left(\\frac{\\theta}{2}\\right)}+\\frac{1}{2}$\")\n",
    "plt.plot(th,wp(th),\"-b\",label=r\"$w'(\\theta) = \\frac{1}{2}\\sin{(\\theta)}$\")\n",
    "plt.plot(thh,F(thh),\"-g\",label = r\"$F(\\theta) = 2\\,\\sin{(\\theta)}$\")\n",
    "\n",
    "plt.xlim(-1,12)\n",
    "plt.ylim(-2,5)\n",
    "\n",
    "plt.axvline(x=0, color='k', linestyle='--')\n",
    "plt.axvline(x=2*np.pi, color='k', linestyle='--')\n",
    "\n",
    "plt.grid(True)\n",
    "plt.legend(loc=\"best\")\n",
    "plt.show()"
   ]
  },
  {
   "cell_type": "markdown",
   "metadata": {},
   "source": [
    "Next, the problem is solved numerically with finite differences with an implicit method. Consider the problem in the form:\n",
    "\n",
    "$$\n",
    "\\frac{\\partial u(\\theta,t)}{\\partial t} + \\frac{\\partial \\omega(\\theta)}{\\partial \\theta} u(\\theta,t) + \\frac{\\partial u(\\theta,t)}{\\partial \\theta} \\omega(\\theta) = \\varepsilon \\frac{\\partial^2 u(\\theta,t)}{\\partial \\theta^2}\n",
    "$$\n",
    "\n",
    "The formulas of finite differences will be **backward in time** and **backward in space** for the first derivative.\n"
   ]
  },
  {
   "cell_type": "code",
   "execution_count": 35,
   "metadata": {
    "collapsed": true
   },
   "outputs": [],
   "source": [
    "def implicit_method(w,wp,F,N,M,eps):\n",
    "    Theta = np.linspace(0,2*np.pi,N)\n",
    "    T = np.linspace(0,20,M)\n",
    "\n",
    "    dth = Theta[1]-Theta[0]\n",
    "    dt = T[1]-T[0]\n",
    "\n",
    "    A = np.zeros((N-1,N-1))\n",
    "    b = np.zeros((N-1,M))\n",
    "\n",
    "    for i in range(N-1):\n",
    "        A[i,i] = 1+ wp(Theta[i])*dt + ((w(Theta[i])*dt)/dth) + 2*(eps*dt)/dth**2\n",
    "        b[i,0] = F(Theta[i])\n",
    "        if i==0:\n",
    "            A[i,-1] = -eps*dt/dth**2  \n",
    "        elif i==N-2:\n",
    "            A[0,i] = -w(Theta[i])*dt/dth - eps*dt/dth**2\n",
    "        if i>0:\n",
    "            A[i-1,i] = -eps*dt/dth**2\n",
    "        if i<N-2:    \n",
    "            A[i+1,i] = -w(Theta[i])*dt/dth - eps*dt/dth**2\n",
    "    #print(A)\n",
    "    for j in range(M-1):\n",
    "        b[:,j+1] = np.linalg.solve(A,b[:,j])\n",
    "    return b"
   ]
  },
  {
   "cell_type": "code",
   "execution_count": 36,
   "metadata": {
    "collapsed": true
   },
   "outputs": [],
   "source": [
    "def simulation(i,N,M,eps=0.001):\n",
    "    def w(theta):\n",
    "        return theta**0\n",
    "    def wp(theta):\n",
    "        return theta*0\n",
    "\n",
    "    def F(theta):\n",
    "        #return (-theta**2+2*np.pi*theta)*0.5\n",
    "        return 2*np.sin(theta)\n",
    "    \n",
    "    y1 = implicit_method(w,wp,F,N,M,0)\n",
    "    y2 = implicit_method(w,wp,F,N,M,0.1)\n",
    "    y3 = implicit_method(w,wp,F,N,M,0.01)\n",
    "    y4 = implicit_method(w,wp,F,N,M,0.0001)\n",
    "    Theta = np.linspace(0,2*np.pi,N)\n",
    "    T = np.linspace(0,100,M)\n",
    "    \n",
    "    plt.plot(Theta[:-1],y1[:,i],\"yo\", label=\"eps=0\")\n",
    "    plt.plot(Theta[:-1],y2[:,i],\"bo\", label=\"eps=0.1\")\n",
    "    plt.plot(Theta[:-1],y3[:,i],\"ro\", label=\"eps=0.01\")\n",
    "    plt.plot(Theta[:-1],y3[:,i],\"ro\", label=\"eps=0.0001\")\n",
    "    plt.plot(Theta[:-1],y4[:,i],\"ko\", label=\"eps=0.0001\")\n",
    "    plt.ylim(-5,6)\n",
    "    plt.grid(True)\n",
    "    plt.title(\"t = \"+str(T[i])+\" [s]\")\n",
    "    plt.legend(loc=\"best\")\n",
    "    plt.show()\n",
    "    "
   ]
  },
  {
   "cell_type": "code",
   "execution_count": 37,
   "metadata": {},
   "outputs": [
    {
     "data": {
      "application/vnd.jupyter.widget-view+json": {
       "model_id": "1beba4dbd5c2424981cc9924c7a8e0cf"
      }
     },
     "metadata": {},
     "output_type": "display_data"
    },
    {
     "data": {
      "text/plain": [
       "<function __main__.simulation>"
      ]
     },
     "execution_count": 37,
     "metadata": {},
     "output_type": "execute_result"
    }
   ],
   "source": [
    "interact(simulation,i=(0,69),N=80,M=70)"
   ]
  },
  {
   "cell_type": "code",
   "execution_count": 40,
   "metadata": {
    "collapsed": true
   },
   "outputs": [],
   "source": [
    "def simulation2(i,N,M,eps=0.001):\n",
    "    def w(theta):\n",
    "        return (np.sin(0.5*theta))**2+0.5  \n",
    "    def wp(theta):\n",
    "        return 0.5*np.sin(theta)\n",
    "\n",
    "    def F(theta):\n",
    "        #return (-theta**2+2*np.pi*theta)*0.5\n",
    "        return 2*np.sin(theta)\n",
    "    \n",
    "    \n",
    "    y1 = implicit_method(w,wp,F,N,M,0)\n",
    "    y2 = implicit_method(w,wp,F,N,M,0.1)\n",
    "    y3 = implicit_method(w,wp,F,N,M,0.01)\n",
    "    y4 = implicit_method(w,wp,F,N,M,0.0001)\n",
    "    Theta = np.linspace(0,2*np.pi,N)\n",
    "    T = np.linspace(0,100,M)\n",
    "    \n",
    "    plt.plot(Theta[:-1],y1[:,i],\"yo\", label=\"eps=0\")\n",
    "    plt.plot(Theta[:-1],y2[:,i],\"bo\", label=\"eps=0.1\")\n",
    "    plt.plot(Theta[:-1],y3[:,i],\"ro\", label=\"eps=0.01\")\n",
    "    plt.plot(Theta[:-1],y3[:,i],\"ro\", label=\"eps=0.0001\")\n",
    "    plt.plot(Theta[:-1],y4[:,i],\"ko\", label=\"eps=0.0001\")\n",
    "    plt.ylim(-8,10)\n",
    "    plt.grid(True)\n",
    "    plt.title(\"t = \"+str(T[i])+\" [s]\")\n",
    "    plt.legend(loc=\"best\")\n",
    "    plt.show()"
   ]
  },
  {
   "cell_type": "code",
   "execution_count": 41,
   "metadata": {},
   "outputs": [
    {
     "data": {
      "application/vnd.jupyter.widget-view+json": {
       "model_id": "005dadd299af4caa96e4963ff590484b"
      }
     },
     "metadata": {},
     "output_type": "display_data"
    },
    {
     "data": {
      "text/plain": [
       "<function __main__.simulation2>"
      ]
     },
     "execution_count": 41,
     "metadata": {},
     "output_type": "execute_result"
    }
   ],
   "source": [
    "interact(simulation2,i=(0,69),N=80,M=70)"
   ]
  },
  {
   "cell_type": "code",
   "execution_count": null,
   "metadata": {
    "collapsed": true
   },
   "outputs": [],
   "source": []
  }
 ],
 "metadata": {
  "kernelspec": {
   "display_name": "Python 3",
   "language": "python",
   "name": "python3"
  },
  "language_info": {
   "codemirror_mode": {
    "name": "ipython",
    "version": 3
   },
   "file_extension": ".py",
   "mimetype": "text/x-python",
   "name": "python",
   "nbconvert_exporter": "python",
   "pygments_lexer": "ipython3",
   "version": "3.5.2"
  }
 },
 "nbformat": 4,
 "nbformat_minor": 1
}

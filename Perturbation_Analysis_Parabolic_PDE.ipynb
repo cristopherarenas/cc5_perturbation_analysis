{
 "cells": [
  {
   "cell_type": "markdown",
   "metadata": {},
   "source": [
    "# Perturbation Analysis for Parabolic Partial Differential Equations"
   ]
  },
  {
   "cell_type": "code",
   "execution_count": 1,
   "metadata": {
    "collapsed": true
   },
   "outputs": [],
   "source": [
    "import numpy as np\n",
    "import scipy as sc\n",
    "from scipy.linalg import toeplitz\n",
    "import matplotlib.pyplot as plt\n",
    "from ipywidgets import *\n",
    "%matplotlib inline\n",
    "\n",
    "import matplotlib as mpl\n",
    "mpl.rcParams['lines.linewidth'] = 2\n",
    "mpl.rcParams['font.size'] = 15"
   ]
  },
  {
   "cell_type": "code",
   "execution_count": 2,
   "metadata": {
    "collapsed": true
   },
   "outputs": [],
   "source": [
    "def cubic_spline(x, y, end=None, k1=0, k2=0, p1=0, p2=0):\n",
    "    #x: x-coordinates of points\n",
    "    #y: y-coordinates of points\n",
    "    #end: Natural, Adjusted, Clamped, Parabolically, NaK\n",
    "    \n",
    "    n = len(x)\n",
    "    A = np.zeros((3*n-3, 3*n-3))\n",
    "    b = np.zeros(3*n-3)\n",
    "    \n",
    "    delta_x=np.diff(x)\n",
    "       \n",
    "    #Building the linear system of equations\n",
    "    \n",
    "    #1st property\n",
    "    for i in np.arange(n-1):\n",
    "        b[i]= y[i+1]-y[i]\n",
    "        A[i,3*i:3*(i+1)] = [delta_x[i],delta_x[i]**2,delta_x[i]**3]\n",
    "    #2nd property\n",
    "    for i in np.arange(n-2):\n",
    "        A[(n-1)+i,3*i:3*(i+1)+1]=[1, 2*delta_x[i], 3*delta_x[i]**2, -1]\n",
    "    #3rd property\n",
    "    for i in np.arange(n-2):\n",
    "        A[(n-1)+(n-2)+i,3*i:3*(i+1)+2] = [0, 2, 6*delta_x[i], 0, -2]\n",
    "    \n",
    "    #Ending conditions (4th property)\n",
    "    if end =='Natural':\n",
    "        A[-2,1]= 2\n",
    "        A[-1,-2] = 2\n",
    "        A[-1,-1] = 6*delta_x[-1]\n",
    "\n",
    "    elif end == 'Adjusted':\n",
    "        A[-2,1]= 2\n",
    "        A[-1,-2] = 2\n",
    "        A[-1,-1] = 6*delta_x[-1]\n",
    "        b[-2:] = [k1,k2]\n",
    "        print('Adjusted',b[-2:])\n",
    "\n",
    "    elif end == 'Clamped':\n",
    "        A[-2,0]=1\n",
    "        A[-1,-3:] = [1,2*delta_x[-1],3*delta_x[-1]**2]\n",
    "        b[-2:] = [p1,p2]\n",
    "\n",
    "    elif end == 'Parabolically':\n",
    "        A[-2,2]=1\n",
    "        A[-1,-1]=1\n",
    "\n",
    "    elif end == 'NaK':\n",
    "        A[-2,2:6]=[6,0,0,-6]\n",
    "        A[-1,-4:]=[6,0,0,-6]\n",
    "    \n",
    "    #Solving the system\n",
    "    sol = np.linalg.solve(A,b)\n",
    "    S = {'b':sol[::3],\n",
    "         'c':sol[1::3],\n",
    "         'd':sol[2::3],\n",
    "         'x':x,\n",
    "         'y':y\n",
    "        }\n",
    "    return S\n",
    "\n",
    "def cubic_spline_eval(xx,S):\n",
    "    x=S['x']\n",
    "    y=S['y']\n",
    "    b=S['b']\n",
    "    c=S['c']\n",
    "    d=S['d']\n",
    "    n=len(x)\n",
    "    yy=float(\"nan\")\n",
    "    for i in np.arange(n-1):\n",
    "        if x[i] <= xx and xx <= x[i+1]:\n",
    "            yy = y[i]+b[i]*(xx-x[i])+c[i]*(xx-x[i])**2+d[i]*(xx-x[i])**3\n",
    "    return yy\n",
    "\n",
    "def cubic_spline_eval2(xx,S):\n",
    "    x=S['x']\n",
    "    y=S['y']\n",
    "    b=S['b']\n",
    "    c=S['c']\n",
    "    d=S['d']\n",
    "    n=len(x)\n",
    "    yy=np.zeros_like(xx)\n",
    "    for i in np.arange(n-1):\n",
    "        jj = np.where(np.logical_and(x[i]<=xx,xx<=x[i+1]))\n",
    "        yy[jj]=y[i]+b[i]*(xx[jj]-x[i])+c[i]*(xx[jj]-x[i])**2+d[i]*(xx[jj]-x[i])**3\n",
    "    return yy"
   ]
  },
  {
   "cell_type": "code",
   "execution_count": 3,
   "metadata": {
    "collapsed": true
   },
   "outputs": [],
   "source": [
    "def bisect(f, a, b, verb=False, tol=10e-12):\n",
    "    fa = f(a)\n",
    "    fb = f(b)\n",
    "    i = 0\n",
    "    # Just checking if the sign is not negative => not root  necessarily \n",
    "    if np.sign(f(a)*f(b)) >= 0:\n",
    "        print('f(a)f(b)<0 not satisfied!')\n",
    "        return None\n",
    "    \n",
    "    if verb:\n",
    "        #Printing the evolution of the computation of the root\n",
    "        print(' i |     a     |     c     |     b     |     fa    |     fc     |     fb     |   b-a')\n",
    "        print('----------------------------------------------------------------------------------------')\n",
    "    \n",
    "    while(b-a)/2 > tol:\n",
    "        c = (a+b)/2.\n",
    "        fc = f(c)\n",
    "        if verb:\n",
    "            print('%2d | %.7f | %.7f | %.7f | %.7f | %.7f | %.7f | %.7f' % (i+1, a, c, b, fa, fc, fb, b-a))\n",
    "        # Did we find the root?\n",
    "        if fc == 0:\n",
    "            print('f(c)==0')\n",
    "            break\n",
    "        elif np.sign(fa*fc) < 0:\n",
    "            b = c\n",
    "            fb = fc\n",
    "        else:\n",
    "            a = c\n",
    "            fa = fc\n",
    "        i += 1\n",
    "        \n",
    "    xc = (a+b)/2.\n",
    "    return xc"
   ]
  },
  {
   "cell_type": "code",
   "execution_count": 4,
   "metadata": {
    "collapsed": true
   },
   "outputs": [],
   "source": [
    "def simpsons(myfun, N, a, b, verbose=False, text=\"\", figname=\"\"):\n",
    "    f = np.vectorize(myfun) # So we can apply it to arrays without trouble\n",
    "    x = np.linspace(a, b, N+1) # We want N bins, so N+1 points\n",
    "    if N%2==1:\n",
    "        if verbose: print(\"Simpsons rule only applicable to even number of segments\")\n",
    "        return np.nan\n",
    "    dx = x[1]-x[0]\n",
    "    xleft   = x[:-2:2]\n",
    "    xmiddle = x[1::2]\n",
    "    xright  = x[2::2]\n",
    "    int_val = sum((f(xleft)+4*f(xmiddle)+f(xright))*dx/3)\n",
    "    if verbose:\n",
    "        xbin, ybin = simpsons_bins(f, xleft, xmiddle, xright)\n",
    "        plot(f, xbin, ybin, int_val, N, text, figname)\n",
    "    return int_val"
   ]
  },
  {
   "cell_type": "code",
   "execution_count": 5,
   "metadata": {
    "collapsed": true
   },
   "outputs": [],
   "source": [
    "def plot_functions(w,F):\n",
    "    th = np.linspace(0,4*np.pi,200)\n",
    "    thh = np.linspace(0,2*np.pi,100)\n",
    "    W = w(th)\n",
    "    \n",
    "    plt.figure(figsize=(18,5))\n",
    "    \n",
    "    plt.subplot(121)\n",
    "    plt.plot(th,w(th),\"-r\",label=r\"$w(\\theta) = 1$\")\n",
    "    plt.plot(th,wp(th),\"-b\",label=r\"$w'(\\theta) = 0$\")\n",
    "    plt.xlim(-1,12)\n",
    "    plt.ylim(-4,4)\n",
    "    plt.axvline(x=0, color='k', linestyle='--')\n",
    "    plt.axvline(x=2*np.pi, color='k', linestyle='--')\n",
    "    plt.grid(True)\n",
    "    plt.xlabel(r\"$\\theta$\")\n",
    "    plt.legend(loc=\"best\")\n",
    "    \n",
    "    plt.subplot(122)\n",
    "    plt.plot(thh,F(thh),\"-g\",label = r\"$F(\\theta) = 2\\,\\sin{(\\theta)}$\")\n",
    "    plt.xlim(-1,7)\n",
    "    plt.ylim(-4,4)\n",
    "    plt.axvline(x=0, color='k', linestyle='--')\n",
    "    plt.axvline(x=2*np.pi, color='k', linestyle='--')\n",
    "    plt.grid(True)\n",
    "    plt.xlabel(r\"$\\theta$\")\n",
    "    plt.ylabel(r\"$F(\\theta)$\")\n",
    "    plt.legend(loc=\"best\")\n",
    "    plt.show()"
   ]
  },
  {
   "cell_type": "code",
   "execution_count": 6,
   "metadata": {
    "collapsed": true
   },
   "outputs": [],
   "source": [
    "#for testing\n",
    "def w(theta):\n",
    "    return theta**0\n",
    "    #return (np.sin(0.5*theta))**2+0.5\n",
    "    #return (np.cos(0.5*theta))**2+0.5\n",
    "def wp(theta):\n",
    "    return theta*0\n",
    "    #return 0.5*np.sin(theta)\n",
    "    #return -2*np.sin(2*theta)\n",
    "def F(theta):\n",
    "    return 2*np.sin(theta)"
   ]
  },
  {
   "cell_type": "markdown",
   "metadata": {},
   "source": [
    "## Introduction"
   ]
  },
  {
   "cell_type": "markdown",
   "metadata": {},
   "source": [
    "Commonly, exist some phenomena that can be represented as mathematical models, using differential equations. In some cases, simplificationes in the moment of making the model can reduce the difficulty of the representation, but in change, the model could not consider the effect of small factors that are occurring."
   ]
  },
  {
   "cell_type": "markdown",
   "metadata": {},
   "source": [
    "Parabolic Partial Differential Equations model different process in the scope of Engineering and Science. One representative Parabolic Partial Differential Equation is the following:\n",
    "$$\n",
    "\\frac{\\partial u(x,t)}{\\partial t} = d\\,\\frac{\\partial^2 u(x,t)}{\\partial x^2} + c\\,\\frac{\\partial u(x,t)}{\\partial x}\n",
    "$$"
   ]
  },
  {
   "cell_type": "markdown",
   "metadata": {},
   "source": [
    "Tipically there are processes involved in this equation: advection, difusion and reaction. "
   ]
  },
  {
   "cell_type": "markdown",
   "metadata": {},
   "source": [
    "## Method of multiple scales"
   ]
  },
  {
   "cell_type": "markdown",
   "metadata": {
    "collapsed": true
   },
   "source": [
    "The method of multiple scales is a general method applicable in a wide range of problems. In this problems there are two processes acting at the same time, each one with its own scale. \n",
    "The problem of determinate $u(x,t)$ usually has an approximated value using the approximation:\n",
    "\n",
    "$$\n",
    "u(x,t, \\varepsilon) \\approx u_0(x,t) + \\varepsilon \\, u_1(x,t)\n",
    "$$\n",
    "\n",
    "This expansion works fine with a fixed value of $t$ and $\\varepsilon$ near to zero. However, there are problems if $t \\geq \\mathcal{O}(\\varepsilon ^{-1})$. There are two processes acting simultaneously that has its own scales. So, it is necessary to introduce two time variables:\n",
    "\n",
    "- $\\tau = t$ the _fast time_\n",
    "- $T = \\varepsilon t$ the _slow time_\n",
    "\n",
    "With this variables, the solution proposed by the method has the form:\n",
    "\n",
    "$$\n",
    "u(x,t,\\varepsilon) \\approx u(x,\\tau, T, \\varepsilon)\n",
    "$$"
   ]
  },
  {
   "cell_type": "markdown",
   "metadata": {
    "collapsed": true
   },
   "source": [
    "In this maner, variations of time must be deteminated in function of the variations of the _fast time_ and _slow time_. In terms of algebra:\n",
    "\n",
    "$$\n",
    "\\frac{\\mathrm{d}}{\\mathrm{d}t} = \\left( \\frac{ \\partial }{\\partial \\tau} \\right) + \\varepsilon \\left( \\frac{\\partial}{\\partial T} \\right)\n",
    "$$"
   ]
  },
  {
   "cell_type": "markdown",
   "metadata": {},
   "source": [
    "Finally, the approximation for $u(x,t)$ that is asymptotic for $T = \\mathcal{O}(1)$ is:\n",
    "\n",
    "$$\n",
    "u(x,t,\\varepsilon) \\approx u_0(x,\\tau,T) + \\varepsilon\\, u_1(x,\\tau,T)\n",
    "$$"
   ]
  },
  {
   "cell_type": "markdown",
   "metadata": {},
   "source": [
    "The next step is to determinate the functions $u_k$, replacing into the partial differential equation and comparing coefficients of $\\varepsilon^k$ as usual."
   ]
  },
  {
   "cell_type": "markdown",
   "metadata": {},
   "source": [
    "## A diffusion-advection equation"
   ]
  },
  {
   "cell_type": "markdown",
   "metadata": {},
   "source": [
    "### Application of the Method of multiple scales"
   ]
  },
  {
   "cell_type": "markdown",
   "metadata": {},
   "source": [
    "Consider the following problem that shows advection around a periodic domain $0 < \\theta < 2\\pi$ with some small diffusion. "
   ]
  },
  {
   "cell_type": "markdown",
   "metadata": {},
   "source": [
    "\\begin{align*}\n",
    "\\frac{\\partial u(\\theta,t)}{\\partial t} + \\frac{\\partial}{\\partial \\theta} (\\omega(\\theta)\\,u(\\theta,t)) &= \\varepsilon\\frac{\\partial^2u(\\theta,t)}{\\partial \\theta^2}\\\\\n",
    "u(\\theta,0) &= F(\\theta)\\\\\n",
    "u(0,t) &= u(2\\pi,t)\n",
    "\\end{align*}"
   ]
  },
  {
   "cell_type": "markdown",
   "metadata": {},
   "source": [
    "where $\\omega(\\theta)$ is given over $0 \\leq \\theta \\leq 2\\pi$, periodic and positive. $F(\\theta)$ is a known function and $\\varepsilon$ is a tiny value."
   ]
  },
  {
   "cell_type": "markdown",
   "metadata": {},
   "source": [
    " As can be seen there are two process acting at simultaneously: advection on the fast time scale and difusion on the slow scale. According to the method, the next expansion is used:\n",
    " \n",
    "$$\n",
    "u(\\theta,t,\\varepsilon) \\approx u_0(\\theta,\\tau,T) + \\varepsilon\\, u_1(\\theta,\\tau,T)\n",
    "$$"
   ]
  },
  {
   "cell_type": "markdown",
   "metadata": {},
   "source": [
    "Sustituing into the equation and comparing coefficients there are derivated problems to solve."
   ]
  },
  {
   "cell_type": "markdown",
   "metadata": {},
   "source": [
    "**First problem**"
   ]
  },
  {
   "cell_type": "markdown",
   "metadata": {},
   "source": [
    "$\n",
    "\\mathcal{O}(1):\n",
    "$\n",
    "\n",
    "$$\n",
    "\\frac{\\partial u_0}{\\partial \\tau} + \\frac{\\partial}{\\partial \\theta}(\\omega(\\theta) \\, u_0) = 0\n",
    "$$"
   ]
  },
  {
   "cell_type": "markdown",
   "metadata": {},
   "source": [
    "The first problem can be rewrited as:\n",
    "\n",
    "$$\n",
    "\\frac{1}{\\omega} \\left( \\frac{\\partial}{\\partial \\tau} + \\omega \\frac{\\partial}{\\partial \\theta}\\right) (\\omega\\, u_0) = 0\n",
    "$$\n",
    "\n",
    "This is an advection problem that depends only of the fast time, no slow time are implicated. An observed moving at  a speed $\\omega$ will see the quantity $\\omega \\, u_0$ remain constant. If the value of $\\omega(\\theta)$ was $\\omega(\\theta) = \\omega$, where $\\omega$ is constant, the solution is reduced to $u_0(\\theta,\\tau,T) = F(\\theta-\\omega\\tau)$, where $F(\\theta)$ is the initial value. However, in a general scenario, is necessary to know how much advanced is done after a time $\\tau$. Consider the following initial value problem:\n",
    "\n",
    "\\begin{align*}\n",
    "\\frac{\\mathrm{d}\\theta}{\\mathrm{d}t} &= \\omega(\\theta)\\\\\n",
    "\\theta(0) &= 0\n",
    "\\end{align*}\n",
    "\n",
    "Supouse that $\\Theta(t)$ is the solution of this problem and, since $\\theta$ is a periodic variable, the function $\\Theta(t)$ has a period $P$."
   ]
  },
  {
   "cell_type": "markdown",
   "metadata": {},
   "source": [
    "The next function solves the Initial Value Problem explained before using the Forward Euler Method. The return of this function is the function $\\Theta(t)$ constructed from a cubic spline. Also, the period $P$ of the function $\\Theta(t)$ was computed with the reconstructed funcion form cubic spline [2] modulo $2\\pi$. A verification of the period was employed using the Bisection method [1]. In order to determinate a value $s$ such that $\\Theta(s) = \\hat{\\theta}$, since $\\Theta(0) = 0$. Let $T(s)$ be the function:\n",
    "\n",
    "$$\n",
    "T(s) = \\Theta(s) - \\hat{\\theta}\n",
    "$$\n",
    "\n",
    "So, finding a root for $T(s)$, is possible to verify when the displacement reaches multiplies of $2\\pi$ and later, obtain the period $P$."
   ]
  },
  {
   "cell_type": "code",
   "execution_count": 7,
   "metadata": {
    "collapsed": true
   },
   "outputs": [],
   "source": [
    "def solve_IVP(w,t_max=10,show_plot=False):\n",
    "    #using Explicit Euler Method to estimate de IVP\n",
    "    t = np.linspace(0,t_max,50)\n",
    "    tt = np.linspace(0,t_max,1000)\n",
    "    h = t[1] - t[0]\n",
    "    theta = np.zeros(t.shape)\n",
    "    theta[0] = 0\n",
    "    for i in range(t.shape[0]-1):\n",
    "        theta[i+1] = theta[i] + h*w(theta[i])\n",
    "        \n",
    "    #compute cubic splines for estimate the funtion\n",
    "    spl = cubic_spline(t,theta,end=\"Natural\")\n",
    "    \n",
    "    if show_plot:\n",
    "        plt.figure(figsize=(8,5))\n",
    "        #plot points of the numerical solution for theta\n",
    "        plt.plot(t,theta,\"ro\",label=r\"$\\Theta(t)$\")    \n",
    "        #plot spline function using the previous points\n",
    "        plt.plot(tt,cubic_spline_eval2(tt,spl),\"-g\",label=r\"Splines for $\\Theta(t)$\")\n",
    "        \n",
    "        #get the period of the function\n",
    "        #th = [2*np.pi,4*np.pi,6*np.pi]\n",
    "        th = [2*np.pi]\n",
    "        list_s = []   \n",
    "\n",
    "        for i in th:\n",
    "            f = lambda x: cubic_spline_eval(x,spl) - i\n",
    "            #obtain the time s where theta(s) = 2pi, 4pi and 6pi\n",
    "            s = bisect(f,0,t_max,verb=False)\n",
    "            #plot a vertical line\n",
    "            plt.axvline(x=s, color='k', linestyle='--')\n",
    "            list_s.append(s)\n",
    "\n",
    "        #plot the points where theta(s) = 2pi, 4pi and 6pi\n",
    "        plt.plot(list_s,th,\"Db\")   \n",
    "        \n",
    "        #plot the spline functions mod 2pi to verify the period\n",
    "        plt.plot(tt,(cubic_spline_eval2(tt,spl)%(2*np.pi)),\"-b\",label=r\"$\\Theta(t)$ mod $2\\pi$\")\n",
    "        #other configurations of the plot\n",
    "        plt.grid(True)\n",
    "        plt.legend(loc=\"best\")\n",
    "        plt.xlabel(r\"$t$\")\n",
    "        plt.ylabel(r\"$\\Theta(t)$\")\n",
    "        plt.title(\"Period P = \"+str(list_s[0])+\" [s]\")\n",
    "        #save image in pdf\n",
    "        plt.savefig(\"Theta.pdf\")\n",
    "        plt.show()\n",
    "        \n",
    "    Theta = lambda x: cubic_spline_eval(x,spl)\n",
    "    \n",
    "    return Theta"
   ]
  },
  {
   "cell_type": "markdown",
   "metadata": {},
   "source": [
    "In order to solve the first problem, a change of variable to Lagrangian coordinates $s$ and $\\tau$ will be done. Let:\n",
    "\n",
    "$$\n",
    "\\theta(s,\\tau) = \\Theta(\\tau - s)\n",
    "$$\n",
    "\n",
    "Where $s$ is the **time delay** since $\\theta$ was zero. With that, the coordinate system consisting of one spatial variable $\\theta$ and temporal variables $\\tau$ and $T$, changes into temporal variables $\\tau$, $T$ and $s$."
   ]
  },
  {
   "cell_type": "markdown",
   "metadata": {},
   "source": [
    "Using the chain rule to recast the differential equation, the following equalities are valid:\n",
    "    \n",
    "\\begin{align*}\n",
    "\\left(\\frac{\\partial}{\\partial \\tau} \\right)_s &= \\left( \\frac{\\partial}{\\partial \\tau}  \\right)_\\theta + \\omega \\left( \\frac{\\partial}{\\partial \\theta} \\right)_{\\tau}\\\\\n",
    "\\left( \\frac{\\partial}{\\partial \\theta} \\right)_\\tau &= -\\frac{1}{\\omega} \\left( \\frac{\\partial}{\\partial s} \\right)_{\\tau}\n",
    "\\end{align*}\n",
    "    "
   ]
  },
  {
   "cell_type": "markdown",
   "metadata": {},
   "source": [
    "Replacing into the equation, the problem is reduced to:\n",
    "\n",
    "$$\n",
    "\\left(\\frac{\\partial}{\\partial \\tau} \\right)_s (\\omega\\,u_0) = 0\n",
    "$$\n",
    "\n",
    "Which has constant solution for variable $\\tau$ in this coordinate system. The value of $u_0$ can be determinated defining a function $A_0$, which depends of $s$ and $T$ and the speed $\\omega$:\n",
    "\n",
    "$$\n",
    "u_0(\\theta, \\tau, T) = \\frac{A_0(s,T)}{\\omega(\\theta)}\n",
    "$$"
   ]
  },
  {
   "cell_type": "markdown",
   "metadata": {},
   "source": [
    "This shows that an observed moving at a speed $\\omega(\\theta)$ will see the quantity $\\omega\\,u_0$ remain constant. But, this constant is allowed to modify its value in the slow scale $T$. The initial value of this _constant_ is given by the initial condition of the problem:\n",
    "\n",
    "$$\n",
    "A_0(s,0) = F(\\Theta(-s))\\omega(\\Theta(-s))\n",
    "$$\n"
   ]
  },
  {
   "cell_type": "markdown",
   "metadata": {},
   "source": [
    "In order to deteminate $A_0$ the second problem must be aborded."
   ]
  },
  {
   "cell_type": "markdown",
   "metadata": {},
   "source": [
    "**Second Problem**"
   ]
  },
  {
   "cell_type": "markdown",
   "metadata": {},
   "source": [
    "$\n",
    "\\mathcal{O}(\\varepsilon):\n",
    "$\n",
    "\n",
    "$$\n",
    "\\frac{\\partial u_0}{\\partial T}+ \\frac{\\partial u_1}{\\partial \\tau} + \\frac{\\partial}{\\partial \\theta} (\\omega(\\theta) \\, u_1) = \\frac{\\partial^2 u_0}{\\partial \\theta^2}\n",
    "$$"
   ]
  },
  {
   "cell_type": "markdown",
   "metadata": {},
   "source": [
    "Replacing the partially determined $u_0$, the problem becomes:\n",
    "\n",
    "$$\n",
    "\\frac{1}{\\omega} \\frac{\\partial A_0}{\\partial T} + \\frac{1}{\\omega} \\left(\\frac{\\partial}{\\partial \\tau}\\right)_s (\\omega\\,u_1) = \\frac{1}{\\omega} \\left( \\frac{\\partial}{\\partial s} \\right)_{\\tau}\\frac{1}{\\omega} \\left( \\frac{\\partial}{\\partial s} \\right)_{\\tau} \\frac{A_0}{\\omega}\n",
    "$$\n",
    "\n",
    "with $\\omega = \\omega(\\Theta(\\tau-s))$ a $P$-periodic function of $s$ and $\\tau$. Thus:\n",
    "\n",
    "$$\n",
    "\\frac{\\partial A_0}{\\partial T} + \\left(\\frac{\\partial}{\\partial \\tau}\\right)_s (\\omega\\,u_1) = \\frac{1}{\\omega^2} \\frac{\\partial^2A_0}{\\partial s^2}+ \\frac{3}{2} \\frac{\\partial}{\\partial s}\\left( \\frac{1}{\\omega^2} \\right) \\frac{\\partial A_0}{\\partial s}+\\frac{1}{2}\\frac{\\partial^2}{\\partial s^2} \\left( \\frac{1}{\\omega^2}\\right) A_0\n",
    "$$"
   ]
  },
  {
   "cell_type": "markdown",
   "metadata": {},
   "source": [
    "The right side of the equation has non zero average. In order to mantain the asymptoticness of the expansion of $f$ in $T = \\mathcal{O}(1)$, the quantity $\\omega \\,u_1$ has to be bounded as $\\tau$ increases. Thus, the average with respect to $\\tau$ of the right hand side must be removed by setting equal to $\\displaystyle\\frac{\\partial A_0}{\\partial T}$. The second and third terms of the right side has zero average because they are derivatives with respect to $s$ of functions of $\\omega$ and so derivatives with respect to $\\tau$. The next equalty must be satisfied:\n",
    "\n",
    "$$\n",
    "\\frac{\\partial A_0}{\\partial T} = \\frac{1}{P} \\int_{0}^{P} \\frac{1}{\\omega^2(\\Theta(\\tau-s))} \\mathrm{d}\\tau \\frac{\\partial^2A_0}{\\partial s^2}\n",
    "$$"
   ]
  },
  {
   "cell_type": "markdown",
   "metadata": {},
   "source": [
    "The previous equation corresponds to a Parabolic PDE with diffusion coeficient equals to the average value of $1/\\omega^2$, that can be solved numerically in order to detemine $A_0$."
   ]
  },
  {
   "cell_type": "markdown",
   "metadata": {},
   "source": [
    "**Generically**, the problem can be solve using a numerical aproximation for the integral and using the value obtained in the PDE:\n",
    "\n",
    "$$\n",
    "\\begin{aligned}\n",
    "\\int_{0}^{P} \\frac{1}{\\omega^2(\\Theta(\\tau-s))} \\approx \\sum_{i=1}^{K} w_i \\frac{1}{\\omega^2(\\Theta(\\tau_i-s))} = c(s)\n",
    "\\end{aligned}\n",
    "$$\n",
    "\n",
    "Where $w_i$ is the weigh used in the sum of $K$ terms and depends of the numerical method used to estimate the value of the integral. Also, this value depends of temporal variable $s$. So, let $c(s)$ the value of the integral divided by the period $P$ using a numerical method.\n",
    "\n",
    "Now, considering the PDE with the estimation of the integral, and using an implicit approach for the variable $T$ and central difference for the variable $s$:\n",
    "\n",
    "$$\n",
    "\\begin{aligned}\n",
    "\\frac{\\partial A_0}{\\partial T} &= c(s) \\frac{\\partial^2A_0}{\\partial s^2}\n",
    "\\end{aligned}\n",
    "$$\n",
    "\n",
    "The equations to be solved for $j = 1, 2, \\ldots N$ are:\n",
    "\n",
    "$$\n",
    "- \\sigma_j\\,a_{j-1,n+1} + (1+2\\,\\sigma_j)\\,a_{j,n+1}-\\sigma_j\\,a_{j+1,n} = a_{j,n}\n",
    "$$\n",
    "\n",
    "where $\\sigma_j = \\displaystyle\\frac{c(s_j)\\Delta T}{\\Delta s^2}$. And $s$ is a periodic variable.\n"
   ]
  },
  {
   "cell_type": "markdown",
   "metadata": {},
   "source": [
    "The next code implements the solution of this PDE, according to the previous explanation"
   ]
  },
  {
   "cell_type": "code",
   "execution_count": 8,
   "metadata": {
    "collapsed": true,
    "scrolled": false
   },
   "outputs": [],
   "source": [
    "def solve_a0(w,F,eps=0.01,t_max=10,points_s=50,points_T=500):\n",
    "    Theta = solve_IVP(w,25)\n",
    "    th1 = lambda x: Theta(x) - 2*np.pi\n",
    "    th2 = lambda x: Theta(x) - 4*np.pi\n",
    "    #t1 is the period P of Theta(t)\n",
    "    t1 = bisect(th1,0,25,verb=False)\n",
    "    #t2 is two periods of Theta(t)\n",
    "    t2 = bisect(th2,0,25,verb=False)\n",
    "\n",
    "    #take equidistant values in the s axis\n",
    "    s = np.linspace(0,t1,points_s)\n",
    "    delta_s = s[1] - s[0]\n",
    "    \n",
    "    #tau is taked between P and 2*P for correctly evaluation of Theta(t)\n",
    "    tau = np.linspace(t1,t2,points_s)\n",
    "    #vector c for save the values of c_j\n",
    "    c = np.zeros_like(s)\n",
    "    \n",
    "    for j in range(s.shape[0]):\n",
    "        #compute the numerical quadrature of myfun with variable s\n",
    "        myfun = lambda x: 1/((w(Theta(x-s[j])))**2)\n",
    "        #using simpsons rule, number points_s must be EVEN\n",
    "        val = simpsons(myfun, points_s, t1, t2)/t1\n",
    "        #saving the value of c_j\n",
    "        c[j] = val\n",
    "    \n",
    "    #computing delta_T\n",
    "    delta_T = (t_max)/points_T\n",
    "    #compute the values of sigma_j\n",
    "    sigma = (delta_T/(delta_s**0.5))*c\n",
    "    \n",
    "    #compute matrix\n",
    "    A = np.zeros((points_s,points_s))\n",
    "    for i in range(points_s):\n",
    "        A[i][i] = 1+2*sigma[i]\n",
    "        if i < points_s-1:\n",
    "            A[i+1][i] = -sigma[i]\n",
    "        if i > 0:\n",
    "            A[i-1][i] = -sigma[i]\n",
    "    A[-1][0] = -sigma[0]\n",
    "    A[0][-1] = -sigma[-1]\n",
    "    \n",
    "    \n",
    "    sols = np.zeros((points_s,points_T+1))\n",
    "    for i in range(points_s):\n",
    "        sols[i,0] = F(Theta(t1-s[i]))*w(Theta(t1-s[i]))\n",
    "        \n",
    "    for i in range(1,points_T+1):\n",
    "        sols[:,i] = np.linalg.solve(A,sols[:,i-1])    \n",
    "    return s,sols,delta_T"
   ]
  },
  {
   "cell_type": "code",
   "execution_count": 9,
   "metadata": {
    "collapsed": true
   },
   "outputs": [],
   "source": [
    "def print_simulation_a0(i):\n",
    "    s,a0,d_T = solve_a0(w,F)\n",
    "    plt.figure(figsize=(10,5))\n",
    "    plt.plot(s,a0[:,i],\"ro\")\n",
    "    plt.xlabel(\"$s$\")\n",
    "    plt.ylabel(\"$A_0(s,T)$\")\n",
    "    plt.title(r\"$A_0(s,T)$ for $T = \"+str(d_T*i)+\"$\")#\"$, $t=\"+str(d_T*i/eps)+\"$\")\n",
    "    plt.ylim(-3,3)\n",
    "    plt.grid(True)\n",
    "    plt.show()"
   ]
  },
  {
   "cell_type": "markdown",
   "metadata": {},
   "source": [
    "Finally, in order to obtain $u_0(\\theta,\\tau,T)$, is necessary to determinate which $s$ corresponds to a value of $\\hat{\\theta}$ given. The value of $u_0(\\theta,\\tau,T)$ is given by:\n",
    "\n",
    "$$\n",
    "u_0(\\theta,\\tau,T) = \\frac{A_0(s,T)}{\\omega(\\theta)}\n",
    "$$\n",
    "\n",
    "Let $R(\\alpha)$ be the function:\n",
    "\n",
    "$$\n",
    "R(\\alpha) = \\Theta(\\alpha) - \\hat{\\theta}\n",
    "$$\n",
    "\n",
    "So, finding a root for $R(\\alpha)$, the value of $\\alpha$ such $\\Theta(\\alpha) = \\hat{\\theta}$ is found. In this case, is necesary go from lagrangian coordinate system to a traditional coordinate system space-time and $\\alpha$ is interpretated as $\\tau-s$ of the lagrangian coordinates. So, $s$ is creared from the original definition of lagrangian coordinates:\n",
    "\n",
    "$$\n",
    "\\begin{aligned}\n",
    "\\Theta(\\tau-s) &= \\Theta(\\alpha) = \\hat{\\theta}\\\\\n",
    "& \\Rightarrow \\tau-s = \\alpha\\\\\n",
    "& \\Rightarrow s = \\tau - \\alpha\n",
    "\\end{aligned}\n",
    "$$\n",
    "\n",
    "Finally, with this value of $s$ is possible to come back to traditional coordinate system to interpretate and compare results."
   ]
  },
  {
   "cell_type": "markdown",
   "metadata": {},
   "source": [
    "The next code implements the calculation of values for $u_0$ taking equdistant points in the $\\theta$ axis from $0$ to $2\\pi$. The bisection method [1] was used for obtain the zeros of $R(\\alpha)$ when was needed. "
   ]
  },
  {
   "cell_type": "code",
   "execution_count": 53,
   "metadata": {
    "collapsed": true
   },
   "outputs": [],
   "source": [
    "def get_u0(w,F,i,eps=0.01,t_max=10,points_s=50,points_T=500):\n",
    "    Theta = solve_IVP(w,25)\n",
    "    th1 = lambda x: Theta(x) - 2*np.pi\n",
    "    #get period of the function\n",
    "    period = bisect(th1,0,25,verb=False)\n",
    "    \n",
    "    #computing A0(s,T)\n",
    "    s, a0, delta_T = solve_a0(w,F)\n",
    "    \n",
    "    #obtain points between 0 and 2pi\n",
    "    th = np.linspace(0,2*np.pi,50)\n",
    "    \n",
    "    #generate structure to save values of u0\n",
    "    u_0 = np.zeros_like(th)    \n",
    "    \n",
    "    #compute cubic spline for a0 in T = i*delta_T\n",
    "    spl = cubic_spline(s,a0[:,i],end=\"Natural\")\n",
    "    a_0 = lambda x: cubic_spline_eval(x,spl)\n",
    "\n",
    "    for j in range(1,th.shape[0]):\n",
    "        fun = lambda x: Theta(x)-th[j]\n",
    "        alpha = bisect(fun,0,2*period,verb=False)\n",
    "        s2 = (i*delta_T-alpha)%period\n",
    "        u_0[j] = a_0(s2)/w(th[j])\n",
    "    u_0[0] = u_0[-1]\n",
    "    return th,u_0,delta_T"
   ]
  },
  {
   "cell_type": "code",
   "execution_count": 54,
   "metadata": {
    "collapsed": true
   },
   "outputs": [],
   "source": [
    "def print_simulation_u0(i):\n",
    "    th,u0,d_T = get_u0(w,F,i)\n",
    "    plt.figure(figsize=(10,5))\n",
    "    plt.plot(th,u0,\"gD\")\n",
    "    plt.xlabel(\"$\\theta$\")\n",
    "    plt.ylabel(\"$u_0(\\theta,\\tau,T)$\")\n",
    "    plt.title(r\"$A_0(s,T)$ for $T = \"+str(d_T*i)+\"$, $t=\"+str(d_T*i/eps)+\"$\")\n",
    "    plt.ylim(-3,3)\n",
    "    plt.grid(True)\n",
    "    plt.show()"
   ]
  },
  {
   "cell_type": "markdown",
   "metadata": {},
   "source": [
    "### Using Finite Difference Method"
   ]
  },
  {
   "cell_type": "markdown",
   "metadata": {},
   "source": [
    "Next, the problem is solved numerically with finite differences with an implicit method. Consider the problem in the form:\n",
    "\n",
    "$$\n",
    "\\frac{\\partial u(\\theta,t)}{\\partial t} + \\frac{\\mathrm{d}\\omega(\\theta_i)}{\\mathrm{d} \\theta} u(\\theta,t) + \\frac{\\partial u(\\theta,t)}{\\partial \\theta} \\omega(\\theta) = \\varepsilon \\frac{\\partial^2 u(\\theta,t)}{\\partial \\theta^2}\n",
    "$$\n",
    "\n",
    "The formulas of finite differences will be **backward in time** and **central in space** for the first derivative (in order to mantain the spatial derivative with a second order aproximation). Let $u_{i,n} \\approx u(\\theta_i,t_n)$, where $\\theta_i$ and $t_n$ are $N_{\\theta}$ and $N_{t}$ equidistant points in the spatial and temporal axes.\n"
   ]
  },
  {
   "cell_type": "markdown",
   "metadata": {},
   "source": [
    "$$\n",
    "\\begin{aligned}\n",
    "\\frac{\\partial u(\\theta,t)}{\\partial t} &= \\frac{u_{i,n}-u_{i,n-1}}{\\Delta t} + \\mathcal{O}(\\Delta t)\\\\\n",
    "\\frac{\\partial u(\\theta,t)}{\\partial \\theta} &= \\frac{u_{i+1,n}-u_{i-1,n}}{2\\,\\Delta \\theta} + \\mathcal{O}(\\Delta \\theta^2)\\\\\n",
    "\\frac{\\partial^2 u(\\theta,t)}{\\partial \\theta^2} &= \\frac{u_{i-1,n}-2\\,u_{i,n}+u_{i+1,n}}{\\Delta \\theta^2} + \\mathcal{O}(\\Delta \\theta^2)\\\\\n",
    "\\end{aligned}\n",
    "$$"
   ]
  },
  {
   "cell_type": "markdown",
   "metadata": {
    "collapsed": true
   },
   "source": [
    "Replacing into the PDE, the iterative step to obtain solutions in different values of time is:\n",
    "\n",
    "$$\n",
    "\\left( \\frac{\\omega(\\theta_i)\\,\\Delta t}{2\\Delta \\theta}-\\frac{\\varepsilon\\, \\Delta t}{\\Delta \\theta^2} \\right)\\,u_{i-1,n+1}+ \\left( 1+\\frac{\\mathrm{d}\\omega(\\theta_i)}{\\mathrm{d} \\theta}\\Delta t + 2\\frac{\\varepsilon\\, \\Delta t}{\\Delta \\theta^2} \\right)\\,u_{i,n+1} + \\left(- \\frac{\\omega(\\theta_i)\\,\\Delta t}{2\\Delta \\theta}-\\frac{\\varepsilon\\, \\Delta t}{\\Delta \\theta^2} \\right)\\, u_{i+1,n+1} = u_{i,n}\n",
    "$$\n",
    "\n",
    "for $0 \\leq i<N_{\\theta}$ and $n>0$."
   ]
  },
  {
   "cell_type": "markdown",
   "metadata": {},
   "source": [
    "The following code implements finite difference method for this problem."
   ]
  },
  {
   "cell_type": "code",
   "execution_count": 12,
   "metadata": {
    "collapsed": true
   },
   "outputs": [],
   "source": [
    "def implicit_method(w,wp,F,N,M,eps):\n",
    "    Theta = np.linspace(0,2*np.pi,N)\n",
    "    T = np.linspace(0,2,M)\n",
    "\n",
    "    dth = Theta[1]-Theta[0]\n",
    "    dt = T[1]-T[0]\n",
    "\n",
    "    A = np.zeros((N-1,N-1))\n",
    "    b = np.zeros((N,M))\n",
    "\n",
    "    b[:-1,0] = F(Theta[:-1])\n",
    "    b[-1] = b[0]\n",
    "    \n",
    "    alpha = ((eps*dt)/(dth**2))*np.ones(N)\n",
    "    beta = (dt/dth)*w(Theta)\n",
    "    gamma = dt*wp(Theta)\n",
    "    delta = 0.5*(dt/dth)*w(Theta)\n",
    "    \n",
    "    \n",
    "    for i in range(N-1):\n",
    "        A[i,i] = 1+2*alpha[i]+gamma[i]\n",
    "        A[i,i-1] = -alpha[i]-delta[i]\n",
    "        if i<N-2:\n",
    "            A[i,i+1] = -alpha[i]+delta[i]\n",
    "        else:\n",
    "            A[i,0] = -alpha[i]+delta[i]\n",
    "    \n",
    "    for j in range(M-1):\n",
    "        b[:-1,j+1] = np.linalg.solve(A,b[:-1,j])\n",
    "        b[-1,:] = b[0,:]\n",
    "    return b"
   ]
  },
  {
   "cell_type": "markdown",
   "metadata": {},
   "source": [
    "### Using FFT"
   ]
  },
  {
   "cell_type": "markdown",
   "metadata": {},
   "source": [
    "The Fast Fourier Transform will be used to determine the spatial derivative of $u(\\theta,t)$ knowing the value of $u$ in the initial time, i.e. since the value of $u(\\theta,t=0)$ is known, the value of $\\displaystyle\\frac{\\partial^n u(\\theta, t=0)}{\\partial \\theta^n}$ can be determinated. Besides, the spatial variable is periodic with period equal to $2\\pi$. Later, using a forward approach for the temporal variable, solutions of $u(\\theta,t)$ will be obtained."
   ]
  },
  {
   "cell_type": "markdown",
   "metadata": {},
   "source": [
    "Consider the problem in the form:\n",
    "\n",
    "$$\n",
    "\\frac{\\partial u(\\theta,t)}{\\partial t} + \\frac{\\mathrm{d} \\omega(\\theta)}{\\mathrm{d} \\theta} u(\\theta,t) + \\frac{\\partial u(\\theta,t)}{\\partial \\theta} \\omega(\\theta) = \\varepsilon \\frac{\\partial^2 u(\\theta,t)}{\\partial \\theta^2}\n",
    "$$\n",
    "\n",
    "Let be $w^{(k)}_{j,n}$ the value obtained using FFT for the derivative of $k$ order for $u(\\theta,t)$ evaluated in $\\theta_j$ for the time $t_n$. Let be $v_{j,n}$ the aproximation of $u(\\theta,t)$ evaluated in $\\theta_j$ for the time $t_n$. Put all the previous definitions together, the problem is reduced to an iterative method that calculates the next time step using the information of the values of $u(\\theta_j,t_n)$, the first derivative of $u(\\theta_j,t_n)$ and the second derivative of $u(\\theta_j,t_n)$ for the actual time. Consider that $\\theta_i$ and $t_n$ are $N_{\\theta}$ and $N_{t}$ equidistant points in the spatial and temporal axes.\n",
    "\n",
    "The iterative step to be used in this case is:\n",
    "\n",
    "$$\n",
    "v_{j,n+1} = \\varepsilon\\,\\Delta t\\,w_{j,n}^{(2)} - \\omega(\\theta_j)\\,\\Delta t\\,w_{j,n}^{(1)}+(1-\\omega'(\\theta_j)\\,\\Delta t)v_{j,n}\n",
    "$$\n",
    "for $0 \\leq j<N_{\\theta}$ and $n>0$.\n"
   ]
  },
  {
   "cell_type": "markdown",
   "metadata": {},
   "source": [
    "The next code implements the spectral derivative using FFT in order to obtain the derivative of $\\nu$ order of a function $v$ valid for the spatial interval $[0,2\\pi]$. The code was extracted from [1]."
   ]
  },
  {
   "cell_type": "code",
   "execution_count": 13,
   "metadata": {
    "collapsed": true
   },
   "outputs": [],
   "source": [
    "def spectralDerivativeByFFT(v,nu=1):\n",
    "    if not np.all(np.isreal(v)):\n",
    "        raise ValueError('The input vector must be real')\n",
    "    N=v.shape[0]\n",
    "    K=np.fft.fftfreq(N)*N\n",
    "    iK=(1j*K)**nu\n",
    "    v_hat=np.fft.fft(v)\n",
    "    w_hat=iK*v_hat\n",
    "    if np.mod(nu,2)!=0:\n",
    "        w_hat[int(N/2)]=0\n",
    "    return np.real(np.fft.ifft(w_hat))"
   ]
  },
  {
   "cell_type": "markdown",
   "metadata": {},
   "source": [
    "The next code implements the iterative step in order to solve this kind of problem."
   ]
  },
  {
   "cell_type": "code",
   "execution_count": 14,
   "metadata": {
    "collapsed": true
   },
   "outputs": [],
   "source": [
    "def explicit_fft_method(w,wp,F,N,M,eps):\n",
    "    Theta = np.linspace(0,2*np.pi,N)\n",
    "    T = np.linspace(0,2,M)\n",
    "    dt = T[1]-T[0]\n",
    "    \n",
    "    #defining a matrix to save all the values of the function in all the time steps\n",
    "    v = np.zeros((N,M))\n",
    "    #setting values for the initial time\n",
    "    v[:,0] = F(Theta)\n",
    "    \n",
    "    w1 = np.zeros(N)\n",
    "    w2 = np.zeros(N)\n",
    "    \n",
    "    #iterative step\n",
    "    for n in range(M-1):\n",
    "        #calculate the first derivative with FFT\n",
    "        w1[1:] = spectralDerivativeByFFT(v[1:,n],1)\n",
    "        w1[0] = w1[-1]\n",
    "        #calculate the second derivative with FFT\n",
    "        w2[1:] = spectralDerivativeByFFT(v[1:,n],2)\n",
    "        w2[0] = w2[-1]\n",
    "              \n",
    "        #get the values of the function in the next time\n",
    "        v[:,n+1] = eps*dt*w2 - dt*w(Theta)*w1+(np.ones(N)-dt*wp(Theta))*v[:,n]\n",
    "    return v"
   ]
  },
  {
   "cell_type": "markdown",
   "metadata": {},
   "source": [
    "### Numerical Examples"
   ]
  },
  {
   "cell_type": "markdown",
   "metadata": {},
   "source": [
    "According to all the theoretical part explained before, two numerical examples will be tested for the diffusion and advection equation."
   ]
  },
  {
   "cell_type": "markdown",
   "metadata": {},
   "source": [
    "Again, consider the following problem that shows advection around a periodic domain $0 < \\theta < 2\\pi$ with some small diffusion. "
   ]
  },
  {
   "cell_type": "markdown",
   "metadata": {},
   "source": [
    "\\begin{align*}\n",
    "\\frac{\\partial u(\\theta,t)}{\\partial t} + \\frac{\\partial}{\\partial \\theta} (\\omega(\\theta)\\,u(\\theta,t)) &= \\varepsilon\\frac{\\partial^2u(\\theta,t)}{\\partial \\theta^2}\\\\\n",
    "u(\\theta,0) &= F(\\theta)\\\\\n",
    "u(0,t) &= u(2\\pi,t)\n",
    "\\end{align*}"
   ]
  },
  {
   "cell_type": "markdown",
   "metadata": {},
   "source": [
    "where $\\omega(\\theta)$ is given over $0 \\leq \\theta \\leq 2\\pi$, periodic and positive. $F(\\theta)$ is a known function and $\\varepsilon$ is a tiny value."
   ]
  },
  {
   "cell_type": "markdown",
   "metadata": {},
   "source": [
    "The first numerical example considers a constant value for the speed $\\omega$. Let be:\n",
    "\\begin{align}\n",
    "\\omega(\\theta) &= 1\\\\\n",
    "\\omega'(\\theta) &= 0\\\\\n",
    "F(\\theta) &= 2\\,\\sin{(\\theta)}\n",
    "\\end{align}"
   ]
  },
  {
   "cell_type": "code",
   "execution_count": 35,
   "metadata": {
    "collapsed": true
   },
   "outputs": [],
   "source": [
    "def w(theta):\n",
    "    return theta**0 \n",
    "def wp(theta):\n",
    "    return theta*0\n",
    "\n",
    "def F(theta):\n",
    "    return 2*np.sin(theta)"
   ]
  },
  {
   "cell_type": "code",
   "execution_count": 36,
   "metadata": {},
   "outputs": [
    {
     "data": {
      "image/png": "[encoded data removed]",
      "text/plain": [
       "<matplotlib.figure.Figure at 0x7fc88d765198>"
      ]
     },
     "metadata": {},
     "output_type": "display_data"
    }
   ],
   "source": [
    "plot_functions(w,F)"
   ]
  },
  {
   "cell_type": "markdown",
   "metadata": {},
   "source": [
    "As can be seen previously, the function $\\omega(\\theta)$ is a positive and periodic function around the interval $[0,2\\pi]$. The derivative of a constant function is zero. The function $F(\\theta)$ is shown between the same interval. "
   ]
  },
  {
   "cell_type": "markdown",
   "metadata": {},
   "source": [
    "The first approach for this example consists in determinate numerically the solution of the partial differential equation using Finite Differences and Explicit Fast Fourier Transform."
   ]
  },
  {
   "cell_type": "code",
   "execution_count": 37,
   "metadata": {
    "collapsed": true
   },
   "outputs": [],
   "source": [
    "def simulation(i,N,M,eps):   \n",
    "    y1 = explicit_fft_method(w,wp,F,N,M,eps)\n",
    "    y2 = implicit_method(w,wp,F,N,M,eps)\n",
    "    \n",
    "    a1 = np.zeros(i+1)\n",
    "    a2 = np.zeros(i+1)\n",
    "    \n",
    "    for k in range(i+1):\n",
    "        a1[k] = max(abs(y1[:,k]))\n",
    "        a2[k] = max(abs(y2[:,k]))\n",
    "        \n",
    "    \n",
    "    Theta = np.linspace(0,2*np.pi,N)\n",
    "    T = np.linspace(0,10,M)\n",
    "    \n",
    "    #print(\"Quotient N/M =\",N/M)\n",
    "    \n",
    "    plt.figure(figsize=(17,13))\n",
    "\n",
    "    plt.subplot(2, 2, 1)\n",
    "    plt.title(\"Simulation at t = \"+str(T[i])+\" [s]\")\n",
    "    plt.plot(Theta[:],y1[:,i],\"-yo\", label=\"Explicit Fast Fourier Transform\")\n",
    "    plt.ylim(-5,6)\n",
    "    plt.grid(True)\n",
    "    plt.xlabel(r\"$\\theta$\")\n",
    "    plt.ylabel(r\"$u(\\theta,t)$\")\n",
    "    plt.legend(loc=\"best\")\n",
    "    \n",
    "    plt.subplot(2, 2, 2)\n",
    "    plt.title(\"Simulation at t = \"+str(T[i])+\" [s]\")\n",
    "    plt.plot(Theta[:],y2[:,i],\"-bo\", label=\"Implicit Finite Difference\")\n",
    "    plt.ylim(-5,6)\n",
    "    plt.grid(True)\n",
    "    plt.xlabel(r\"$\\theta$\")\n",
    "    plt.ylabel(r\"$u(\\theta,t)$\")\n",
    "    plt.legend(loc=\"best\")\n",
    "    \n",
    "    plt.subplot(2, 2, 3)\n",
    "    plt.title(\"Max Absolute Value\")\n",
    "    plt.plot(T[:i+1],a1,\"-yo\", label=\"Explicit Fast Fourier Transform\")\n",
    "    plt.xlim(-0.5,10.5)\n",
    "    plt.grid(True)\n",
    "    plt.xlabel(r\"$t$\")\n",
    "    plt.ylabel(r\"$u(\\theta,t)$\")\n",
    "    plt.legend(loc=\"best\")\n",
    "    \n",
    "    plt.subplot(2, 2, 4)\n",
    "    plt.title(\"Max Absolute Value\")\n",
    "    plt.plot(T[:i+1],a2,\"-bo\", label=\"Implicit Finite Difference\")\n",
    "    plt.xlim(-0.5,10.5)\n",
    "    plt.grid(True)\n",
    "    plt.xlabel(r\"$t$\")\n",
    "    plt.ylabel(r\"$u(\\theta,t)$\")\n",
    "    plt.legend(loc=\"best\")\n",
    "    \n",
    "    plt.show()"
   ]
  },
  {
   "cell_type": "markdown",
   "metadata": {},
   "source": [
    "The numerical simulation can be observed on a interactive way changing some parameters:\n",
    "* $i$: solution of the equation at time $t_i = i\\,\\Delta t$. Initially $i = 0$.\n",
    "* $N$: number of points to be evaluated in the $\\theta$ axis. Initially $N = 50$.\n",
    "* $M$: number of intervals of time to be displayed. Initially $M = 80$.\n",
    "\n",
    "Aditionally, various values of $\\varepsilon$ will be used."
   ]
  },
  {
   "cell_type": "code",
   "execution_count": 60,
   "metadata": {},
   "outputs": [
    {
     "name": "stderr",
     "output_type": "stream",
     "text": [
      "Widget Javascript not detected.  It may not be installed or enabled properly.\n"
     ]
    },
    {
     "data": {
      "application/vnd.jupyter.widget-view+json": {
       "model_id": "67820d53eabe4ba59a020623dc4f5658"
      }
     },
     "metadata": {},
     "output_type": "display_data"
    },
    {
     "data": {
      "text/plain": [
       "<function __main__.simulation>"
      ]
     },
     "execution_count": 60,
     "metadata": {},
     "output_type": "execute_result"
    }
   ],
   "source": [
    "i_widget = IntSlider(min=0, max=79, value=0)\n",
    "N_widget = IntSlider(min=2, max=200, value=50)\n",
    "M_widget = IntSlider(min=2, max=400, value=80)\n",
    "eps_widget = Dropdown(options=[100.,10.,2.,1.,1e-1,1e-2,1e-3,1e-4,1e-5,1e-6,1e-7,\n",
    "                               1e-8,1e-9,1e-10,1e-11,1e-12,1e-13,1e-14,1e-15,1e-16,1e-17,0.],\n",
    "                      value=0, description='eps')\n",
    "def update_i_values(*args):\n",
    "    i_widget.max = M_widget.value-1\n",
    "M_widget.observe(update_i_values, 'value')\n",
    "interact(simulation,i=i_widget,N=N_widget,M=M_widget, eps=eps_widget, continuous_update=False)"
   ]
  },
  {
   "cell_type": "markdown",
   "metadata": {},
   "source": [
    "The first case $\\varepsilon = 0$ is simply an advection equation without diffusion. Since the speed $\\omega$ is constant the solution, tipically a wave is moving at this constant rate. Is expected that the maximum aplitude of the wave observed be the same in all the time elapsed.\n",
    "- The Explicit FFT has stability problems when $N$ is much greater than $M$ (apparently with a quotient $N/M$ greater to 1). Also, when the value of $M$ tiny the simulation has stability problems more prematurely. In cases where there are no stability issues, the maximum aplitude of the solution is increasing slightly. When the value of $M$ is bigger, i.e., the time between two neighbor points is shorter, the increment of the maximun value obtained is lower that with a $M$ small. This factor maybe is associated with the numerical error of the method.\n",
    "- The Implicit FD does not have problems of stability. It can be observed that the maximum amplitude of the wave is decresing in time slightly, and also, with bigger values of $M$ the change in this decrease is lower that the same effect with a small $M$. Again, this difference between the expected behavior and the numerical results can be interpretated as numerical error asociated."
   ]
  },
  {
   "cell_type": "markdown",
   "metadata": {},
   "source": [
    "Cases when $\\varepsilon > 0$ are examples of a advection-diffusion equation when the solution is disipated around the axis. When the coeficient is greater, the disipation of the values is faster. The advection process, barely can be seen. The problem can be seen as the oposite as the original problem with a slow difusion, where now the advection is the slow process compared to the diffusion and if the coeficient of difusion is a big value, then the solution is practicaly a constant solution (explained for a really fast difusion, without considering what was the initial distribution of the function).\n",
    "- Again, the Explicit FFT has stability problems related to the quotient $N/M$ in the same way that the previous case. However, in this cases there is an aditional effect of the $\\varepsilon$ parameter. It can be seen that at higher values of $\\varepsilon$, the problem of stability occurs sooner, so the quotient $N/M$ has to mantain as low as possible. When the stability problem arises, the maximum amplitude value is disproportionately huge, and as long as the coeficient $N/M$ increases, the increment of amplitude ocurs sooner. When there are not stability problems, the behaviour of the maximum amplitude is the expected, observing a diffusion processs in the time and decresing this maximum value faster if the diffusion coefficient is bigger.\n",
    "- The Implicit FD does not have problems of stability. The behaviour of the maximun amplitude is the expected in all the cases and, as ocurrs in FFT, as bigger the diffusion coefficient is, more sooner is the time when the maximum aplitude reaches the zero value."
   ]
  },
  {
   "cell_type": "markdown",
   "metadata": {},
   "source": [
    "The final cases consider $0 < \\varepsilon \\ll 1$ and is the interest for this work. Is expected to observe advection in time and apparently no diffusion process.\n",
    "\n",
    "- In the Explicit FFT the phenomenon of slow diffusion cannot be observed clearly, but the plot of maximum aplitude value shows some differences varying the paremeters. With $\\varepsilon  = 0.1$ and $\\varepsilon = 0.01$ the maximum amplitude of the solutions decrease slower as the order of magnitude of $\\varepsilon$ decrease. However, with orders of magnitude for $\\varepsilon$ smaller than $10^{-3}$ the phenomenon the maximum amplitude is increasing in time. As the order of magnitude is continue decreasing, the numerical error is reaching the results obtained for the first case.\n",
    "- In the Implicit FD during the decrease of orders of magnitude for $\\varepsilon$ it can be seen that the inclination of maximum amplitude to have lower values is the expected and for smaller values of $\\varepsilon$, the decreace is smaller too. Aproximately, for order of magnitud of $10^{-7}$ it cannot be seen differences between the maximum amplitude comparing to the first case explained before."
   ]
  },
  {
   "cell_type": "markdown",
   "metadata": {},
   "source": [
    "In general, the Explicit Fast Fourier Transform has some problems caused by certain parameter values and is a conditionally stable method. Otherwise, the Implicit Finite Difference seems to be more trustworthy, since the behaviour expected for this case is aproximately the same that the numerical results. However, both method introduce some numerical error, which could be seen in the first case when $\\varepsilon = 0$. "
   ]
  },
  {
   "cell_type": "markdown",
   "metadata": {},
   "source": [
    "Now, the question is, ¿what is the effect of the small values for $\\varepsilon$ of the equation for the numerical results? First of all, using the method of multiscales, is necessary to known how is the advance of the solutions according to the speed $\\omega$."
   ]
  },
  {
   "cell_type": "markdown",
   "metadata": {},
   "source": [
    "The next code shows the numerical solution of the Initial Value Problem asociated to the advance of $\\Theta$ in the time $t$.\n",
    "\n",
    "$$\n",
    "\\frac{\\mathrm{d}\\theta}{\\mathrm{d}t} = \\omega(\\theta)\n",
    "$$"
   ]
  },
  {
   "cell_type": "code",
   "execution_count": 39,
   "metadata": {},
   "outputs": [
    {
     "data": {
      "image/png": "[encoded data removed]",
      "text/plain": [
       "<matplotlib.figure.Figure at 0x7fc88d796a58>"
      ]
     },
     "metadata": {},
     "output_type": "display_data"
    }
   ],
   "source": [
    "Theta = solve_IVP(w,20,True)"
   ]
  },
  {
   "cell_type": "markdown",
   "metadata": {},
   "source": [
    "As expected, since the speed $\\omega$ in this case is $\\omega(\\theta) = 1$, a constant value. The position $\\Theta$ in time is the function $\\Theta(t) = t$, the identity function. If a different scalar value was used, the solution of the Initial Value Problem would be a multiple of the identity function by exactly this scalar value. The numerical method used in this case is appropiated since reflects the behavior of the solution. The period $P$ in this case corresponds to the value $P = 2\\pi \\approx 6.28312$."
   ]
  },
  {
   "cell_type": "markdown",
   "metadata": {},
   "source": [
    "The next step is to solve the Partial Differential Equation asociated to $A_0(s,T)$:\n",
    "\n",
    "$$\n",
    "\\frac{\\partial A_0}{\\partial T}(s,T) = \\frac{1}{P} \\int_{0}^{P} \\frac{1}{\\omega^2(\\Theta(\\tau-s))} \\mathrm{d}\\tau \\frac{\\partial^2A_0}{\\partial s^2}(s,T)\n",
    "$$\n"
   ]
  },
  {
   "cell_type": "markdown",
   "metadata": {},
   "source": [
    "The next code solves the equation, mixing a numerical method for the integral and a finite difference method for the PDE."
   ]
  },
  {
   "cell_type": "code",
   "execution_count": 58,
   "metadata": {},
   "outputs": [
    {
     "name": "stderr",
     "output_type": "stream",
     "text": [
      "Widget Javascript not detected.  It may not be installed or enabled properly.\n"
     ]
    },
    {
     "data": {
      "application/vnd.jupyter.widget-view+json": {
       "model_id": "fb828e715ddd48919b6409ae6dfe96d7"
      }
     },
     "metadata": {},
     "output_type": "display_data"
    },
    {
     "data": {
      "text/plain": [
       "<function __main__.print_simulation_a0>"
      ]
     },
     "execution_count": 58,
     "metadata": {},
     "output_type": "execute_result"
    }
   ],
   "source": [
    "i_widget = IntSlider(min=0, max=500, value=0)\n",
    "interact(print_simulation_a0,i=i_widget)"
   ]
  },
  {
   "cell_type": "code",
   "execution_count": 59,
   "metadata": {},
   "outputs": [
    {
     "name": "stderr",
     "output_type": "stream",
     "text": [
      "Widget Javascript not detected.  It may not be installed or enabled properly.\n"
     ]
    },
    {
     "data": {
      "application/vnd.jupyter.widget-view+json": {
       "model_id": "9d63b765dafe4762a9dd82e6b0608565"
      }
     },
     "metadata": {},
     "output_type": "display_data"
    },
    {
     "data": {
      "text/plain": [
       "<function __main__.print_simulation_u0>"
      ]
     },
     "execution_count": 59,
     "metadata": {},
     "output_type": "execute_result"
    }
   ],
   "source": [
    "i_widget = IntSlider(min=0, max=500, value=0)\n",
    "interact(print_simulation_u0,i=i_widget)"
   ]
  },
  {
   "cell_type": "code",
   "execution_count": null,
   "metadata": {
    "collapsed": true
   },
   "outputs": [],
   "source": []
  },
  {
   "cell_type": "code",
   "execution_count": null,
   "metadata": {
    "collapsed": true
   },
   "outputs": [],
   "source": []
  },
  {
   "cell_type": "markdown",
   "metadata": {},
   "source": [
    "**Numerical Example**\n",
    "Consider the following functions for $\\omega(\\theta)$ and $F(\\theta)$.\n",
    "\\begin{align}\n",
    "\\omega(\\theta) &= 1\\\\\n",
    "\\omega'(\\theta) &= 0\\\\\n",
    "F(\\theta) &= 2\\,\\sin{(\\theta)}\n",
    "\\end{align}"
   ]
  },
  {
   "cell_type": "code",
   "execution_count": 21,
   "metadata": {
    "collapsed": true
   },
   "outputs": [],
   "source": [
    "def w(theta):\n",
    "    return theta**0 \n",
    "def wp(theta):\n",
    "    return theta*0\n",
    "\n",
    "def F(theta):\n",
    "    return 2*np.sin(theta)"
   ]
  },
  {
   "cell_type": "code",
   "execution_count": 22,
   "metadata": {},
   "outputs": [
    {
     "data": {
      "image/png": "[encoded data removed]",
      "text/plain": [
       "<matplotlib.figure.Figure at 0x7fc88d7ade80>"
      ]
     },
     "metadata": {},
     "output_type": "display_data"
    }
   ],
   "source": [
    "th = np.linspace(0,4*np.pi,200)\n",
    "thh = np.linspace(0,2*np.pi,100)\n",
    "W = w(th)\n",
    "plt.plot(th,w(th),\"-r\",label=r\"$w(\\theta) = 1$\")\n",
    "plt.plot(th,wp(th),\"-b\",label=r\"$w'(\\theta) = 0$\")\n",
    "plt.plot(thh,F(thh),\"-g\",label = r\"$F(\\theta) = 2\\,\\sin{(\\theta)}$\")\n",
    "\n",
    "plt.xlim(-1,12)\n",
    "plt.ylim(-2,5)\n",
    "\n",
    "plt.axvline(x=0, color='k', linestyle='--')\n",
    "plt.axvline(x=2*np.pi, color='k', linestyle='--')\n",
    "\n",
    "plt.grid(True)\n",
    "plt.legend(loc=\"best\")\n",
    "plt.show()"
   ]
  },
  {
   "cell_type": "code",
   "execution_count": 23,
   "metadata": {
    "collapsed": true
   },
   "outputs": [],
   "source": [
    "def simulation(i,N,M,eps):\n",
    "    def w(theta):\n",
    "        return theta**0\n",
    "    def wp(theta):\n",
    "        return theta*0\n",
    "\n",
    "    def F(theta):\n",
    "        return 2*np.sin(theta)\n",
    "    \n",
    "    y1 = explicit_fft_method(w,wp,F,N,M,eps)\n",
    "    y2 = implicit_method(w,wp,F,N,M,eps)\n",
    "    \n",
    "    Theta = np.linspace(0,2*np.pi,N)\n",
    "    T = np.linspace(0,10,M)\n",
    "    \n",
    "    \n",
    "    plt.figure(figsize=(15,5))\n",
    "    plt.subplot(1, 2, 1)\n",
    "    plt.title(\"t = \"+str(T[i])+\" [s]\")\n",
    "    plt.plot(Theta[:],y1[:,i],\"-yo\", label=\"Explicit Fast Fourier Transform\")\n",
    "    plt.ylim(-5,6)\n",
    "    plt.grid(True)\n",
    "    plt.xlabel(r\"$\\theta$\")\n",
    "    plt.ylabel(r\"$u(\\theta,t)$\")\n",
    "    plt.legend(loc=\"best\")\n",
    "    \n",
    "    plt.subplot(1, 2, 2)\n",
    "    plt.title(\"t = \"+str(T[i])+\" [s]\")\n",
    "    plt.plot(Theta[:],y2[:,i],\"-bo\", label=\"Implicit Finite Difference\")\n",
    "    plt.ylim(-5,6)\n",
    "    plt.grid(True)\n",
    "    plt.xlabel(r\"$\\theta$\")\n",
    "    plt.ylabel(r\"$u(\\theta,t)$\")\n",
    "    plt.legend(loc=\"best\")\n",
    "    \n",
    "    plt.show()"
   ]
  },
  {
   "cell_type": "code",
   "execution_count": 24,
   "metadata": {
    "scrolled": false
   },
   "outputs": [
    {
     "name": "stderr",
     "output_type": "stream",
     "text": [
      "Widget Javascript not detected.  It may not be installed or enabled properly.\n"
     ]
    },
    {
     "data": {
      "application/vnd.jupyter.widget-view+json": {
       "model_id": "6da4110bc81947b1a047e357ece0c58d"
      }
     },
     "metadata": {},
     "output_type": "display_data"
    },
    {
     "data": {
      "text/plain": [
       "<function __main__.simulation>"
      ]
     },
     "execution_count": 24,
     "metadata": {},
     "output_type": "execute_result"
    }
   ],
   "source": [
    "i_widget = IntSlider(min=0, max=79, value=0)\n",
    "N_widget = IntSlider(min=2, max=200, value=50)\n",
    "M_widget = IntSlider(min=2, max=400, value=80)\n",
    "eps_widget = Dropdown(options=[2.,1.,0.1,0.01,0.001,0.],value=0, description='eps')\n",
    "def update_i_values(*args):\n",
    "    i_widget.max = M_widget.value-1\n",
    "M_widget.observe(update_i_values, 'value')\n",
    "interact(simulation,i=i_widget,N=N_widget,M=M_widget, eps=eps_widget)"
   ]
  },
  {
   "cell_type": "markdown",
   "metadata": {
    "collapsed": true
   },
   "source": [
    "In this particular case, $\\Theta(t) = t$, since $\\omega(\\theta) = 1$. So, it is necessary to solve the PDE:\n",
    "\n",
    "$$\n",
    "\\begin{aligned}\n",
    "\\frac{\\partial A_0}{\\partial T} &= \\frac{1}{P} \\int_{0}^{P} \\frac{1}{\\omega^2(\\Theta(\\tau-s))} \\mathrm{d}\\tau \\frac{\\partial^2A_0}{\\partial s^2}\\\\\n",
    "\\frac{\\partial A_0}{\\partial T} &= \\frac{1}{P} \\int_{0}^{P} \\frac{1}{\\omega^2(\\tau-s)} \\mathrm{d}\\tau \\frac{\\partial^2A_0}{\\partial s^2}\\\\\n",
    "\\frac{\\partial A_0}{\\partial T} &= \\frac{1}{P} \\int_{0}^{P} \\frac{1}{1} \\mathrm{d}\\tau \\frac{\\partial^2A_0}{\\partial s^2}\\\\\n",
    "\\frac{\\partial A_0}{\\partial T} &= \\frac{1}{P} \\int_{0}^{P} \\mathrm{d}\\tau \\frac{\\partial^2A_0}{\\partial s^2}\\\\\n",
    "\\frac{\\partial A_0}{\\partial T} &= \\frac{\\partial^2A_0}{\\partial s^2}\\\\\n",
    "\\end{aligned}\n",
    "$$\n",
    "\n",
    "That is an usual Diffusion Equation with Difusivity coefficient equal to 1. The initial condition is:\n",
    "\n",
    "$$\n",
    "\\begin{aligned}\n",
    "A_0(s,0) &= F(\\Theta(-s))\\omega(\\Theta(-s))\\\\\n",
    "&= F(-s)\\omega(-s)\\\\\n",
    "&= F(-s)\\\\\n",
    "&= 2\\,\\sin{(-s)}\\\\\n",
    "&= -2\\,\\sin{(s)}\\\\\n",
    "\\end{aligned}\n",
    "$$\n",
    "\n",
    "And the variable $s$ has periodic conditions."
   ]
  },
  {
   "cell_type": "code",
   "execution_count": null,
   "metadata": {
    "collapsed": true
   },
   "outputs": [],
   "source": []
  },
  {
   "cell_type": "code",
   "execution_count": null,
   "metadata": {
    "collapsed": true
   },
   "outputs": [],
   "source": []
  },
  {
   "cell_type": "code",
   "execution_count": null,
   "metadata": {
    "collapsed": true
   },
   "outputs": [],
   "source": []
  },
  {
   "cell_type": "markdown",
   "metadata": {},
   "source": [
    "The following code solves the Partial Differential Equation\n",
    "$$\n",
    "\\begin{aligned}\n",
    "\\frac{\\partial A_0}{\\partial T} &= \\frac{\\partial^2A_0}{\\partial s^2}\\\\\n",
    "A_0(s,0)&= -2\\,\\sin{(s)}\\\\\n",
    "\\end{aligned}\n",
    "$$\n",
    "using an implicit method."
   ]
  },
  {
   "cell_type": "code",
   "execution_count": 25,
   "metadata": {
    "collapsed": true
   },
   "outputs": [],
   "source": [
    "eps = 10**-3\n",
    "n_s = 10\n",
    "s = np.linspace(0,2*np.pi,n_s+1)\n",
    "#print(s)\n",
    "delta_s = s[1]-s[0]\n",
    "delta_T = 0.1\n",
    "\n",
    "sigma = delta_T/(delta_s**0.5)\n",
    "\n",
    "A = np.diag((1+2*sigma)*np.ones(n_s))+np.diag((-sigma)*np.ones(n_s-1),1)+np.diag((-sigma)*np.ones(n_s-1),-1)\n",
    "A[-1,0] = -sigma\n",
    "A[0,-1] = -sigma\n",
    "#print(A)\n",
    "\n",
    "sols = np.zeros((n_s,101))\n",
    "sols[:,0] = -2*np.sin(s[:-1])\n",
    "\n",
    "for i in range(1,101):\n",
    "    sols[:,i] = np.linalg.solve(A,sols[:,i-1])\n"
   ]
  },
  {
   "cell_type": "markdown",
   "metadata": {},
   "source": [
    "The next function is made in order to use a widget that visualizes the evolution of $A_0(s,T)$ for values of $T$ such that $T \\in []$ "
   ]
  },
  {
   "cell_type": "code",
   "execution_count": 26,
   "metadata": {},
   "outputs": [
    {
     "name": "stderr",
     "output_type": "stream",
     "text": [
      "Widget Javascript not detected.  It may not be installed or enabled properly.\n"
     ]
    },
    {
     "data": {
      "application/vnd.jupyter.widget-view+json": {
       "model_id": "9068604ffa7540cabee00e3830581fbf"
      }
     },
     "metadata": {},
     "output_type": "display_data"
    },
    {
     "data": {
      "text/plain": [
       "<function __main__.print_simulation>"
      ]
     },
     "execution_count": 26,
     "metadata": {},
     "output_type": "execute_result"
    }
   ],
   "source": [
    "def print_simulation(i):\n",
    "    x = s[:-1]\n",
    "    y = sols\n",
    "    plt.ylim(-3,3)\n",
    "    plt.grid(True)\n",
    "    plt.xlabel(\"$s$\")\n",
    "    plt.ylabel(\"$A_0(s,T)$\")\n",
    "    plt.title(\"t = \"+str(delta_T*i/eps))\n",
    "    plt.plot(x,y[:,i],\"ro\")\n",
    "    plt.show()\n",
    "interact(print_simulation,i=(0,100))"
   ]
  },
  {
   "cell_type": "markdown",
   "metadata": {
    "collapsed": true
   },
   "source": [
    "The previous result can be interpretated as a really slow diffusion process, since the slow scale is involved. For big values of $t$ the changes in terms of diffusion will be noticed."
   ]
  },
  {
   "cell_type": "code",
   "execution_count": null,
   "metadata": {
    "collapsed": true
   },
   "outputs": [],
   "source": []
  },
  {
   "cell_type": "code",
   "execution_count": null,
   "metadata": {
    "collapsed": true
   },
   "outputs": [],
   "source": []
  },
  {
   "cell_type": "markdown",
   "metadata": {},
   "source": [
    "**Numerical Example 2**\n",
    "Consider the following functions for $\\omega(\\theta)$ and $F(\\theta)$.\n",
    "\\begin{align}\n",
    "\\omega(\\theta) &= \\sin^2{\\left(\\frac{\\theta}{2}+\\frac{1}{2}\\right)}\\\\\n",
    "\\omega'(\\theta) &= \\frac{1}{2}\\sin{(\\theta+1)}\\\\\n",
    "F(\\theta) &= 2\\,\\sin{(\\theta)}\n",
    "\\end{align}"
   ]
  },
  {
   "cell_type": "code",
   "execution_count": 57,
   "metadata": {
    "collapsed": true
   },
   "outputs": [],
   "source": [
    "def w(theta):\n",
    "    return (np.sin(0.5*theta))**2+0.5\n",
    "    #return (np.cos(0.5*theta))**2+0.5\n",
    "    return theta**0\n",
    "def wp(theta):\n",
    "    return 0.5*np.sin(theta)\n",
    "    #return -2*np.sin(2*theta)\n",
    "    return theta*0\n",
    "def F(theta):\n",
    "    #return (-theta**2+2*np.pi*theta)*0.5\n",
    "    return 2*np.sin(theta)"
   ]
  },
  {
   "cell_type": "code",
   "execution_count": 28,
   "metadata": {},
   "outputs": [
    {
     "data": {
      "image/png": "[encoded data removed]",
      "text/plain": [
       "<matplotlib.figure.Figure at 0x7fc88d885eb8>"
      ]
     },
     "metadata": {},
     "output_type": "display_data"
    }
   ],
   "source": [
    "Theta = solve_IVP(w,7.5,True)"
   ]
  },
  {
   "cell_type": "code",
   "execution_count": 29,
   "metadata": {},
   "outputs": [
    {
     "name": "stdout",
     "output_type": "stream",
     "text": [
      "1.5707963267948966 2.4700183670415754\n",
      "3.141592653589793 3.710879255584132\n",
      "4.71238898038469 4.889733285801867\n",
      "6.283185307179586 7.253561271120361\n",
      "-> 1.57077862859\n"
     ]
    }
   ],
   "source": [
    "lista = [0.5*np.pi, 1.0*np.pi,1.5*np.pi, 2.0*np.pi]\n",
    "for th_hat in lista:\n",
    "    #th_hat = 0.5*np.pi\n",
    "    T = lambda x: Theta(x)-th_hat\n",
    "    x = bisect(T,0,7.5)\n",
    "    print(th_hat, x)\n",
    "    \n",
    "print(\"->\",Theta(2.47))"
   ]
  },
  {
   "cell_type": "code",
   "execution_count": 30,
   "metadata": {},
   "outputs": [
    {
     "data": {
      "image/png": "[encoded data removed]",
      "text/plain": [
       "<matplotlib.figure.Figure at 0x7fc88d805dd8>"
      ]
     },
     "metadata": {},
     "output_type": "display_data"
    }
   ],
   "source": [
    "th = np.linspace(0,4*np.pi,200)\n",
    "thh = np.linspace(0,2*np.pi,100)\n",
    "W = w(th)\n",
    "plt.plot(th,w(th),\"-r\",label=r\"$w(\\theta) = 1$\")\n",
    "plt.plot(th,wp(th),\"-b\",label=r\"$w'(\\theta) = 0$\")\n",
    "#plt.plot(th,w(th),\"-r\",label=r\"$w(\\theta) = \\cos^2{\\left(\\frac{\\theta}{2}\\right)+\\frac{1}{2}}$\")\n",
    "#plt.plot(th,wp(th),\"-b\",label=r\"$w'(\\theta) = \\frac{1}{2}\\sin{(\\theta)}$\")\n",
    "#plt.plot(thh,F(thh),\"-g\",label = r\"$F(\\theta) = 2\\,\\sin{(\\theta)}$\")\n",
    "\n",
    "plt.xlim(-1,12)\n",
    "plt.ylim(-2,5)\n",
    "\n",
    "plt.axvline(x=0, color='k', linestyle='--')\n",
    "plt.axvline(x=2*np.pi, color='k', linestyle='--')\n",
    "\n",
    "plt.grid(True)\n",
    "plt.xlabel(r\"$\\theta$\")\n",
    "plt.ylabel(r\"$w(\\theta)$\")\n",
    "plt.legend(loc=\"best\")\n",
    "plt.savefig(\"omega.pdf\")\n",
    "plt.show()\n"
   ]
  },
  {
   "cell_type": "code",
   "execution_count": 31,
   "metadata": {
    "collapsed": true
   },
   "outputs": [],
   "source": [
    "def simulation2(i,N,M,eps):\n",
    "    def w(theta):\n",
    "        return (np.sin(0.5*theta))**2+0.5\n",
    "        \n",
    "    def wp(theta):\n",
    "        return 0.5*np.sin(theta)\n",
    "        \n",
    "    def F(theta):\n",
    "        return 2*np.sin(theta)\n",
    "    \n",
    "    y1 = explicit_fft_method(w,wp,F,N,M,eps)\n",
    "    y2 = implicit_method(w,wp,F,N,M,eps)\n",
    "    \n",
    "    Theta = np.linspace(0,2*np.pi,N)\n",
    "    T = np.linspace(0,2,M)\n",
    "    \n",
    "    \n",
    "    plt.figure(figsize=(15,5))\n",
    "    plt.subplot(1, 2, 1)\n",
    "    plt.title(\"t = \"+str(T[i])+\" [s]\")\n",
    "    plt.plot(Theta[:],y1[:,i],\"-yo\", label=\"Explicit Fast Fourier Transform\")\n",
    "    plt.ylim(-5,4)\n",
    "    plt.grid(True)\n",
    "    plt.xlabel(r\"$\\theta$\")\n",
    "    plt.ylabel(r\"$u(\\theta,t)$\")\n",
    "    plt.legend(loc=\"best\")\n",
    "    \n",
    "    plt.subplot(1, 2, 2)\n",
    "    plt.title(\"t = \"+str(T[i])+\" [s]\")\n",
    "    plt.plot(Theta[:],y2[:,i],\"-bo\", label=\"Implicit Finite Difference\")\n",
    "    plt.ylim(-5,4)\n",
    "    plt.grid(True)\n",
    "    plt.xlabel(r\"$\\theta$\")\n",
    "    plt.ylabel(r\"$u(\\theta,t)$\")\n",
    "    plt.legend(loc=\"best\")\n",
    "    \n",
    "    plt.show()"
   ]
  },
  {
   "cell_type": "code",
   "execution_count": 32,
   "metadata": {},
   "outputs": [
    {
     "name": "stderr",
     "output_type": "stream",
     "text": [
      "Widget Javascript not detected.  It may not be installed or enabled properly.\n"
     ]
    },
    {
     "data": {
      "application/vnd.jupyter.widget-view+json": {
       "model_id": "76c631b2df834424830ef31594629f07"
      }
     },
     "metadata": {},
     "output_type": "display_data"
    },
    {
     "data": {
      "text/plain": [
       "<function __main__.simulation2>"
      ]
     },
     "execution_count": 32,
     "metadata": {},
     "output_type": "execute_result"
    }
   ],
   "source": [
    "i_widget = IntSlider(min=0, max=79, value=0)\n",
    "N_widget = IntSlider(min=2, max=200, value=50)\n",
    "M_widget = IntSlider(min=2, max=400, value=80)\n",
    "eps_widget = Dropdown(options=[2.,1.,0.1,0.01,0.001,0.],value=0, description='eps')\n",
    "def update_i_values(*args):\n",
    "    i_widget.max = M_widget.value-1\n",
    "M_widget.observe(update_i_values, 'value')\n",
    "interact(simulation2,i=i_widget,N=N_widget,M=M_widget, eps=eps_widget)"
   ]
  },
  {
   "cell_type": "code",
   "execution_count": 33,
   "metadata": {},
   "outputs": [
    {
     "name": "stderr",
     "output_type": "stream",
     "text": [
      "Widget Javascript not detected.  It may not be installed or enabled properly.\n"
     ]
    },
    {
     "data": {
      "application/vnd.jupyter.widget-view+json": {
       "model_id": "d33ca58bd72546b397a3f7c468c526d4"
      }
     },
     "metadata": {},
     "output_type": "display_data"
    },
    {
     "data": {
      "text/plain": [
       "<function __main__.print_simulation_a0>"
      ]
     },
     "execution_count": 33,
     "metadata": {},
     "output_type": "execute_result"
    }
   ],
   "source": [
    "i_widget = IntSlider(min=0, max=500, value=0)\n",
    "eps_widget = Dropdown(options=[2.,1.,0.1,0.01,0.001,0.0001,0.00001],value=1, description='eps')\n",
    "interact(print_simulation_a0,i=i_widget,eps=eps_widget)"
   ]
  },
  {
   "cell_type": "code",
   "execution_count": 34,
   "metadata": {},
   "outputs": [
    {
     "ename": "NameError",
     "evalue": "name 'print_simulation_f0' is not defined",
     "output_type": "error",
     "traceback": [
      "\u001b[0;31m---------------------------------------------------------------------------\u001b[0m",
      "\u001b[0;31mNameError\u001b[0m                                 Traceback (most recent call last)",
      "\u001b[0;32m<ipython-input-34-52e7e317821c>\u001b[0m in \u001b[0;36m<module>\u001b[0;34m()\u001b[0m\n\u001b[1;32m      1\u001b[0m \u001b[0mi_widget\u001b[0m \u001b[0;34m=\u001b[0m \u001b[0mIntSlider\u001b[0m\u001b[0;34m(\u001b[0m\u001b[0mmin\u001b[0m\u001b[0;34m=\u001b[0m\u001b[0;36m0\u001b[0m\u001b[0;34m,\u001b[0m \u001b[0mmax\u001b[0m\u001b[0;34m=\u001b[0m\u001b[0;36m500\u001b[0m\u001b[0;34m,\u001b[0m \u001b[0mvalue\u001b[0m\u001b[0;34m=\u001b[0m\u001b[0;36m0\u001b[0m\u001b[0;34m)\u001b[0m\u001b[0;34m\u001b[0m\u001b[0m\n\u001b[1;32m      2\u001b[0m \u001b[0meps_widget\u001b[0m \u001b[0;34m=\u001b[0m \u001b[0mDropdown\u001b[0m\u001b[0;34m(\u001b[0m\u001b[0moptions\u001b[0m\u001b[0;34m=\u001b[0m\u001b[0;34m[\u001b[0m\u001b[0;36m2.\u001b[0m\u001b[0;34m,\u001b[0m\u001b[0;36m1.\u001b[0m\u001b[0;34m,\u001b[0m\u001b[0;36m0.1\u001b[0m\u001b[0;34m,\u001b[0m\u001b[0;36m0.01\u001b[0m\u001b[0;34m,\u001b[0m\u001b[0;36m0.001\u001b[0m\u001b[0;34m,\u001b[0m\u001b[0;36m0.0001\u001b[0m\u001b[0;34m,\u001b[0m\u001b[0;36m0.00001\u001b[0m\u001b[0;34m]\u001b[0m\u001b[0;34m,\u001b[0m\u001b[0mvalue\u001b[0m\u001b[0;34m=\u001b[0m\u001b[0;36m1\u001b[0m\u001b[0;34m,\u001b[0m \u001b[0mdescription\u001b[0m\u001b[0;34m=\u001b[0m\u001b[0;34m'eps'\u001b[0m\u001b[0;34m)\u001b[0m\u001b[0;34m\u001b[0m\u001b[0m\n\u001b[0;32m----> 3\u001b[0;31m \u001b[0minteract\u001b[0m\u001b[0;34m(\u001b[0m\u001b[0mprint_simulation_f0\u001b[0m\u001b[0;34m,\u001b[0m\u001b[0mi\u001b[0m\u001b[0;34m=\u001b[0m\u001b[0mi_widget\u001b[0m\u001b[0;34m,\u001b[0m\u001b[0meps\u001b[0m\u001b[0;34m=\u001b[0m\u001b[0meps_widget\u001b[0m\u001b[0;34m)\u001b[0m\u001b[0;34m\u001b[0m\u001b[0m\n\u001b[0m",
      "\u001b[0;31mNameError\u001b[0m: name 'print_simulation_f0' is not defined"
     ]
    }
   ],
   "source": [
    "i_widget = IntSlider(min=0, max=500, value=0)\n",
    "eps_widget = Dropdown(options=[2.,1.,0.1,0.01,0.001,0.0001,0.00001],value=1, description='eps')\n",
    "interact(print_simulation_f0,i=i_widget,eps=eps_widget)"
   ]
  },
  {
   "cell_type": "markdown",
   "metadata": {
    "collapsed": true
   },
   "source": [
    "## References\n",
    "[1] Jupyter Notebooks of SC1. Claudio Torres. https://github.com/tclaudioe/Scientific-Computing/tree/master/SC1.\n",
    "\n",
    "[2] Jupyter Notebooks of SC2. Claudio Torres. https://github.com/tclaudioe/Scientific-Computing/tree/master/SC2.\n",
    "\n",
    "[3] Jupyter Notebooks of SC5. Claudio Torres. https://github.com/tclaudioe/Scientific-Computing/tree/master/SC5.\n",
    "\n",
    "[4] Using observe to update values in a widget. http://ipywidgets.readthedocs.io/en/latest/examples/Using%20Interact.html#Arguments-that-are-dependent-on-each-other"
   ]
  },
  {
   "cell_type": "code",
   "execution_count": null,
   "metadata": {
    "collapsed": true
   },
   "outputs": [],
   "source": []
  }
 ],
 "metadata": {
  "kernelspec": {
   "display_name": "Python 3",
   "language": "python",
   "name": "python3"
  },
  "language_info": {
   "codemirror_mode": {
    "name": "ipython",
    "version": 3
   },
   "file_extension": ".py",
   "mimetype": "text/x-python",
   "name": "python",
   "nbconvert_exporter": "python",
   "pygments_lexer": "ipython3",
   "version": "3.5.2"
  }
 },
 "nbformat": 4,
 "nbformat_minor": 1
}

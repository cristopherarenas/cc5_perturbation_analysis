{
 "cells": [
  {
   "cell_type": "markdown",
   "metadata": {
    "slideshow": {
     "slide_type": "slide"
    }
   },
   "source": [
    "<img src=\"di.png\" alt=\"\" width=\"200px\" align=\"right\"/>\n",
    "<br/>\n",
    "<br/>\n",
    "\n",
    "# Perturbation Analysis in a Parabolic Partial Differential Equation\n",
    "\n",
    "\n",
    "## Cristopher Arenas\n",
    "cristopher.arenas@alumnos.usm.cl"
   ]
  },
  {
   "cell_type": "code",
   "execution_count": null,
   "metadata": {
    "slideshow": {
     "slide_type": "slide"
    }
   },
   "outputs": [],
   "source": [
    "import numpy as np\n",
    "import scipy as sc\n",
    "from scipy.linalg import toeplitz\n",
    "import matplotlib.pyplot as plt\n",
    "from ipywidgets import *\n",
    "%matplotlib inline\n",
    "\n",
    "import matplotlib as mpl\n",
    "mpl.rcParams['lines.linewidth'] = 2\n",
    "mpl.rcParams['font.size'] = 15"
   ]
  },
  {
   "cell_type": "code",
   "execution_count": null,
   "metadata": {
    "slideshow": {
     "slide_type": "slide"
    }
   },
   "outputs": [],
   "source": [
    "def cubic_spline(x, y, end=None, k1=0, k2=0, p1=0, p2=0):\n",
    "    #x: x-coordinates of points\n",
    "    #y: y-coordinates of points\n",
    "    #end: Natural, Adjusted, Clamped, Parabolically, NaK\n",
    "    \n",
    "    n = len(x)\n",
    "    A = np.zeros((3*n-3, 3*n-3))\n",
    "    b = np.zeros(3*n-3)\n",
    "    \n",
    "    delta_x=np.diff(x)\n",
    "       \n",
    "    #Building the linear system of equations\n",
    "    \n",
    "    #1st property\n",
    "    for i in np.arange(n-1):\n",
    "        b[i]= y[i+1]-y[i]\n",
    "        A[i,3*i:3*(i+1)] = [delta_x[i],delta_x[i]**2,delta_x[i]**3]\n",
    "    #2nd property\n",
    "    for i in np.arange(n-2):\n",
    "        A[(n-1)+i,3*i:3*(i+1)+1]=[1, 2*delta_x[i], 3*delta_x[i]**2, -1]\n",
    "    #3rd property\n",
    "    for i in np.arange(n-2):\n",
    "        A[(n-1)+(n-2)+i,3*i:3*(i+1)+2] = [0, 2, 6*delta_x[i], 0, -2]\n",
    "    \n",
    "    #Ending conditions (4th property)\n",
    "    if end =='Natural':\n",
    "        A[-2,1]= 2\n",
    "        A[-1,-2] = 2\n",
    "        A[-1,-1] = 6*delta_x[-1]\n",
    "\n",
    "    elif end == 'Adjusted':\n",
    "        A[-2,1]= 2\n",
    "        A[-1,-2] = 2\n",
    "        A[-1,-1] = 6*delta_x[-1]\n",
    "        b[-2:] = [k1,k2]\n",
    "\n",
    "    elif end == 'Clamped':\n",
    "        A[-2,0]=1\n",
    "        A[-1,-3:] = [1,2*delta_x[-1],3*delta_x[-1]**2]\n",
    "        b[-2:] = [p1,p2]\n",
    "\n",
    "    elif end == 'Parabolically':\n",
    "        A[-2,2]=1\n",
    "        A[-1,-1]=1\n",
    "\n",
    "    elif end == 'NaK':\n",
    "        A[-2,2:6]=[6,0,0,-6]\n",
    "        A[-1,-4:]=[6,0,0,-6]\n",
    "    \n",
    "    #Solving the system\n",
    "    sol = np.linalg.solve(A,b)\n",
    "    S = {'b':sol[::3],\n",
    "         'c':sol[1::3],\n",
    "         'd':sol[2::3],\n",
    "         'x':x,\n",
    "         'y':y\n",
    "        }\n",
    "    return S\n",
    "\n",
    "def cubic_spline_eval(xx,S):\n",
    "    x=S['x']\n",
    "    y=S['y']\n",
    "    b=S['b']\n",
    "    c=S['c']\n",
    "    d=S['d']\n",
    "    n=len(x)\n",
    "    yy=float(\"nan\")\n",
    "    for i in np.arange(n-1):\n",
    "        if x[i] <= xx and xx <= x[i+1]:\n",
    "            yy = y[i]+b[i]*(xx-x[i])+c[i]*(xx-x[i])**2+d[i]*(xx-x[i])**3\n",
    "    return yy\n",
    "\n",
    "def cubic_spline_eval2(xx,S):\n",
    "    x=S['x']\n",
    "    y=S['y']\n",
    "    b=S['b']\n",
    "    c=S['c']\n",
    "    d=S['d']\n",
    "    n=len(x)\n",
    "    yy=np.zeros_like(xx)\n",
    "    for i in np.arange(n-1):\n",
    "        jj = np.where(np.logical_and(x[i]<=xx,xx<=x[i+1]))\n",
    "        yy[jj]=y[i]+b[i]*(xx[jj]-x[i])+c[i]*(xx[jj]-x[i])**2+d[i]*(xx[jj]-x[i])**3\n",
    "    return yy"
   ]
  },
  {
   "cell_type": "code",
   "execution_count": null,
   "metadata": {
    "slideshow": {
     "slide_type": "slide"
    }
   },
   "outputs": [],
   "source": [
    "def bisect(f, a, b, verb=False, tol=10e-12):\n",
    "    fa = f(a)\n",
    "    fb = f(b)\n",
    "    i = 0\n",
    "    # Just checking if the sign is not negative => not root  necessarily \n",
    "    if np.sign(f(a)*f(b)) >= 0:\n",
    "        print('f(a)f(b)<0 not satisfied!')\n",
    "        return None\n",
    "    \n",
    "    if verb:\n",
    "        #Printing the evolution of the computation of the root\n",
    "        print(' i |     a     |     c     |     b     |     fa    |     fc     |     fb     |   b-a')\n",
    "        print('----------------------------------------------------------------------------------------')\n",
    "    \n",
    "    while(b-a)/2 > tol:\n",
    "        c = (a+b)/2.\n",
    "        fc = f(c)\n",
    "        if verb:\n",
    "            print('%2d | %.7f | %.7f | %.7f | %.7f | %.7f | %.7f | %.7f' % (i+1, a, c, b, fa, fc, fb, b-a))\n",
    "        # Did we find the root?\n",
    "        if fc == 0:\n",
    "            print('f(c)==0')\n",
    "            break\n",
    "        elif np.sign(fa*fc) < 0:\n",
    "            b = c\n",
    "            fb = fc\n",
    "        else:\n",
    "            a = c\n",
    "            fa = fc\n",
    "        i += 1\n",
    "        \n",
    "    xc = (a+b)/2.\n",
    "    return xc"
   ]
  },
  {
   "cell_type": "code",
   "execution_count": null,
   "metadata": {
    "slideshow": {
     "slide_type": "slide"
    }
   },
   "outputs": [],
   "source": [
    "def simpsons(myfun, N, a, b, verbose=False, text=\"\", figname=\"\"):\n",
    "    f = np.vectorize(myfun) # So we can apply it to arrays without trouble\n",
    "    x = np.linspace(a, b, N+1) # We want N bins, so N+1 points\n",
    "    if N%2==1:\n",
    "        if verbose: print(\"Simpsons rule only applicable to even number of segments\")\n",
    "        return np.nan\n",
    "    dx = x[1]-x[0]\n",
    "    xleft   = x[:-2:2]\n",
    "    xmiddle = x[1::2]\n",
    "    xright  = x[2::2]\n",
    "    int_val = sum((f(xleft)+4*f(xmiddle)+f(xright))*dx/3)\n",
    "    if verbose:\n",
    "        xbin, ybin = simpsons_bins(f, xleft, xmiddle, xright)\n",
    "        plot(f, xbin, ybin, int_val, N, text, figname)\n",
    "    return int_val"
   ]
  },
  {
   "cell_type": "markdown",
   "metadata": {
    "slideshow": {
     "slide_type": "slide"
    }
   },
   "source": [
    "## Introduction"
   ]
  },
  {
   "cell_type": "markdown",
   "metadata": {
    "slideshow": {
     "slide_type": "fragment"
    }
   },
   "source": [
    "Commonly, exist some phenomena that can be represented as mathematical models, using differential equations. In some cases, simplificationes in the moment of making the model can reduce the difficulty of the representation, but in change, the model could not consider the effect of small factors that are occurring."
   ]
  },
  {
   "cell_type": "markdown",
   "metadata": {
    "slideshow": {
     "slide_type": "fragment"
    }
   },
   "source": [
    "Parabolic Partial Differential Equations model different process in the scope of Engineering and Science. One representative Parabolic Partial Differential Equation is the following:\n",
    "$$\n",
    "\\frac{\\partial u(x,t)}{\\partial t} = d\\,\\frac{\\partial^2 u(x,t)}{\\partial x^2} + c\\,\\frac{\\partial u(x,t)}{\\partial x}\n",
    "$$"
   ]
  },
  {
   "cell_type": "markdown",
   "metadata": {
    "slideshow": {
     "slide_type": "fragment"
    }
   },
   "source": [
    "Tipically there are processes involved in this equation: advection, difusion and reaction. "
   ]
  },
  {
   "cell_type": "markdown",
   "metadata": {
    "slideshow": {
     "slide_type": "slide"
    }
   },
   "source": [
    "## Method of multiple scales"
   ]
  },
  {
   "cell_type": "markdown",
   "metadata": {
    "collapsed": true,
    "slideshow": {
     "slide_type": "fragment"
    }
   },
   "source": [
    "The method of multiple scales is a general method applicable in a wide range of problems. In this problems there are two processes acting at the same time, each one with its own scale. \n",
    "The problem of determinate $u(x,t)$ usually has an approximated value using the approximation:\n",
    "\n",
    "$$\n",
    "u(x,t, \\varepsilon) \\approx u_0(x,t) + \\varepsilon \\, u_1(x,t)\n",
    "$$\n",
    "\n",
    "This expansion works fine with a fixed value of $t$ and $\\varepsilon$ near to zero. However, there are problems if $t \\geq \\mathcal{O}(\\varepsilon ^{-1})$. There are two processes acting simultaneously that has its own scales. So, it is necessary to introduce two time variables:\n",
    "\n",
    "- $\\tau = t$ the _fast time_\n",
    "- $T = \\varepsilon t$ the _slow time_\n",
    "\n",
    "With this variables, the solution proposed by the method has the form:\n",
    "\n",
    "$$\n",
    "u(x,t,\\varepsilon) \\approx u(x,\\tau, T, \\varepsilon)\n",
    "$$"
   ]
  },
  {
   "cell_type": "markdown",
   "metadata": {
    "collapsed": true,
    "slideshow": {
     "slide_type": "slide"
    }
   },
   "source": [
    "In this maner, variations of time must be deteminated in function of the variations of the _fast time_ and _slow time_. In terms of algebra:\n",
    "\n",
    "$$\n",
    "\\frac{\\mathrm{d}}{\\mathrm{d}t} = \\left( \\frac{ \\partial }{\\partial \\tau} \\right) + \\varepsilon \\left( \\frac{\\partial}{\\partial T} \\right)\n",
    "$$"
   ]
  },
  {
   "cell_type": "markdown",
   "metadata": {
    "slideshow": {
     "slide_type": "fragment"
    }
   },
   "source": [
    "Finally, the approximation for $u(x,t)$ that is asymptotic for $T = \\mathcal{O}(1)$ is:\n",
    "\n",
    "$$\n",
    "u(x,t,\\varepsilon) \\approx u_0(x,\\tau,T) + \\varepsilon\\, u_1(x,\\tau,T)\n",
    "$$"
   ]
  },
  {
   "cell_type": "markdown",
   "metadata": {
    "slideshow": {
     "slide_type": "fragment"
    }
   },
   "source": [
    "The next step is to determinate the functions $u_k$, replacing into the partial differential equation and comparing coefficients of $\\varepsilon^k$ as usual."
   ]
  },
  {
   "cell_type": "markdown",
   "metadata": {
    "slideshow": {
     "slide_type": "slide"
    }
   },
   "source": [
    "## A diffusion-advection equation"
   ]
  },
  {
   "cell_type": "markdown",
   "metadata": {
    "slideshow": {
     "slide_type": "fragment"
    }
   },
   "source": [
    "Consider the following problem that shows advection around a periodic domain $0 < \\theta < 2\\pi$ with some small diffusion. "
   ]
  },
  {
   "cell_type": "markdown",
   "metadata": {
    "slideshow": {
     "slide_type": "fragment"
    }
   },
   "source": [
    "\\begin{align*}\n",
    "\\frac{\\partial u(\\theta,t)}{\\partial t} + \\frac{\\partial}{\\partial \\theta} (\\omega(\\theta)\\,u(\\theta,t)) &= \\varepsilon\\frac{\\partial^2u(\\theta,t)}{\\partial \\theta^2}\\\\\n",
    "u(\\theta,0) &= F(\\theta)\\\\\n",
    "u(0,t) &= u(2\\pi,t)\n",
    "\\end{align*}"
   ]
  },
  {
   "cell_type": "markdown",
   "metadata": {
    "slideshow": {
     "slide_type": "fragment"
    }
   },
   "source": [
    "where $\\omega(\\theta)$ is given over $0 \\leq \\theta \\leq 2\\pi$, periodic and positive. $F(\\theta)$ is a known function and $\\varepsilon$ is a tiny value."
   ]
  },
  {
   "cell_type": "markdown",
   "metadata": {
    "slideshow": {
     "slide_type": "slide"
    }
   },
   "source": [
    "### Application of the Method of multiple scales"
   ]
  },
  {
   "cell_type": "markdown",
   "metadata": {
    "slideshow": {
     "slide_type": "fragment"
    }
   },
   "source": [
    " As can be seen there are two process acting at simultaneously: advection on the fast time scale and difusion on the slow scale. According to the method, the next expansion is used:\n",
    " \n",
    "$$\n",
    "u(\\theta,t,\\varepsilon) \\approx u_0(\\theta,\\tau,T) + \\varepsilon\\, u_1(\\theta,\\tau,T)\n",
    "$$"
   ]
  },
  {
   "cell_type": "markdown",
   "metadata": {
    "slideshow": {
     "slide_type": "fragment"
    }
   },
   "source": [
    "Sustituing into the equation and comparing coefficients there are derivated problems to solve."
   ]
  },
  {
   "cell_type": "markdown",
   "metadata": {
    "slideshow": {
     "slide_type": "slide"
    }
   },
   "source": [
    "**First problem**"
   ]
  },
  {
   "cell_type": "markdown",
   "metadata": {
    "slideshow": {
     "slide_type": "fragment"
    }
   },
   "source": [
    "$\n",
    "\\mathcal{O}(1):\n",
    "$\n",
    "\n",
    "$$\n",
    "\\frac{\\partial u_0}{\\partial \\tau} + \\frac{\\partial}{\\partial \\theta}(\\omega(\\theta) \\, u_0) = 0\n",
    "$$"
   ]
  },
  {
   "cell_type": "markdown",
   "metadata": {
    "slideshow": {
     "slide_type": "fragment"
    }
   },
   "source": [
    "The first problem can be rewrited as:\n",
    "\n",
    "$$\n",
    "\\frac{1}{\\omega} \\left( \\frac{\\partial}{\\partial \\tau} + \\omega \\frac{\\partial}{\\partial \\theta}\\right) (\\omega\\, u_0) = 0\n",
    "$$\n",
    "\n",
    "This is an advection problem that depends only of the fast time, no slow time are implicated. An observed moving at  a speed $\\omega$ will see the quantity $\\omega \\, u_0$ remain constant. If the value of $\\omega(\\theta)$ was $\\omega(\\theta) = \\omega$, where $\\omega$ is constant, the solution is reduced to $u_0(\\theta,\\tau,T) = F(\\theta-\\omega\\tau)$, where $F(\\theta)$ is the initial value. However, in a general scenario, is necessary to know how much advanced is done after a time $\\tau$. Consider the following initial value problem:\n",
    "\n",
    "\\begin{align*}\n",
    "\\frac{\\mathrm{d}\\theta}{\\mathrm{d}t} &= \\omega(\\theta)\\\\\n",
    "\\theta(0) &= 0\n",
    "\\end{align*}\n",
    "\n",
    "Supouse that $\\Theta(t)$ is the solution of this problem and, since $\\theta$ is a periodic variable, the function $\\Theta(t)$ has a period $P$."
   ]
  },
  {
   "cell_type": "markdown",
   "metadata": {
    "slideshow": {
     "slide_type": "slide"
    }
   },
   "source": [
    "The next function solves the Initial Value Problem explained before using the Forward Euler Method. The return of this function is the function $\\Theta(t)$ constructed from a cubic spline. Also, the period $P$ of the function $\\Theta(t)$ was computed with the reconstructed funcion form cubic spline [2] modulo $2\\pi$. A verification of the period was employed using the Bisection method [1]. In order to determinate a value $s$ such that $\\Theta(s) = \\hat{\\theta}$, since $\\Theta(0) = 0$. Let $T(s)$ be the function:\n",
    "\n",
    "$$\n",
    "T(s) = \\Theta(s) - \\hat{\\theta}\n",
    "$$\n",
    "\n",
    "So, finding a root for $T(s)$, is possible to verify when the displacement reaches multiplies of $2\\pi$ and later, obtain the period $P$."
   ]
  },
  {
   "cell_type": "code",
   "execution_count": null,
   "metadata": {
    "slideshow": {
     "slide_type": "slide"
    }
   },
   "outputs": [],
   "source": [
    "def solve_IVP(w,t_max=10,show_plot=False,delta=1):\n",
    "    #using Explicit Euler Method to estimate de IVP\n",
    "    t = np.linspace(0,t_max,50)\n",
    "    tt = np.linspace(0,t_max,1000)\n",
    "    h = t[1] - t[0]\n",
    "    theta = np.zeros(t.shape)\n",
    "    theta[0] = 0\n",
    "    for i in range(t.shape[0]-1):\n",
    "        theta[i+1] = theta[i] + h*w(theta[i],delta)\n",
    "        \n",
    "    #compute cubic splines for estimate the funtion\n",
    "    spl = cubic_spline(t,theta,end=\"Natural\")\n",
    "    \n",
    "    if show_plot:\n",
    "        plt.figure(figsize=(8,5))\n",
    "        #plot points of the numerical solution for theta\n",
    "        plt.plot(t,theta,\"ro\",label=r\"$\\Theta(t)$\")    \n",
    "        #plot spline function using the previous points\n",
    "        plt.plot(tt,cubic_spline_eval2(tt,spl),\"-g\",label=r\"Splines for $\\Theta(t)$\")\n",
    "        \n",
    "        #get the period of the function\n",
    "        #th = [2*np.pi,4*np.pi,6*np.pi]\n",
    "        th = [2*np.pi]\n",
    "        list_s = []   \n",
    "\n",
    "        for i in th:\n",
    "            f = lambda x: cubic_spline_eval(x,spl) - i\n",
    "            #obtain the time s where theta(s) = 2pi, 4pi and 6pi\n",
    "            s = bisect(f,0,t_max,verb=False)\n",
    "            #plot a vertical line\n",
    "            plt.axvline(x=s, color='k', linestyle='--')\n",
    "            list_s.append(s)\n",
    "\n",
    "        #plot the points where theta(s) = 2pi, 4pi and 6pi\n",
    "        plt.plot(list_s,th,\"Db\")   \n",
    "        \n",
    "        #plot the spline functions mod 2pi to verify the period\n",
    "        plt.plot(tt,(cubic_spline_eval2(tt,spl)%(2*np.pi)),\"-b\",label=r\"$\\Theta(t)$ mod $2\\pi$\")\n",
    "        #other configurations of the plot\n",
    "        plt.grid(True)\n",
    "        plt.legend(loc=\"best\")\n",
    "        plt.xlabel(r\"$t$\")\n",
    "        plt.ylabel(r\"$\\Theta(t)$\")\n",
    "        plt.title(\"Period P = \"+str(list_s[0])+\" [s]\")\n",
    "        #save image in pdf\n",
    "        plt.savefig(\"Theta.pdf\")\n",
    "        plt.show()\n",
    "        \n",
    "    Theta = lambda x: cubic_spline_eval(x,spl)\n",
    "    \n",
    "    return Theta"
   ]
  },
  {
   "cell_type": "markdown",
   "metadata": {
    "slideshow": {
     "slide_type": "slide"
    }
   },
   "source": [
    "In order to solve the first problem, a change of variable to Lagrangian coordinates $s$ and $\\tau$ will be done. Let:\n",
    "\n",
    "$$\n",
    "\\theta(s,\\tau) = \\Theta(\\tau - s)\n",
    "$$\n",
    "\n",
    "Where $s$ is the **time delay** since $\\theta$ was zero. With that, the coordinate system consisting of one spatial variable $\\theta$ and temporal variables $\\tau$ and $T$, changes into temporal variables $\\tau$, $T$ and $s$."
   ]
  },
  {
   "cell_type": "markdown",
   "metadata": {
    "slideshow": {
     "slide_type": "fragment"
    }
   },
   "source": [
    "Using the chain rule to recast the differential equation, the following equalities are valid:\n",
    "    \n",
    "\\begin{align*}\n",
    "\\left(\\frac{\\partial}{\\partial \\tau} \\right)_s &= \\left( \\frac{\\partial}{\\partial \\tau}  \\right)_\\theta + \\omega \\left( \\frac{\\partial}{\\partial \\theta} \\right)_{\\tau}\\\\\n",
    "\\left( \\frac{\\partial}{\\partial \\theta} \\right)_\\tau &= -\\frac{1}{\\omega} \\left( \\frac{\\partial}{\\partial s} \\right)_{\\tau}\n",
    "\\end{align*}\n",
    "    "
   ]
  },
  {
   "cell_type": "markdown",
   "metadata": {
    "slideshow": {
     "slide_type": "slide"
    }
   },
   "source": [
    "Replacing into the equation, the problem is reduced to:\n",
    "\n",
    "$$\n",
    "\\left(\\frac{\\partial}{\\partial \\tau} \\right)_s (\\omega\\,u_0) = 0\n",
    "$$\n",
    "\n",
    "Which has constant solution for variable $\\tau$ in this coordinate system. The value of $u_0$ can be determinated defining a function $A_0$, which depends of $s$ and $T$ and the speed $\\omega$:\n",
    "\n",
    "$$\n",
    "u_0(\\theta, \\tau, T) = \\frac{A_0(s,T)}{\\omega(\\theta)}\n",
    "$$"
   ]
  },
  {
   "cell_type": "markdown",
   "metadata": {
    "slideshow": {
     "slide_type": "fragment"
    }
   },
   "source": [
    "This shows that an observed moving at a speed $\\omega(\\theta)$ will see the quantity $\\omega\\,u_0$ remain constant. But, this constant is allowed to modify its value in the slow scale $T$. The initial value of this _constant_ is given by the initial condition of the problem:\n",
    "\n",
    "$$\n",
    "A_0(s,0) = F(\\Theta(-s))\\omega(\\Theta(-s))\n",
    "$$\n"
   ]
  },
  {
   "cell_type": "markdown",
   "metadata": {
    "slideshow": {
     "slide_type": "slide"
    }
   },
   "source": [
    "In order to deteminate $A_0$ the second problem must be aborded."
   ]
  },
  {
   "cell_type": "markdown",
   "metadata": {
    "slideshow": {
     "slide_type": "fragment"
    }
   },
   "source": [
    "**Second Problem**"
   ]
  },
  {
   "cell_type": "markdown",
   "metadata": {
    "slideshow": {
     "slide_type": "fragment"
    }
   },
   "source": [
    "$\n",
    "\\mathcal{O}(\\varepsilon):\n",
    "$\n",
    "\n",
    "$$\n",
    "\\frac{\\partial u_0}{\\partial T}+ \\frac{\\partial u_1}{\\partial \\tau} + \\frac{\\partial}{\\partial \\theta} (\\omega(\\theta) \\, u_1) = \\frac{\\partial^2 u_0}{\\partial \\theta^2}\n",
    "$$"
   ]
  },
  {
   "cell_type": "markdown",
   "metadata": {
    "slideshow": {
     "slide_type": "fragment"
    }
   },
   "source": [
    "Replacing the partially determined $u_0$, the problem becomes:\n",
    "\n",
    "$$\n",
    "\\frac{1}{\\omega} \\frac{\\partial A_0}{\\partial T} + \\frac{1}{\\omega} \\left(\\frac{\\partial}{\\partial \\tau}\\right)_s (\\omega\\,u_1) = \\frac{1}{\\omega} \\left( \\frac{\\partial}{\\partial s} \\right)_{\\tau}\\frac{1}{\\omega} \\left( \\frac{\\partial}{\\partial s} \\right)_{\\tau} \\frac{A_0}{\\omega}\n",
    "$$\n",
    "\n",
    "with $\\omega = \\omega(\\Theta(\\tau-s))$ a $P$-periodic function of $s$ and $\\tau$. Thus:\n",
    "\n",
    "$$\n",
    "\\frac{\\partial A_0}{\\partial T} + \\left(\\frac{\\partial}{\\partial \\tau}\\right)_s (\\omega\\,u_1) = \\frac{1}{\\omega^2} \\frac{\\partial^2A_0}{\\partial s^2}+ \\frac{3}{2} \\frac{\\partial}{\\partial s}\\left( \\frac{1}{\\omega^2} \\right) \\frac{\\partial A_0}{\\partial s}+\\frac{1}{2}\\frac{\\partial^2}{\\partial s^2} \\left( \\frac{1}{\\omega^2}\\right) A_0\n",
    "$$"
   ]
  },
  {
   "cell_type": "markdown",
   "metadata": {
    "slideshow": {
     "slide_type": "slide"
    }
   },
   "source": [
    "The right side of the equation has non zero average. In order to mantain the asymptoticness of the expansion of $f$ in $T = \\mathcal{O}(1)$, the quantity $\\omega \\,u_1$ has to be bounded as $\\tau$ increases. Thus, the average with respect to $\\tau$ of the right hand side must be removed by setting equal to $\\displaystyle\\frac{\\partial A_0}{\\partial T}$. The second and third terms of the right side has zero average because they are derivatives with respect to $s$ of functions of $\\omega$ and so derivatives with respect to $\\tau$. The next equalty must be satisfied:\n",
    "\n",
    "$$\n",
    "\\frac{\\partial A_0}{\\partial T} = \\frac{1}{P} \\int_{0}^{P} \\frac{1}{\\omega^2(\\Theta(\\tau-s))} \\mathrm{d}\\tau \\frac{\\partial^2A_0}{\\partial s^2}\n",
    "$$"
   ]
  },
  {
   "cell_type": "markdown",
   "metadata": {
    "slideshow": {
     "slide_type": "fragment"
    }
   },
   "source": [
    "The previous equation corresponds to a Parabolic PDE with diffusion coeficient equals to the average value of $1/\\omega^2$, that can be solved numerically in order to detemine $A_0$."
   ]
  },
  {
   "cell_type": "markdown",
   "metadata": {
    "slideshow": {
     "slide_type": "slide"
    }
   },
   "source": [
    "**Generically**, the problem can be solve using a numerical aproximation for the integral and using the value obtained in the PDE:\n",
    "\n",
    "$$\n",
    "\\begin{aligned}\n",
    "\\frac{1}{P}\\int_{0}^{P} \\frac{1}{\\omega^2(\\Theta(\\tau-s))} \\approx \\frac{1}{P} \\sum_{i=1}^{K} w_i \\frac{1}{\\omega^2(\\Theta(\\tau_i-s))} = c(s)\n",
    "\\end{aligned}\n",
    "$$\n",
    "\n",
    "Where $w_i$ is the weigh used in the sum of $K$ terms and depends of the numerical method used to estimate the value of the integral. Also, this value depends of temporal variable $s$. So, let $c(s)$ the value of the integral divided by the period $P$ using a numerical method.\n",
    "\n",
    "Now, considering the PDE with the estimation of the integral as the following equation:\n",
    "\n",
    "$$\n",
    "\\begin{aligned}\n",
    "\\frac{\\partial A_0}{\\partial T} &= c(s) \\frac{\\partial^2A_0}{\\partial s^2}\n",
    "\\end{aligned}\n",
    "$$\n",
    "\n",
    "Using an implicit finite difference approach for the variable $T$ and central difference for the variable $s$:\n",
    "\n",
    "The equations to be solved for $j = 1, 2, \\ldots N$ are:\n",
    "\n",
    "$$\n",
    "- \\sigma_j\\,a_{j-1,n+1} + (1+2\\,\\sigma_j)\\,a_{j,n+1}-\\sigma_j\\,a_{j+1,n} = a_{j,n}\n",
    "$$\n",
    "\n",
    "where $\\sigma_j = \\displaystyle\\frac{c(s_j)\\Delta T}{\\Delta s^2}$. And $s$ is a periodic variable.\n",
    "\n"
   ]
  },
  {
   "cell_type": "markdown",
   "metadata": {
    "slideshow": {
     "slide_type": "slide"
    }
   },
   "source": [
    "The next code implements the solution of this PDE, according to the previous explanation"
   ]
  },
  {
   "cell_type": "code",
   "execution_count": null,
   "metadata": {
    "scrolled": false,
    "slideshow": {
     "slide_type": "fragment"
    }
   },
   "outputs": [],
   "source": [
    "def solve_a0(w,F,eps=1,t_max=1,points_s=50,points_T=80,delta=1,num=1):\n",
    "    Theta = solve_IVP(w,25,False,delta)\n",
    "    th1 = lambda x: Theta(x) - 2*np.pi\n",
    "    #t1 is the period P of Theta(t)\n",
    "    t1 = bisect(th1,0,25,verb=False)\n",
    "    #t2 is two periods of Theta(t)\n",
    "    t2 = 2*t1\n",
    "\n",
    "    #take equidistant values in the s axis\n",
    "    s = np.linspace(0,t1,points_s)\n",
    "    delta_s = t1/(points_s-1)\n",
    "    \n",
    "    #tau is taked between P and 2*P for correctly evaluation of Theta(t)\n",
    "    tau = np.linspace(t1,t2,points_s)\n",
    "    #vector c for save the values of c_j\n",
    "    c = np.zeros_like(s)\n",
    "    \n",
    "    for j in range(s.shape[0]):\n",
    "        #compute the numerical quadrature of myfun with variable s\n",
    "        myfun = lambda x: 1/((w(Theta(x-s[j]),delta))**2)\n",
    "        #using simpsons rule, number points_s must be EVEN\n",
    "        val = simpsons(myfun, points_s, t1, t2)/t1\n",
    "        #saving the value of c_j\n",
    "        c[j] = val\n",
    "    \n",
    "    \n",
    "    #computing delta_T\n",
    "    delta_T = (t_max)/(points_T-1)\n",
    "    #compute the values of sigma_j\n",
    "    sigma = (delta_T/(delta_s**2))*c\n",
    "    \n",
    "    \n",
    "    #compute matrix\n",
    "    A = np.zeros((points_s,points_s))\n",
    "    for i in range(points_s):\n",
    "        A[i][i] = 1+2*sigma[i]\n",
    "        if i < points_s-1:\n",
    "            A[i+1][i] = -sigma[i]\n",
    "        if i > 0:\n",
    "            A[i-1][i] = -sigma[i]\n",
    "    A[-1][0] = -sigma[0]\n",
    "    A[0][-1] = -sigma[-1]\n",
    "    \n",
    "    \n",
    "    sols = np.zeros((points_s,points_T+1))\n",
    "    for i in range(points_s):\n",
    "        #sols[i,0] = F(Theta(t1-s[i]),num)*w(Theta(t1-s[i]),delta)\n",
    "        sols[i,0] = F(Theta(-s[i]%t1),num)*w(Theta(-s[i]%t1),delta)\n",
    "        \n",
    "    for i in range(1,points_T+1):\n",
    "        sols[:,i] = np.linalg.solve(A,sols[:,i-1])    \n",
    "    return s,sols,delta_T"
   ]
  },
  {
   "cell_type": "code",
   "execution_count": null,
   "metadata": {
    "slideshow": {
     "slide_type": "slide"
    }
   },
   "outputs": [],
   "source": [
    "def print_simulation_a0(w,F,i,eps,delta=1,num=1):\n",
    "    t_max = 1\n",
    "    s,a0,d_T = solve_a0(w,F,eps,t_max,50,501,delta,num)\n",
    "    plt.figure(figsize=(10,5))\n",
    "    plt.plot(s,a0[:,i],\"ro\")\n",
    "    plt.xlabel(\"$s$\")\n",
    "    plt.ylabel(\"$A_0(s,T)$\")\n",
    "    plt.title(r\"$A_0(s,T)$ for $T = \"+str(d_T*i)+\"$\")\n",
    "    plt.ylim(-4,4)\n",
    "    plt.grid(True)\n",
    "    plt.show()"
   ]
  },
  {
   "cell_type": "markdown",
   "metadata": {
    "slideshow": {
     "slide_type": "slide"
    }
   },
   "source": [
    "Finally, in order to obtain $u_0(\\theta,\\tau,T)$, is necessary to determinate which $s$ corresponds to a value of $\\hat{\\theta}$ given. The value of $u_0(\\hat{\\theta},\\tau,T)$ is given by:\n",
    "\n",
    "$$\n",
    "u_0(\\hat{\\theta},\\tau,T) = \\frac{A_0(s,T)}{\\omega(\\hat{\\theta})}\n",
    "$$\n",
    "\n",
    "Let $R(\\alpha)$ be the function:\n",
    "\n",
    "$$\n",
    "R(\\alpha) = \\Theta(\\alpha) - \\hat{\\theta}\n",
    "$$\n",
    "\n",
    "So, finding a root for $R(\\alpha)$, the value of $\\alpha$ such $\\Theta(\\alpha) = \\hat{\\theta}$ is found. In this case, is necesary go from lagrangian coordinate system to a traditional coordinate system space-time and $\\alpha$ is interpretated as $\\tau-s$ of the lagrangian coordinates. So, $s$ is creared from the original definition of lagrangian coordinates:\n",
    "\n",
    "$$\n",
    "\\begin{aligned}\n",
    "\\Theta(\\tau-s) &= \\Theta(\\alpha) = \\hat{\\theta}\\\\\n",
    "& \\Rightarrow \\tau-s = \\alpha\\\\\n",
    "& \\Rightarrow s = \\tau - \\alpha\n",
    "\\end{aligned}\n",
    "$$\n",
    "\n",
    "Finally, with this value of $s$ is possible to come back to traditional coordinate system to interpretate and compare results."
   ]
  },
  {
   "cell_type": "markdown",
   "metadata": {
    "slideshow": {
     "slide_type": "slide"
    }
   },
   "source": [
    "The next code implements the calculation of values for $u_0$ taking equdistant points in the $\\theta$ axis from $0$ to $2\\pi$. The bisection method [1] was used for obtain the zeros of $R(\\alpha)$ when was needed. "
   ]
  },
  {
   "cell_type": "code",
   "execution_count": null,
   "metadata": {
    "slideshow": {
     "slide_type": "fragment"
    }
   },
   "outputs": [],
   "source": [
    "def get_u0(w,F,i,eps=1,t_max=10,points_th=50,points_T=500,delta=1,num=1):\n",
    "    Theta = solve_IVP(w,25,False,delta)\n",
    "    th1 = lambda x: Theta(x) - 2*np.pi\n",
    "    #get period of the function\n",
    "    period = bisect(th1,0,25,verb=False)\n",
    "    \n",
    "    #points to using in the s axis\n",
    "    points_s = 50\n",
    "    \n",
    "    #computing A0(s,T)\n",
    "    s, a0, delta_T = solve_a0(w,F,eps,t_max,points_s,points_T,delta,num)\n",
    "    \n",
    "    #obtain points between 0 and 2pi\n",
    "    th = np.linspace(0,2*np.pi,points_th)\n",
    "    \n",
    "    #generate structure to save values of u0\n",
    "    u_0 = np.zeros_like(th)    \n",
    "    \n",
    "    #compute cubic spline for a0 in T = i*delta_T\n",
    "    spl = cubic_spline(s,a0[:,i],end=\"Natural\")\n",
    "    a_0 = lambda x: cubic_spline_eval(x,spl)\n",
    "\n",
    "    for j in range(1,th.shape[0]):\n",
    "        fun = lambda x: Theta(x)-th[j]\n",
    "        alpha = bisect(fun,0,2*period,verb=False)\n",
    "        s2 = ((i*delta_T/eps)-alpha)%period\n",
    "        u_0[j] = a_0(s2)/w(th[j],delta)\n",
    "    u_0[0] = u_0[-1]\n",
    "    return th,u_0,delta_T"
   ]
  },
  {
   "cell_type": "code",
   "execution_count": null,
   "metadata": {
    "slideshow": {
     "slide_type": "slide"
    }
   },
   "outputs": [],
   "source": [
    "def print_simulation_u0(w,F,i,eps,delta=1,num=1):\n",
    "    t_max = 1\n",
    "    th,u0,d_T = get_u0(w,F,i,eps,t_max,50,501,delta,num)\n",
    "    plt.figure(figsize=(10,5))\n",
    "    plt.plot(th,u0,\"gD\")\n",
    "    plt.xlabel(r\"$\\theta$\")\n",
    "    plt.ylabel(r\"$u_0(\\theta,\\tau,T)$\")\n",
    "    plt.title(r\"$u_0(\\theta,\\tau,T)$ for $T = \"+str(d_T*i)+\"$, $t=\"+str(d_T*i/eps)+\"$\")\n",
    "    plt.ylim(-4,4)\n",
    "    plt.grid(True)\n",
    "    plt.show()"
   ]
  },
  {
   "cell_type": "code",
   "execution_count": null,
   "metadata": {
    "slideshow": {
     "slide_type": "skip"
    }
   },
   "outputs": [],
   "source": []
  },
  {
   "cell_type": "markdown",
   "metadata": {
    "slideshow": {
     "slide_type": "slide"
    }
   },
   "source": [
    "### Using Finite Difference Method"
   ]
  },
  {
   "cell_type": "markdown",
   "metadata": {
    "slideshow": {
     "slide_type": "fragment"
    }
   },
   "source": [
    "Next, the problem is solved numerically with finite differences with an implicit method. Consider the problem in the form:\n",
    "\n",
    "$$\n",
    "\\frac{\\partial u(\\theta,t)}{\\partial t} + \\frac{\\mathrm{d}\\omega(\\theta_i)}{\\mathrm{d} \\theta} u(\\theta,t) + \\frac{\\partial u(\\theta,t)}{\\partial \\theta} \\omega(\\theta) = \\varepsilon \\frac{\\partial^2 u(\\theta,t)}{\\partial \\theta^2}\n",
    "$$\n",
    "\n",
    "The formulas of the **implicit** finite differences will be **backward in time** and **central in space** for the first derivative (in order to mantain the spatial derivative with a second order aproximation). Let $u_{i,n} \\approx u(\\theta_i,t_n)$, where $\\theta_i$ and $t_n$ are $N_{\\theta}$ and $N_{t}$ equidistant points in the spatial and temporal axes.\n"
   ]
  },
  {
   "cell_type": "markdown",
   "metadata": {
    "slideshow": {
     "slide_type": "fragment"
    }
   },
   "source": [
    "$$\n",
    "\\begin{aligned}\n",
    "\\frac{\\partial u(\\theta,t)}{\\partial t} &= \\frac{u_{i,n}-u_{i,n-1}}{\\Delta t} + \\mathcal{O}(\\Delta t)\\\\\n",
    "\\frac{\\partial u(\\theta,t)}{\\partial \\theta} &= \\frac{u_{i+1,n}-u_{i-1,n}}{2\\,\\Delta \\theta} + \\mathcal{O}(\\Delta \\theta^2)\\\\\n",
    "\\frac{\\partial^2 u(\\theta,t)}{\\partial \\theta^2} &= \\frac{u_{i-1,n}-2\\,u_{i,n}+u_{i+1,n}}{\\Delta \\theta^2} + \\mathcal{O}(\\Delta \\theta^2)\\\\\n",
    "\\end{aligned}\n",
    "$$"
   ]
  },
  {
   "cell_type": "markdown",
   "metadata": {
    "collapsed": true,
    "slideshow": {
     "slide_type": "slide"
    }
   },
   "source": [
    "Replacing into the PDE, there are a system of equation to be solved for unkowns in different values of time where the equations are given by:\n",
    "\n",
    "$$\n",
    "\\left( \\frac{\\omega(\\theta_i)\\,\\Delta t}{2\\Delta \\theta}-\\frac{\\varepsilon\\, \\Delta t}{\\Delta \\theta^2} \\right)\\,u_{i-1,n+1}+ \\left( 1+\\frac{\\mathrm{d}\\omega(\\theta_i)}{\\mathrm{d} \\theta}\\Delta t + 2\\frac{\\varepsilon\\, \\Delta t}{\\Delta \\theta^2} \\right)\\,u_{i,n+1} + \\left(- \\frac{\\omega(\\theta_i)\\,\\Delta t}{2\\Delta \\theta}-\\frac{\\varepsilon\\, \\Delta t}{\\Delta \\theta^2} \\right)\\, u_{i+1,n+1} = u_{i,n}\n",
    "$$\n",
    "\n",
    "for $0 \\leq i<N_{\\theta}$ and $n>0$. For a better visualization, let be:\n",
    "\n",
    "$$\n",
    "\\begin{aligned}\n",
    "\\alpha &= \\frac{\\varepsilon\\,\\Delta t}{\\Delta \\theta^2}\\\\\n",
    "\\beta_i &= \\frac{\\omega(\\theta_i)\\,\\Delta t}{\\Delta \\theta}\\\\\n",
    "\\gamma_i &= \\omega'(\\theta_i)\\,\\Delta t\n",
    "\\end{aligned}\n",
    "$$\n",
    "\n",
    "So, the previous equation can be written as:\n",
    "\n",
    "$$\n",
    "\\left( \\frac{1}{2}-\\frac{\\varepsilon\\, \\Delta t}{\\Delta \\theta^2} \\right)\\,u_{i-1,n+1}+ \\left( 1+\\frac{\\mathrm{d}\\omega(\\theta_i)}{\\mathrm{d} \\theta}\\Delta t + 2\\frac{\\varepsilon\\, \\Delta t}{\\Delta \\theta^2} \\right)\\,u_{i,n+1} + \\left(- \\frac{\\omega(\\theta_i)\\,\\Delta t}{2\\Delta \\theta}-\\frac{\\varepsilon\\, \\Delta t}{\\Delta \\theta^2} \\right)\\, u_{i+1,n+1} = u_{i,n}\n",
    "$$"
   ]
  },
  {
   "cell_type": "markdown",
   "metadata": {
    "slideshow": {
     "slide_type": "fragment"
    }
   },
   "source": [
    "So, the previous equation can be written as:\n",
    "\n",
    "$$\n",
    "\\left( \\frac{\\beta_i}{2}- \\alpha \\right)\\,u_{i-1,n+1}+ \\left( 1+ \\gamma_i + 2 \\alpha \\right)\\,u_{i,n+1} + \\left(-  \\frac{\\beta_i}{2} - \\alpha \\right)\\, u_{i+1,n+1} = u_{i,n}\n",
    "$$\n",
    "\n",
    "for $0 \\leq i<N_{\\theta}$ and $n>0$."
   ]
  },
  {
   "cell_type": "markdown",
   "metadata": {
    "slideshow": {
     "slide_type": "slide"
    }
   },
   "source": [
    "An **explicit** finite difference can be employed using the forward difference for the temporal variable and mantaining the previous differences for the spatial variable:\n",
    "\n",
    "$$\n",
    "\\begin{aligned}\n",
    "\\frac{\\partial u(\\theta,t)}{\\partial t} &= \\frac{u_{i,n+1}-u_{i,n}}{\\Delta t} + \\mathcal{O}(\\Delta t)\\\\\n",
    "\\frac{\\partial u(\\theta,t)}{\\partial \\theta} &= \\frac{u_{i+1,n}-u_{i-1,n}}{2\\,\\Delta \\theta} + \\mathcal{O}(\\Delta \\theta^2)\\\\\n",
    "\\frac{\\partial^2 u(\\theta,t)}{\\partial \\theta^2} &= \\frac{u_{i-1,n}-2\\,u_{i,n}+u_{i+1,n}}{\\Delta \\theta^2} + \\mathcal{O}(\\Delta \\theta^2)\\\\\n",
    "\\end{aligned}\n",
    "$$\n"
   ]
  },
  {
   "cell_type": "markdown",
   "metadata": {
    "slideshow": {
     "slide_type": "fragment"
    }
   },
   "source": [
    "So, the iterative step to be calculated will be:\n",
    "$$\n",
    "u_{i,n+1} = \\left( \\frac{\\beta_i}{2}+ \\alpha \\right)\\,u_{i-1,n}+ \\left( 1- \\gamma_i - 2 \\alpha \\right)\\,u_{i,n} + \\left(-  \\frac{\\beta_i}{2} + \\alpha \\right)\\, u_{i+1,n}\n",
    "$$\n",
    "\n",
    "for $0 \\leq i<N_{\\theta}$ and $n>0$."
   ]
  },
  {
   "cell_type": "markdown",
   "metadata": {
    "slideshow": {
     "slide_type": "slide"
    }
   },
   "source": [
    "The following code implements finite difference method for this problem."
   ]
  },
  {
   "cell_type": "code",
   "execution_count": null,
   "metadata": {
    "slideshow": {
     "slide_type": "fragment"
    }
   },
   "outputs": [],
   "source": [
    "def fd_method(w,wp,F,N,M,t_max,eps,delta=1,num=1,method=\"Implicit\"):\n",
    "    Theta = np.linspace(0,2*np.pi,N)\n",
    "    dt = t_max/(M-1)\n",
    "    \n",
    "    dth = Theta[1]-Theta[0]\n",
    "\n",
    "    A = np.zeros((N-1,N-1))\n",
    "    b = np.zeros((N,M))\n",
    "\n",
    "    b[:-1,0] = F(Theta[:-1],num)\n",
    "    b[-1] = b[0]\n",
    "    \n",
    "    #defining some \"constants\" for matrix generation\n",
    "    alpha = ((eps*dt)/(dth**2))*np.ones(N)\n",
    "    beta = (dt/dth)*w(Theta,delta)\n",
    "    gamma = dt*wp(Theta)\n",
    "    #print(\"eps\",eps)\n",
    "    #print(\"dt\",dt)\n",
    "    #print(\"dth**2\",dth**2)\n",
    "    #print(\"eps*dt/dth**2 = alpha\",alpha)\n",
    "    \n",
    "    if method==\"Implicit\":\n",
    "        for i in range(N-1):\n",
    "            A[i,i] = 1+2*alpha[i]+gamma[i]\n",
    "            A[i,i-1] = -alpha[i]-0.5*beta[i]\n",
    "            if i<N-2:\n",
    "                A[i,i+1] = -alpha[i]+0.5*beta[i]\n",
    "            else:\n",
    "                A[i,0] = -alpha[i]+0.5*beta[i]\n",
    "        for j in range(M-1):\n",
    "            b[:-1,j+1] = np.linalg.solve(A,b[:-1,j])\n",
    "            b[-1,:] = b[0,:]\n",
    "    elif method==\"Explicit\":\n",
    "        for i in range(N-1):\n",
    "            A[i,i] = 1-gamma[i]-2*alpha[i]\n",
    "            A[i,i-1] = 0.5*beta[i]+alpha[i]\n",
    "\n",
    "            if i<N-2:\n",
    "                A[i,i+1] = -0.5*beta[i]+alpha[i]\n",
    "            else:\n",
    "                A[i,0] = -0.5*beta[i]+alpha[i]\n",
    "        for j in range(M-1):\n",
    "            b[:-1,j+1] = np.dot(A,b[:-1,j])\n",
    "            b[-1,:] = b[0,:]\n",
    "        \n",
    "    return b"
   ]
  },
  {
   "cell_type": "markdown",
   "metadata": {
    "slideshow": {
     "slide_type": "slide"
    }
   },
   "source": [
    "### Using FFT"
   ]
  },
  {
   "cell_type": "markdown",
   "metadata": {
    "slideshow": {
     "slide_type": "fragment"
    }
   },
   "source": [
    "The Fast Fourier Transform will be used to determine the spatial derivative of $u(\\theta,t)$ knowing the value of $u$ in the initial time, i.e. since the value of $u(\\theta,t=0)$ is known, the value of $\\displaystyle\\frac{\\partial^n u(\\theta, t=0)}{\\partial \\theta^n}$ can be determinated. Besides, the spatial variable is periodic with period equal to $2\\pi$. Later, using a forward approach for the temporal variable, solutions of $u(\\theta,t)$ will be obtained."
   ]
  },
  {
   "cell_type": "markdown",
   "metadata": {
    "slideshow": {
     "slide_type": "fragment"
    }
   },
   "source": [
    "Consider the problem in the form:\n",
    "\n",
    "$$\n",
    "\\frac{\\partial u(\\theta,t)}{\\partial t} + \\frac{\\mathrm{d} \\omega(\\theta)}{\\mathrm{d} \\theta} u(\\theta,t) + \\frac{\\partial u(\\theta,t)}{\\partial \\theta} \\omega(\\theta) = \\varepsilon \\frac{\\partial^2 u(\\theta,t)}{\\partial \\theta^2}\n",
    "$$\n",
    "\n",
    "Let be $w^{(k)}_{j,n}$ the value obtained using FFT for the derivative of $k$ order for $u(\\theta,t)$ evaluated in $\\theta_j$ for the time $t_n$. Let be $v_{j,n}$ the aproximation of $u(\\theta,t)$ evaluated in $\\theta_j$ for the time $t_n$. Put all the previous definitions together, the problem is reduced to an iterative method that calculates the next time step using the information of the values of $u(\\theta_j,t_n)$, the first derivative of $u(\\theta_j,t_n)$ and the second derivative of $u(\\theta_j,t_n)$ for the actual time. Consider that $\\theta_i$ and $t_n$ are $N_{\\theta}$ and $N_{t}$ equidistant points in the spatial and temporal axes.\n",
    "\n",
    "The iterative step to be used in this case is:\n",
    "\n",
    "$$\n",
    "v_{j,n+1} = \\varepsilon\\,\\Delta t\\,w_{j,n}^{(2)} - \\omega(\\theta_j)\\,\\Delta t\\,w_{j,n}^{(1)}+(1-\\omega'(\\theta_j)\\,\\Delta t)v_{j,n}\n",
    "$$\n",
    "for $0 \\leq j<N_{\\theta}$ and $n>0$.\n"
   ]
  },
  {
   "cell_type": "markdown",
   "metadata": {
    "slideshow": {
     "slide_type": "slide"
    }
   },
   "source": [
    "The next code implements the spectral derivative using FFT in order to obtain the derivative of $\\nu$ order of a function $v$ valid for the spatial interval $[0,2\\pi]$. The code was extracted from [3]."
   ]
  },
  {
   "cell_type": "code",
   "execution_count": null,
   "metadata": {
    "slideshow": {
     "slide_type": "fragment"
    }
   },
   "outputs": [],
   "source": [
    "def spectralDerivativeByFFT(v,nu=1):\n",
    "    if not np.all(np.isreal(v)):\n",
    "        raise ValueError('The input vector must be real')\n",
    "    N=v.shape[0]\n",
    "    K=np.fft.fftfreq(N)*N\n",
    "    iK=(1j*K)**nu\n",
    "    v_hat=np.fft.fft(v)\n",
    "    w_hat=iK*v_hat\n",
    "    if np.mod(nu,2)!=0:\n",
    "        w_hat[int(N/2)]=0\n",
    "    return np.real(np.fft.ifft(w_hat))"
   ]
  },
  {
   "cell_type": "markdown",
   "metadata": {
    "slideshow": {
     "slide_type": "slide"
    }
   },
   "source": [
    "The next code implements the iterative step in order to solve this kind of problem."
   ]
  },
  {
   "cell_type": "code",
   "execution_count": null,
   "metadata": {
    "slideshow": {
     "slide_type": "fragment"
    }
   },
   "outputs": [],
   "source": [
    "def fft_method(w,wp,F,N,M,t_max,eps,delta=1,num=1):\n",
    "    Theta = np.linspace(0,2*np.pi,N)\n",
    "    #T = np.linspace(0,2,M)\n",
    "    #dt = T[1]-T[0]\n",
    "    dt = t_max/(M-1)\n",
    "        \n",
    "    #defining a matrix to save all the values of the function in all the time steps\n",
    "    v = np.zeros((N,M))\n",
    "    #setting values for the initial time\n",
    "    v[:,0] = F(Theta,num)\n",
    "    \n",
    "    w1 = np.zeros(N)\n",
    "    w2 = np.zeros(N)\n",
    "    \n",
    "    #iterative step\n",
    "    for n in range(M-1):\n",
    "        #calculate the first derivative with FFT\n",
    "        w1[1:] = spectralDerivativeByFFT(v[1:,n],1)\n",
    "        w1[0] = w1[-1]\n",
    "        #calculate the second derivative with FFT\n",
    "        w2[1:] = spectralDerivativeByFFT(v[1:,n],2)\n",
    "        w2[0] = w2[-1]\n",
    "              \n",
    "        #get the values of the function in the next time\n",
    "        v[:,n+1] = eps*dt*w2 - dt*w(Theta,delta)*w1+(np.ones(N)-dt*wp(Theta))*v[:,n]\n",
    "    return v"
   ]
  },
  {
   "cell_type": "markdown",
   "metadata": {
    "slideshow": {
     "slide_type": "slide"
    }
   },
   "source": [
    "### Numerical Examples"
   ]
  },
  {
   "cell_type": "markdown",
   "metadata": {
    "slideshow": {
     "slide_type": "fragment"
    }
   },
   "source": [
    "For Numerical Examples, three different functions associated to the initial values will be used. These are:\n",
    "\n",
    "$$\n",
    "\\begin{aligned}\n",
    "F_1(\\theta) &= 2\\,\\sin{(\\theta)}\\\\\n",
    "F_2(\\theta) &= 2\\,\\exp{(-(\\theta-\\pi)^2)}\\\\\n",
    "F_3(\\theta) &= 2\\,\\sin^2{(0.5\\,\\theta)}\\\\\n",
    "\\end{aligned}\n",
    "$$\n"
   ]
  },
  {
   "cell_type": "code",
   "execution_count": null,
   "metadata": {
    "slideshow": {
     "slide_type": "fragment"
    }
   },
   "outputs": [],
   "source": [
    "def F(theta,num=1):\n",
    "    if num == 1:\n",
    "        return 2*np.sin(theta)\n",
    "    elif num==2:\n",
    "        return 2*np.exp(-(theta-np.pi)**2)\n",
    "    elif num==3:\n",
    "        return 2*np.sin(0.5*theta)**2\n",
    "    return theta*0"
   ]
  },
  {
   "cell_type": "markdown",
   "metadata": {
    "slideshow": {
     "slide_type": "slide"
    }
   },
   "source": [
    "According to all the theoretical part explained before, two numerical examples will be tested for the diffusion and advection equation."
   ]
  },
  {
   "cell_type": "markdown",
   "metadata": {
    "slideshow": {
     "slide_type": "fragment"
    }
   },
   "source": [
    "Again, consider the following problem that shows advection around a periodic domain $0 < \\theta < 2\\pi$ with some small diffusion. "
   ]
  },
  {
   "cell_type": "markdown",
   "metadata": {
    "slideshow": {
     "slide_type": "fragment"
    }
   },
   "source": [
    "\\begin{align*}\n",
    "\\frac{\\partial u(\\theta,t)}{\\partial t} + \\frac{\\partial}{\\partial \\theta} (\\omega(\\theta)\\,u(\\theta,t)) &= \\varepsilon\\frac{\\partial^2u(\\theta,t)}{\\partial \\theta^2}\\\\\n",
    "u(\\theta,0) &= F(\\theta)\\\\\n",
    "u(0,t) &= u(2\\pi,t)\n",
    "\\end{align*}"
   ]
  },
  {
   "cell_type": "markdown",
   "metadata": {
    "slideshow": {
     "slide_type": "fragment"
    }
   },
   "source": [
    "where $\\omega(\\theta)$ is given over $0 \\leq \\theta \\leq 2\\pi$, periodic and positive. $F(\\theta)$ is a known function and $\\varepsilon$ is a tiny value."
   ]
  },
  {
   "cell_type": "markdown",
   "metadata": {
    "slideshow": {
     "slide_type": "slide"
    }
   },
   "source": [
    "**Numerical Example 1**\n",
    "The first numerical example considers a constant value $\\delta$ for the speed $\\omega$. Let be:\n",
    "\\begin{align}\n",
    "\\omega(\\theta) &= \\delta\\\\\n",
    "\\omega'(\\theta) &= 0\\\\\n",
    "\\end{align}"
   ]
  },
  {
   "cell_type": "code",
   "execution_count": null,
   "metadata": {
    "slideshow": {
     "slide_type": "fragment"
    }
   },
   "outputs": [],
   "source": [
    "def w(theta, delta=1):\n",
    "    return delta*theta**0 \n",
    "def wp(theta):\n",
    "    return theta*0"
   ]
  },
  {
   "cell_type": "code",
   "execution_count": null,
   "metadata": {
    "slideshow": {
     "slide_type": "slide"
    }
   },
   "outputs": [],
   "source": [
    "def plot_functions(w,wp,F,delta=1,num=1):\n",
    "    th = np.linspace(0,4*np.pi,200)\n",
    "    thh = np.linspace(0,2*np.pi,100)\n",
    "        \n",
    "    plt.figure(figsize=(18,5))\n",
    "\n",
    "    \n",
    "    label_fun = \"0\"\n",
    "    if num==1:\n",
    "        label_fun=r\"2\\,\\sin{(\\theta)}\"\n",
    "    elif num==2:\n",
    "        label_fun=r\"2\\,\\exp(-(\\theta-\\pi)^2)\"\n",
    "    elif num==3:\n",
    "        label_fun=r\"2\\,\\sin(0.5\\,\\theta)^2\"\n",
    "    \n",
    "    plt.subplot(121)\n",
    "    plt.plot(th,w(th,delta),\"-r\",label=r\"$w(\\theta) = \"+str(delta)+\"$\")\n",
    "    plt.plot(th,wp(th),\"-b\",label=r\"$w'(\\theta) = 0$\")\n",
    "    plt.xlim(-1,12)\n",
    "    plt.ylim(-4,4)\n",
    "    plt.axvline(x=0, color='k', linestyle='--')\n",
    "    plt.axvline(x=2*np.pi, color='k', linestyle='--')\n",
    "    plt.grid(True)\n",
    "    plt.xlabel(r\"$\\theta$\")\n",
    "    plt.legend(loc=\"best\")\n",
    "    \n",
    "    plt.subplot(122)\n",
    "    plt.plot(thh,F(thh,num),\"-g\",label = r\"$F(\\theta) = \"+label_fun+\"$\")\n",
    "    plt.xlim(-1,7)\n",
    "    plt.ylim(-4,4)\n",
    "    plt.axvline(x=0, color='k', linestyle='--')\n",
    "    plt.axvline(x=2*np.pi, color='k', linestyle='--')\n",
    "    plt.grid(True)\n",
    "    plt.xlabel(r\"$\\theta$\")\n",
    "    plt.ylabel(r\"$F(\\theta)$\")\n",
    "    plt.legend(loc=\"best\")\n",
    "    plt.show()"
   ]
  },
  {
   "cell_type": "code",
   "execution_count": null,
   "metadata": {
    "slideshow": {
     "slide_type": "slide"
    }
   },
   "outputs": [],
   "source": [
    "delta_widget = FloatSlider(min=0.4,max=2.0, step=0.1, value=1.0)\n",
    "fun_widget = Dropdown(options=[1,2,3],\n",
    "                      value=1, description='Function F')\n",
    "interact(plot_functions,w=fixed(w),wp=fixed(wp),F=fixed(F),delta=delta_widget,num=fun_widget)"
   ]
  },
  {
   "cell_type": "markdown",
   "metadata": {
    "slideshow": {
     "slide_type": "fragment"
    }
   },
   "source": [
    "As can be seen previously, the function $\\omega(\\theta)$ is a positive and periodic function around the interval $[0,2\\pi]$. The derivative of a constant function is zero. The function $F(\\theta)$ is shown between the same interval. "
   ]
  },
  {
   "cell_type": "markdown",
   "metadata": {
    "slideshow": {
     "slide_type": "slide"
    }
   },
   "source": [
    "The first approach for this example consists in determinate numerically the solution of the partial differential equation using Finite Differences (Explicit and Implicit) and Fast Fourier Transform."
   ]
  },
  {
   "cell_type": "code",
   "execution_count": null,
   "metadata": {
    "slideshow": {
     "slide_type": "fragment"
    }
   },
   "outputs": [],
   "source": [
    "def simulation(w,wp,F,i,N,M,t_max,eps,fd_mode,delta,num): \n",
    "    \n",
    "    #spatial axis\n",
    "    Theta = np.linspace(0,2*np.pi,N)\n",
    "    #temporal axis\n",
    "    T = np.linspace(0,t_max,M)\n",
    "    \n",
    "    y1 = fft_method(w,wp,F,N,M,t_max,eps,delta,num)\n",
    "    y2 = np.zeros_like(y1)\n",
    "    label_fd = \"No mode selected for FD\"\n",
    "    if fd_mode == \"Implicit\":\n",
    "        y2 = fd_method(w,wp,F,N,M,t_max,eps,delta,num)\n",
    "        label_fd = \"Implicit Finite Difference\"\n",
    "    elif fd_mode == \"Explicit\":\n",
    "        y2 = fd_method(w,wp,F,N,M,t_max,eps,delta,num,\"Explicit\")\n",
    "        label_fd = \"Explicit Finite Difference\"\n",
    "        \n",
    "    a1 = np.zeros(i+1)\n",
    "    a2 = np.zeros(i+1)\n",
    "    \n",
    "    for k in range(i+1):\n",
    "        a1[k] = max(abs(y1[:,k]))\n",
    "        a2[k] = max(abs(y2[:,k]))\n",
    "          \n",
    "    plt.figure(figsize=(17,13))\n",
    "\n",
    "    plt.subplot(2, 2, 1)\n",
    "    plt.title(\"Simulation at t = \"+str(T[i])+\" [s]\")\n",
    "    plt.plot(Theta[:],y1[:,i],\"-yo\", label=\"Fast Fourier Transform\")\n",
    "    plt.ylim(-5,6)\n",
    "    plt.grid(True)\n",
    "    plt.xlabel(r\"$\\theta$\")\n",
    "    plt.ylabel(r\"$u(\\theta,t)$\")\n",
    "    plt.legend(loc=\"best\")\n",
    "    \n",
    "    plt.subplot(2, 2, 2)\n",
    "    plt.title(\"Simulation at t = \"+str(T[i])+\" [s]\")\n",
    "    plt.plot(Theta[:],y2[:,i],\"-bo\", label=label_fd)\n",
    "    plt.ylim(-5,6)\n",
    "    plt.grid(True)\n",
    "    plt.xlabel(r\"$\\theta$\")\n",
    "    plt.ylabel(r\"$u(\\theta,t)$\")\n",
    "    plt.legend(loc=\"best\")\n",
    "    \n",
    "    plt.subplot(2, 2, 3)\n",
    "    plt.title(\"Max Absolute Value\")\n",
    "    plt.plot(T[:i+1],a1,\"-yo\", label=\"Fast Fourier Transform\")\n",
    "    plt.xlim(-0.1*t_max,1.1*t_max)\n",
    "    plt.grid(True)\n",
    "    plt.xlabel(r\"$t$\")\n",
    "    plt.ylabel(r\"$u(\\theta,t)$\")\n",
    "    plt.legend(loc=\"best\")\n",
    "    \n",
    "    plt.subplot(2, 2, 4)\n",
    "    plt.title(\"Max Absolute Value\")\n",
    "    plt.plot(T[:i+1],a2,\"-bo\", label=label_fd)\n",
    "    plt.xlim(-0.1*t_max,1.1*t_max)\n",
    "    plt.grid(True)\n",
    "    plt.xlabel(r\"$t$\")\n",
    "    plt.ylabel(r\"$u(\\theta,t)$\")\n",
    "    plt.legend(loc=\"best\")\n",
    "    \n",
    "    plt.show()"
   ]
  },
  {
   "cell_type": "markdown",
   "metadata": {
    "slideshow": {
     "slide_type": "slide"
    }
   },
   "source": [
    "The numerical simulation can be observed on a interactive way changing some parameters:\n",
    "* $i$: solution of the equation at time $t_i = i\\,\\Delta t$. Initially $i = 0$.\n",
    "* $N$: number of points to be evaluated in the $\\theta$ axis. Initially $N = 50$.\n",
    "* $M$: number of intervals of time to be displayed. Initially $M = 80$.\n",
    "\n",
    "Aditionally, various values of $\\varepsilon$ will be used."
   ]
  },
  {
   "cell_type": "code",
   "execution_count": null,
   "metadata": {
    "slideshow": {
     "slide_type": "slide"
    }
   },
   "outputs": [],
   "source": [
    "i_widget = IntSlider(min=0, max=79, value=0)\n",
    "N_widget = IntSlider(min=2, max=200, value=50)\n",
    "M_widget = IntSlider(min=2, max=501, value=80)\n",
    "eps_widget = Dropdown(options=[100.,10.,2.,1.,1e-1,1e-2,1e-3,1e-4,1e-5,1e-6,1e-7,\n",
    "                               1e-8,1e-9,1e-10,1e-11,1e-12,1e-13,1e-14,1e-15,1e-16,1e-17,0.],\n",
    "                      value=0, description='eps')\n",
    "delta_widget = FloatSlider(min=0.1,max=2.0, step=0.1, value=1.0)\n",
    "fun_widget = Dropdown(options=[1,2,3],\n",
    "                      value=1, description='Function F')\n",
    "fd_widget = Dropdown(options =  [\"Explicit\", \"Implicit\"], value=\"Implicit\", description = \"FD Mode\")\n",
    "time_widget = IntSlider(min=1,max=10,step=1,value=1,description=\"Max Time\")\n",
    "def update_i_values(*args):\n",
    "    i_widget.max = M_widget.value-1\n",
    "M_widget.observe(update_i_values, 'value')\n",
    "\n",
    "#def Wp(theta,delta=1):\n",
    "#    return 0*theta\n",
    "\n",
    "interact(simulation,\n",
    "         w=fixed(w),\n",
    "         wp=fixed(wp),\n",
    "         F=fixed(F),\n",
    "         i=i_widget,\n",
    "         N=N_widget,\n",
    "         M=M_widget,\n",
    "         eps=eps_widget,\n",
    "         t_max = time_widget,\n",
    "         fd_mode=fd_widget,\n",
    "         delta=delta_widget,\n",
    "         num=fun_widget)"
   ]
  },
  {
   "cell_type": "markdown",
   "metadata": {
    "slideshow": {
     "slide_type": "slide"
    }
   },
   "source": [
    "The first case $\\varepsilon = 0$ is simply an advection equation without diffusion. Since the speed $\\omega$ is constant the solution, tipically a wave is moving at this constant rate. Is expected that the maximum absolute value of the solution observed be the same in all the time elapsed.\n",
    "- The FFT has stability problems when $N$ is much greater than $M$ (apparently with a quotient $N/M$ greater to 1 and nearer to 2). Also, when the value of $M$ is tiny the simulation has stability problems more prematurely. In cases where there are no stability issues, the maximum absolute value of the solution is increasing slightly. When the value of $M$ is bigger, i.e., the time between two neighbor points is shorter, the increment of the maximun value obtained is lower that with a $M$ small. This factor maybe is associated with the numerical error of the method.\n",
    "- The Implicit FD does not have problems of stability. It can be observed that the maximum absolute value of the solutions is decresing in time slightly, and also, with bigger values of $M$ the change in this decrease is lower that the same effect with a small $M$. Again, this difference between the expected behavior and the numerical results can be interpretated as numerical error asociated.\n",
    "- The Explicit FD does not have problems of stability with in this case and its behaviour is better to comparing with FFT. The maximum value is increasing int time such as FFT. Also, with as greater is the value of $M$, the total increment of the maximum value in time $t=10$ is lower."
   ]
  },
  {
   "cell_type": "markdown",
   "metadata": {
    "slideshow": {
     "slide_type": "slide"
    }
   },
   "source": [
    "Cases when $\\varepsilon > 0$ are examples of a advection-diffusion equation when the solution is disipated around the axis. When the coeficient is greater, the disipation of the values is faster. The advection process, barely can be seen. The problem can be seen as the oposite as the original problem with a slow difusion, where now the advection is the slow process compared to the diffusion and if the coeficient of difusion is a big value, then the solution is practicaly a constant solution (explained for a really fast difusion, without considering what was the initial distribution of the function).\n",
    "- Again, the FFT has stability problems related to the quotient $N/M$ in the same way that the previous case. However, in this cases there is an aditional effect of the $\\varepsilon$ parameter. For $\\varepsilon = 1$, the problem of stability ocurrs with a $N/M$ quotient near to 0.10. It can be seen that at higher values of $\\varepsilon$, the problem of stability occurs sooner, so the quotient $N/M$ has to mantain as low as possible. When the stability problem arises, the maximum absolute value is disproportionately huge, and as long as the coeficient $N/M$ increases, the increment of the maximum absolute value ocurs sooner. When there are not stability problems, the behaviour of the maximum absolute value is the expected, observing a diffusion processs in the time and decresing this maximum value faster if the diffusion coefficient is bigger.\n",
    "- The Implicit FD does not have problems of stability. The behaviour of the maximun absolute value is the expected in all the cases and, as ocurrs in FFT, as bigger the diffusion coefficient is, more sooner is the time when the maximum aplitude reaches the zero value.\n",
    "- The Explicit FD has problems of stability with the quotient $N/M$ near to 0.16, but the stability issues ocurrs with minor frequency that the FFT. The behaviour in this cases, when the method is stable, is the expected behaviours for a not small diffusion coefficient."
   ]
  },
  {
   "cell_type": "markdown",
   "metadata": {
    "slideshow": {
     "slide_type": "slide"
    }
   },
   "source": [
    "The final cases consider $0 < \\varepsilon \\ll 1$ and is the interest for this work. Is expected to observe advection in time and apparently no diffusion process.\n",
    "\n",
    "- In the FFT the phenomenon of slow diffusion cannot be observed clearly, but the plot of maximum aplitude value shows some differences varying the paremeters. With $\\varepsilon  = 0.1$ and $\\varepsilon = 0.01$ the maximum absolute value of the solutions decrease slower as the order of magnitude of $\\varepsilon$ decrease. However, with orders of magnitude for $\\varepsilon$ smaller than $10^{-3}$ the phenomenon the maximum is increasing in time. As the order of magnitude is continue decreasing, the numerical error is reaching the results obtained for the first case.\n",
    "- In the Implicit FD during the decrease of orders of magnitude for $\\varepsilon$ it can be seen that the inclination of maximum absolute value to have lower values is the expected and for smaller values of $\\varepsilon$, the decreace is smaller too. Aproximately, for order of magnitud of $10^{-7}$ it cannot be seen differences between the maximum absolute value comparing to the first case explained before.\n",
    "- The Explicit FD has the same behaviour than FFT. When $\\varepsilon$ has a order of magnitude lower than $10^{-2}$ the decreasing maximum value in time of the solutions changes to an increasing maximum value in time. The solutions are approaching to the first case."
   ]
  },
  {
   "cell_type": "markdown",
   "metadata": {
    "slideshow": {
     "slide_type": "slide"
    }
   },
   "source": [
    "In general, the Fast Fourier Transform has some problems caused by certain parameter values and is a conditionally stable method. The Explicit Finite Difference is better than FFT, but has some issues on stability too. Otherwise, the Implicit Finite Difference seems to be more trustworthy, since the behaviour expected for this case is aproximately the same that the numerical results. However, all the methods introduce some numerical error, which could be seen in the first case when $\\varepsilon = 0$. "
   ]
  },
  {
   "cell_type": "markdown",
   "metadata": {
    "slideshow": {
     "slide_type": "fragment"
    }
   },
   "source": [
    "Now, the question is, ¿what is the effect of the small values for $\\varepsilon$ of the equation for the numerical results? First of all, using the method of multiscales, is necessary to known how is the advance of the solutions according to the speed $\\omega$."
   ]
  },
  {
   "cell_type": "markdown",
   "metadata": {
    "slideshow": {
     "slide_type": "slide"
    }
   },
   "source": [
    "The next code shows the numerical solution of the Initial Value Problem asociated to the advance of $\\Theta$ in the time $t$.\n",
    "\n",
    "$$\n",
    "\\frac{\\mathrm{d}\\theta}{\\mathrm{d}t} = \\omega(\\theta)\n",
    "$$"
   ]
  },
  {
   "cell_type": "code",
   "execution_count": null,
   "metadata": {
    "slideshow": {
     "slide_type": "fragment"
    }
   },
   "outputs": [],
   "source": [
    "def plot_Theta(w,delta):\n",
    "    t_max = 25\n",
    "    Theta = solve_IVP(w,t_max,False,delta)\n",
    "    vTheta = np.vectorize(Theta)\n",
    "    t = np.linspace(0,t_max,50)\n",
    "    tt = np.linspace(0,t_max,1000)\n",
    "    plt.figure(figsize=(8,5))\n",
    "    #plot points of the numerical solution for theta\n",
    "    plt.plot(t,vTheta(t),\"ro\",label=r\"$\\Theta(t)$\")    \n",
    "    #plot spline function using the previous points\n",
    "    plt.plot(tt,vTheta(tt),\"-g\",label=r\"Splines for $\\Theta(t)$\")\n",
    "\n",
    "    #get the period of the function \n",
    "    f = lambda x: Theta(x) - 2*np.pi\n",
    "    #obtain the time s where theta(s) = 2pi\n",
    "    s = bisect(f,0,t_max,verb=False)\n",
    "    #plot a vertical line\n",
    "    plt.axvline(x=s, color='k', linestyle='--')\n",
    "\n",
    "    #plot the points where theta(s) = 2pi, 4pi and 6pi\n",
    "    plt.plot(s,2*np.pi,\"Db\")   \n",
    "\n",
    "    #plot the spline functions mod 2pi to verify the period\n",
    "    plt.plot(tt,vTheta(tt)%(2*np.pi),\"-b\",label=r\"$\\Theta(t)$ mod $2\\pi$\")\n",
    "    #other configurations of the plot\n",
    "    plt.grid(True)\n",
    "    plt.legend(loc=\"best\")\n",
    "    plt.xlabel(r\"$t$\")\n",
    "    plt.ylabel(r\"$\\Theta(t)$\")\n",
    "    plt.title(\"Period P = \"+str(s)+\" [s]\")\n",
    "    #save image in pdf\n",
    "    #plt.savefig(\"Theta.pdf\")\n",
    "    plt.show()"
   ]
  },
  {
   "cell_type": "code",
   "execution_count": null,
   "metadata": {
    "slideshow": {
     "slide_type": "slide"
    }
   },
   "outputs": [],
   "source": [
    "delta_widget = FloatSlider(min=0.4,max=2.0, step=0.1, value=1.0)\n",
    "interact(plot_Theta,w=fixed(w),delta=delta_widget)"
   ]
  },
  {
   "cell_type": "markdown",
   "metadata": {
    "slideshow": {
     "slide_type": "slide"
    }
   },
   "source": [
    "As expected, since the speed $\\omega$ in this case is $\\omega(\\theta) = 1$, a constant value. The position $\\Theta$ in time is the function $\\Theta(t) = t$, the identity function. If a different scalar value was used, the solution of the Initial Value Problem would be a multiple of the identity function by exactly this scalar value. The numerical method used in this case is appropiated since reflects the behavior of the solution. The period $P$ in this case corresponds to the value $P = 2\\pi \\approx 6.28312$."
   ]
  },
  {
   "cell_type": "markdown",
   "metadata": {
    "slideshow": {
     "slide_type": "slide"
    }
   },
   "source": [
    "The next step is to solve the Partial Differential Equation asociated to $A_0(s,T)$:\n",
    "\n",
    "$$\n",
    "\\frac{\\partial A_0}{\\partial T}(s,T) = \\frac{1}{P} \\int_{0}^{P} \\frac{1}{\\omega^2(\\Theta(\\tau-s))} \\mathrm{d}\\tau \\frac{\\partial^2A_0}{\\partial s^2}(s,T)\n",
    "$$\n"
   ]
  },
  {
   "cell_type": "markdown",
   "metadata": {
    "slideshow": {
     "slide_type": "fragment"
    }
   },
   "source": [
    "The next code solves the equation, mixing a numerical method for the integral and a finite difference method for the PDE."
   ]
  },
  {
   "cell_type": "code",
   "execution_count": null,
   "metadata": {
    "slideshow": {
     "slide_type": "fragment"
    }
   },
   "outputs": [],
   "source": [
    "i_widget = IntSlider(min=0, max=499, value=0)\n",
    "eps_widget = Dropdown(options=[100.,10.,2.,1.,1e-1,1e-2,1e-3,1e-4,1e-5,1e-6,1e-7,\n",
    "                               1e-8,1e-9,1e-10,1e-11,1e-12,1e-13,1e-14,1e-15,1e-16,1e-17,0.],\n",
    "                      value=0, description='eps')\n",
    "delta_widget = FloatSlider(min=0.4,max=2.0, step=0.1, value=1.0)\n",
    "fun_widget = Dropdown(options=[1,2,3],\n",
    "                      value=1, description='Function F')\n",
    "interact(print_simulation_a0,w=fixed(w),F=fixed(F),i=i_widget,eps=eps_widget,delta=delta_widget,num=fun_widget)"
   ]
  },
  {
   "cell_type": "markdown",
   "metadata": {
    "slideshow": {
     "slide_type": "slide"
    }
   },
   "source": [
    "As can be seen, the solution is the usual for a diffusion equation. The difference with traditional approaches is that the horizontal axis corresponds to a time variable that measures the delay to be applied to the function $\\Theta(t)$ such that $\\theta = 0$. Recalling that the $s$ that corresponds to a certain $\\hat{\\theta}$ is given by $s = \\tau - \\alpha$ with $\\alpha$ such that $\\Theta(\\alpha) = \\hat{\\theta}$, for some values of $\\tau$ the value of $s$ needed is negative. However, the variable is periodic on the interval $[0,P]$ and applying the modulo operator, the $s$ appears in the plot nearer of $P$ for the right side. For example, consider $T = \\tau = 0$ and the displacement $\\theta = \\pi/2$. The value of $\\alpha$ such that $\\Theta(\\alpha) = \\pi/2$ is $\\alpha = \\pi/2$ and the value of $s$ in this case is $s = 0 - \\pi/2 = -\\pi/2$. Using the periodicity of variable $s$ the value delivered to make next calculations is $s = (-\\pi/2)\\%2\\pi = 3\\pi/2$. The expected displacement of the advection process is realized because with a fixed value of displacement $\\theta$ in different moments of time, the value of $s$ obtained is different and moves around the values $[0,P]$."
   ]
  },
  {
   "cell_type": "markdown",
   "metadata": {
    "slideshow": {
     "slide_type": "slide"
    }
   },
   "source": [
    "The next code shows the solution $u_0(\\theta,\\tau,T)$ obtained with the method of multiscales and expresed in function of the slow scale: The last part is really important, because there are not a direct implication of the $\\varepsilon$ parameter in this scale. With different values of $\\varepsilon$, the caused effect is that the diffusion ocurrs more faster or slower in the fast scale; that is the expected effect of the coefficient of diffusion."
   ]
  },
  {
   "cell_type": "code",
   "execution_count": null,
   "metadata": {
    "slideshow": {
     "slide_type": "fragment"
    }
   },
   "outputs": [],
   "source": [
    "i_widget = IntSlider(min=0, max=500, value=0)\n",
    "eps_widget = Dropdown(options=[100.,10.,2.,1.,1e-1,1e-2,1e-3,1e-4,1e-5,1e-6,1e-7,\n",
    "                               1e-8,1e-9,1e-10,1e-11,1e-12,1e-13,1e-14,1e-15,1e-16,1e-17],\n",
    "                      value=1, description='eps')\n",
    "delta_widget = FloatSlider(min=0.4,max=2.0, step=0.1, value=1.0)\n",
    "fun_widget = Dropdown(options=[1,2,3],\n",
    "                      value=1, description='Function F')\n",
    "interact(print_simulation_u0,w=fixed(w),F=fixed(F),i=i_widget,eps=eps_widget,delta=delta_widget,num=fun_widget)"
   ]
  },
  {
   "cell_type": "markdown",
   "metadata": {
    "slideshow": {
     "slide_type": "slide"
    }
   },
   "source": [
    "The final experiment for this numerical example considers the comparation of the numerical solution obtained with one pure method numerically and the solution obtained using the method of multiscales. For that, is necesary to use equivalent times for the pure methods to the results in the slow scale. This times will be changed each time that a different value of $\\varepsilon$ be selected.\n",
    "\n",
    "Consider a given $T_{max}$ in the slow time scale. For simplicity, $T_{max} = 1$ and $\\varepsilon$ will take the values $1 \\times 10^{\\,p}$ with negative values for $p$. Also, a few values of $\\varepsilon > 1$ will be taken into account, but it is not the main porpouse of this work. For example, let be $\\varepsilon = 10^{-5}$. Since $T_{max}= 1$ units of time in the slow scale, the equvalent value in the fast scale with this $\\varepsilon$ is $t_{max} = 1/\\varepsilon = 10^{5}$ units of time. With this huge number and a reasonable low value for time step a really large number of iterations (and memory if is necessary to store all the values) is necessary to do. But, with the multiscales is possible to realize few iterations and advance \"big\" steps of time without recuring to a large time step or a using too much memory. "
   ]
  },
  {
   "cell_type": "markdown",
   "metadata": {
    "slideshow": {
     "slide_type": "slide"
    }
   },
   "source": [
    "The next code shows the comparison between the method of multiscales and a traditional approach in order to determinate the numerical values of the advection-diffusion problem where the diffusion occurs very slowly."
   ]
  },
  {
   "cell_type": "code",
   "execution_count": null,
   "metadata": {
    "slideshow": {
     "slide_type": "fragment"
    }
   },
   "outputs": [],
   "source": [
    "def comparison(w,wp,F,i,eps,T_max,N,M,method=1,delta=1,num=1):\n",
    "    th,u0,d_T = get_u0(w,F,i,eps,T_max,N,M,delta,num)\n",
    "\n",
    "    t_max = T_max/eps\n",
    "    M2 = int(t_max/d_T + 1)\n",
    "       \n",
    "    label_method = \"\"\n",
    "    u1 = np.zeros((N,M))\n",
    "    if method == 1:\n",
    "        u1 = fd_method(w,wp,F,N,M2,t_max,eps,delta,num)\n",
    "        label_method = \"Implicit FD\"\n",
    "    elif method == 2:\n",
    "        u1 = fd_method(w,wp,F,N,M2,t_max,eps,delta,num,\"Explicit\")\n",
    "        label_method = \"Explicit FD\"\n",
    "    elif method == 3:\n",
    "        u1 = fft_method(w,wp,F,N,M2,t_max,eps,delta,num)\n",
    "        label_method = \"FFT\"\n",
    "\n",
    "    j = int(i/eps)\n",
    "    \n",
    "    print(\"Points Fast Time:\",M)\n",
    "    print(\"Points Slow Time:\",M2)\n",
    "    print(\"i\",i)\n",
    "    print(\"j\",j)\n",
    "    \n",
    "    plt.figure(figsize=(10,5))\n",
    "    plt.plot(th,u0,\"rs\",ms=10,label=\"Multiscales\")\n",
    "    plt.plot(th,u1[:,j],\"gD\",ms=4,label=label_method)\n",
    "    plt.title(r\"Simulation at $T = \"+str(d_T*i)+\"$, $t=\"+str(d_T*i/eps)+\"$\")\n",
    "    plt.ylim(-4,4)\n",
    "    plt.grid()\n",
    "    plt.legend(loc=\"best\")\n",
    "    plt.show()\n"
   ]
  },
  {
   "cell_type": "code",
   "execution_count": null,
   "metadata": {
    "scrolled": false,
    "slideshow": {
     "slide_type": "slide"
    }
   },
   "outputs": [],
   "source": [
    "i_widget = IntSlider(min=0, max=79, value=0)\n",
    "N_widget = IntSlider(min=2, max=200, value=50)\n",
    "M_widget = IntSlider(min=2, max=400, value=80)\n",
    "eps_widget = Dropdown(options=[10,2,1.,1e-1,1e-2,1e-3,1e-4,1e-5,1e-6,1e-7,\n",
    "                               1e-8,1e-9,1e-10,1e-11,1e-12,1e-13,1e-14,1e-15,1e-16,1e-17],\n",
    "                      value=1, description='eps')\n",
    "delta_widget = FloatSlider(min=0.4,max=2.0, step=0.1, value=1.0)\n",
    "fun_widget = Dropdown(options=[1,2,3],value=1, description='Function F')\n",
    "time_widget = FloatSlider(min=0.1,max=10,step=0.1,value=1,description=\"Max Time\")\n",
    "method_widget=Dropdown(options={\"Implicit FD\":1, \"Explicit FD\":2, \"FFT\":3},value=1)\n",
    "def update_i_values(*args):\n",
    "    i_widget.max = M_widget.value-1\n",
    "M_widget.observe(update_i_values, 'value')\n",
    "interact(comparison,\n",
    "         w=fixed(w),\n",
    "         wp=fixed(wp),\n",
    "         F=fixed(F),\n",
    "         i=i_widget,\n",
    "         eps=eps_widget,\n",
    "         T_max=time_widget,\n",
    "         N=N_widget,\n",
    "         M=M_widget,\n",
    "         method=method_widget,\n",
    "         delta=delta_widget,\n",
    "         num=fun_widget)"
   ]
  },
  {
   "cell_type": "markdown",
   "metadata": {
    "collapsed": true,
    "slideshow": {
     "slide_type": "fragment"
    }
   },
   "source": [
    "It can be seen that the result are very near when there are not a big difference between scales. However, when the time starts to be too much large to the traditional computation, the method of multiscales starts to show differences in the numerical simulatons obtained."
   ]
  },
  {
   "cell_type": "code",
   "execution_count": null,
   "metadata": {
    "slideshow": {
     "slide_type": "skip"
    }
   },
   "outputs": [],
   "source": []
  },
  {
   "cell_type": "markdown",
   "metadata": {
    "slideshow": {
     "slide_type": "slide"
    }
   },
   "source": [
    "**Numerical Example 2**\n",
    "The second numerical example consider a variable speed $\\omega$ that depends of the current position $\\theta$. A positive parameter $\\delta$ will be empoyed in order to avoid having positions of $\\theta$ without speed.\n",
    "\\begin{align}\n",
    "\\omega(\\theta) &= \\sin^2{\\left(\\frac{\\theta}{2}\\right)} +\\delta\\\\\n",
    "\\omega'(\\theta) &= \\frac{1}{2}\\sin{(\\theta)}\\\\\n",
    "\\end{align}"
   ]
  },
  {
   "cell_type": "code",
   "execution_count": null,
   "metadata": {
    "slideshow": {
     "slide_type": "fragment"
    }
   },
   "outputs": [],
   "source": [
    "def w2(theta,delta=1):\n",
    "    return (np.sin(0.5*theta))**2+delta\n",
    "\n",
    "def wp2(theta):\n",
    "    return 0.5*np.sin(theta)"
   ]
  },
  {
   "cell_type": "code",
   "execution_count": null,
   "metadata": {
    "slideshow": {
     "slide_type": "slide"
    }
   },
   "outputs": [],
   "source": [
    "delta_widget = FloatSlider(min=0.4,max=2.0, step=0.1, value=1.0)\n",
    "fun_widget = Dropdown(options=[1,2,3],\n",
    "                      value=1, description='Function F')\n",
    "interact(plot_functions,w=fixed(w2),wp=fixed(wp2),F=fixed(F),delta=delta_widget,num=fun_widget)"
   ]
  },
  {
   "cell_type": "markdown",
   "metadata": {
    "collapsed": true,
    "slideshow": {
     "slide_type": "fragment"
    }
   },
   "source": [
    "The delta parameter only desplaces the speed $\\omega$ in the vertical axis. This causes that with a greater delta, the speed of the solutions will be greater too. "
   ]
  },
  {
   "cell_type": "markdown",
   "metadata": {
    "collapsed": true,
    "slideshow": {
     "slide_type": "slide"
    }
   },
   "source": [
    "Now, with the same numerical methods used in previous example, some analysis of the solutions in cases where the speed is not constant will be realized. Consider the next code that uses the functions $\\omega(\\theta)$ and $w'(\\theta)$. "
   ]
  },
  {
   "cell_type": "code",
   "execution_count": null,
   "metadata": {
    "slideshow": {
     "slide_type": "fragment"
    }
   },
   "outputs": [],
   "source": [
    "i_widget = IntSlider(min=0, max=79, value=0)\n",
    "N_widget = IntSlider(min=2, max=200, value=50)\n",
    "M_widget = IntSlider(min=2, max=400, value=80)\n",
    "eps_widget = Dropdown(options=[100.,10.,2.,1.,1e-1,1e-2,1e-3,1e-4,1e-5,1e-6,1e-7,\n",
    "                               1e-8,1e-9,1e-10,1e-11,1e-12,1e-13,1e-14,1e-15,1e-16,1e-17,0.],\n",
    "                      value=0, description='eps')\n",
    "delta_widget = FloatSlider(min=0.1,max=2.0, step=0.1, value=1.0)\n",
    "fun_widget = Dropdown(options=[1,2,3],\n",
    "                      value=1, description='Function F')\n",
    "fd_widget = Dropdown(options =  [\"Explicit\", \"Implicit\"], value=\"Implicit\", description = \"FD Mode\")\n",
    "time_widget = IntSlider(min=1,max=10,step=1,value=1,description=\"Max Time\")\n",
    "def update_i_values(*args):\n",
    "    i_widget.max = M_widget.value-1\n",
    "M_widget.observe(update_i_values, 'value')\n",
    "\n",
    "interact(simulation,\n",
    "         w=fixed(w2),\n",
    "         wp=fixed(wp2),\n",
    "         F=fixed(F),\n",
    "         i=i_widget,\n",
    "         N=N_widget,\n",
    "         M=M_widget,\n",
    "         eps=eps_widget,\n",
    "         t_max = time_widget,\n",
    "         fd_mode=fd_widget,\n",
    "         delta=delta_widget,\n",
    "         num=fun_widget)"
   ]
  },
  {
   "cell_type": "markdown",
   "metadata": {
    "collapsed": true,
    "slideshow": {
     "slide_type": "slide"
    }
   },
   "source": [
    "The first case with $\\varepsilon = 0$, where only there is a advection process is different when the speed is not a constant value. The maximum value is increasing in time where the solutions are pushed. When time is more than 1 second the maximum value of the solutions decreases in time. \n",
    "- FFT apparently has no problems of stability, but with the increment of the max time to 10 seconds the problem arises. \n",
    "- Implicit FD does not have problems of stability.\n",
    "- Explicit FD has the same problems of stability that FFT, but the problems starts later in this case."
   ]
  },
  {
   "cell_type": "markdown",
   "metadata": {
    "collapsed": true,
    "slideshow": {
     "slide_type": "fragment"
    }
   },
   "source": [
    "The second case $\\varepsilon > 0$, shows the expected diffusion with some advection that is not been well observed as the order of magnitude of $\\varepsilon$ increases. \n",
    "- FFT has problems of stability since the $\\varepsilon$ parameter has an efect in the moment of time when this problem arises. As greater this value is, sooner is the moment of inestability.\n",
    "- Explicit FD does not have problem of stability. \n",
    "- Implicit FD has similar problems that FFT and also, the $\\varepsilon$ parameter has an influence in the stability of the method, but FFT seems to be more inestable that Implicit FD."
   ]
  },
  {
   "cell_type": "markdown",
   "metadata": {
    "slideshow": {
     "slide_type": "slide"
    }
   },
   "source": [
    "The third case, and interest of this work is $0 < \\varepsilon \\ll 1$.\n",
    "- FFT does not have stability problems with the default parameters, but with an increment of max time for the simulation great oscilations can be seen at 3 seconds. In order to observate the different phenomena it is necessary to increase as much as possible the number of points $M$ and keep $N$ low. With a considerable value of max time is necesarry to keep as low as possible the time steps. With an order of magnitude lower than $10^{-2}$ the behaviour of the solution starts to seems similar to the first case when $\\varepsilon = 0$.\n",
    "- Implicit FD does not have stability problems and in this cases it is possible to observe the whole view of the different functions with different parameters. It can be seen that the variable speed causes thatthe maximum values in time oscillates, but with a inclination to decrease in time. With an order of magnitude lower than $10^{-2}$ the behaviour of the solution starts to seems similar to the first case when $\\varepsilon = 0$.\n",
    "- Explicit FD has problems of stability but it seems to be more stable that FFT. The behaviour is in general the same that the explained en previous cases. With an order of magnitude lower than $10^{-2}$ the behaviour of the solution starts to seems similar to the first case when $\\varepsilon = 0$."
   ]
  },
  {
   "cell_type": "markdown",
   "metadata": {
    "collapsed": true,
    "slideshow": {
     "slide_type": "slide"
    }
   },
   "source": [
    "In general, the methods does not let to visualize what is happening with low orders of magnitude for the diffusion coefficient (lower to $10^{-2}$). So, again, with using the multiscales of time the behaviour of this situation could be observed."
   ]
  },
  {
   "cell_type": "markdown",
   "metadata": {
    "collapsed": true,
    "slideshow": {
     "slide_type": "fragment"
    }
   },
   "source": [
    "The next plot shows the displacement of a certain value in order of time. In a different form to the example with constant value for speed, in this case is expected that the dispacement in time be non-linear."
   ]
  },
  {
   "cell_type": "code",
   "execution_count": null,
   "metadata": {
    "slideshow": {
     "slide_type": "slide"
    }
   },
   "outputs": [],
   "source": [
    "delta_widget = FloatSlider(min=0.1,max=2.0, step=0.1, value=1.0)\n",
    "interact(plot_Theta,w=fixed(w2),delta=delta_widget)"
   ]
  },
  {
   "cell_type": "markdown",
   "metadata": {
    "slideshow": {
     "slide_type": "slide"
    }
   },
   "source": [
    "In this case, it can be seen that the role of $\\delta$ parameter is important. If $\\delta$ was zero, then for certain values of positions could not be movement, since $\\omega(\\theta) = 0$ for some $\\theta$. This could causes an infinity value for the period. It can be seen that with $\\delta = 0.1$ the period is equal to 19 seconds approx, and with increments of this parameter the period quickly reduce its value. \n",
    "\n",
    "The displacement is not a constant, such as in the first numerical example, and seems to be like a curves that increases its value in time. A important thing to control with $\\delta$ parameter is that if this value is too high, then the displacement is like a stright line and start to seems like the first numerical example. So is important to mantaint it bounded. \n",
    "\n",
    "The period obtain in this case is not simple to calculate. In first numerical case, period was a multiple of $2\\pi$ because, changes in $\\delta$ only changes the inclination of the straight line that defines the displacement. Using the same value of delta, the period obtain in this cases is lower that the linear case. The variable speed helps to move faster that with a constant value."
   ]
  },
  {
   "cell_type": "markdown",
   "metadata": {
    "slideshow": {
     "slide_type": "slide"
    }
   },
   "source": [
    "Next, the function $A_0$ calculates from the diffusion equation is shown below."
   ]
  },
  {
   "cell_type": "code",
   "execution_count": null,
   "metadata": {
    "slideshow": {
     "slide_type": "fragment"
    }
   },
   "outputs": [],
   "source": [
    "i_widget = IntSlider(min=0, max=499, value=0)\n",
    "eps_widget = Dropdown(options=[100.,10.,2.,1.,1e-1,1e-2,1e-3,1e-4,1e-5,1e-6,1e-7,\n",
    "                               1e-8,1e-9,1e-10,1e-11,1e-12,1e-13,1e-14,1e-15,1e-16,1e-17,0.],\n",
    "                      value=0, description='eps')\n",
    "delta_widget = FloatSlider(min=0.4,max=2.0, step=0.1, value=1.0)\n",
    "fun_widget = Dropdown(options=[1,2,3],\n",
    "                      value=1, description='Function F')\n",
    "interact(print_simulation_a0,w=fixed(w2),F=fixed(F),i=i_widget,eps=eps_widget,delta=delta_widget,num=fun_widget)"
   ]
  },
  {
   "cell_type": "markdown",
   "metadata": {
    "slideshow": {
     "slide_type": "fragment"
    }
   },
   "source": [
    "It can be seen that in this case the shape of the function is a little bit different for function 1. Functions 2 and 3 appears to be similar to the linear speed case, but the amplitude in the initial value is different. In order of advances of time in slow scale it can be seen a regular behaviour that expreses the diffusion process. "
   ]
  },
  {
   "cell_type": "markdown",
   "metadata": {
    "slideshow": {
     "slide_type": "slide"
    }
   },
   "source": [
    "Now, with that result, the function $u_0$ can be reconstructed using the multiscale. The following code shows the result of computing $u_0$ using the previous values for $A_0$."
   ]
  },
  {
   "cell_type": "code",
   "execution_count": null,
   "metadata": {
    "slideshow": {
     "slide_type": "fragment"
    }
   },
   "outputs": [],
   "source": [
    "i_widget = IntSlider(min=0, max=499, value=0)\n",
    "eps_widget = Dropdown(options=[100.,10.,2.,1.,1e-1,1e-2,1e-3,1e-4,1e-5,1e-6,1e-7,\n",
    "                               1e-8,1e-9,1e-10,1e-11,1e-12,1e-13,1e-14,1e-15,1e-16,1e-17],\n",
    "                      value=1, description='eps')\n",
    "delta_widget = FloatSlider(min=0.4,max=2.0, step=0.1, value=1.0)\n",
    "fun_widget = Dropdown(options=[1,2,3],\n",
    "                      value=1, description='Function F')\n",
    "interact(print_simulation_u0,w=fixed(w2),F=fixed(F),i=i_widget,eps=eps_widget,delta=delta_widget,num=fun_widget)"
   ]
  },
  {
   "cell_type": "markdown",
   "metadata": {
    "slideshow": {
     "slide_type": "fragment"
    }
   },
   "source": [
    "It can be seen that the functions are reconstructed in a good way and shows similar behaviour that the Implicit Finite Difference (more stable). It can be seen clearly that there is two process involved, the advection that produces movement of the values around the spatial axis and diffusion that shows that the values tends to spread."
   ]
  },
  {
   "cell_type": "markdown",
   "metadata": {
    "slideshow": {
     "slide_type": "slide"
    }
   },
   "source": [
    "Finally, the comparison between a traditional approach with one scale and the approximations with multiscales are shown next."
   ]
  },
  {
   "cell_type": "code",
   "execution_count": null,
   "metadata": {
    "slideshow": {
     "slide_type": "fragment"
    }
   },
   "outputs": [],
   "source": [
    "i_widget = IntSlider(min=0, max=79, value=0)\n",
    "N_widget = IntSlider(min=2, max=200, value=50)\n",
    "M_widget = IntSlider(min=2, max=400, value=80)\n",
    "eps_widget = Dropdown(options=[1.,1e-1,1e-2,1e-3,1e-4,1e-5,1e-6,1e-7,\n",
    "                               1e-8,1e-9,1e-10,1e-11,1e-12,1e-13,1e-14,1e-15,1e-16,1e-17],\n",
    "                      value=1, description='eps')\n",
    "delta_widget = FloatSlider(min=0.4,max=2.0, step=0.1, value=1.0)\n",
    "fun_widget = Dropdown(options=[1,2,3],value=1, description='Function F')\n",
    "time_widget = FloatSlider(min=0.1,max=10,step=0.1,value=1,description=\"Max Time\")\n",
    "method_widget=Dropdown(options={\"Implicit FD\":1, \"Explicit FD\":2, \"FFT\":3},value=1)\n",
    "def update_i_values(*args):\n",
    "    i_widget.max = M_widget.value-1\n",
    "M_widget.observe(update_i_values, 'value')\n",
    "interact(comparison,\n",
    "         w=fixed(w2),\n",
    "         wp=fixed(wp2),\n",
    "         F=fixed(F),\n",
    "         i=i_widget,\n",
    "         eps=eps_widget,\n",
    "         T_max=time_widget,\n",
    "         N=N_widget,\n",
    "         M=M_widget,\n",
    "         method=method_widget,\n",
    "         delta=delta_widget,\n",
    "         num=fun_widget)"
   ]
  },
  {
   "cell_type": "markdown",
   "metadata": {
    "collapsed": true,
    "slideshow": {
     "slide_type": "fragment"
    }
   },
   "source": [
    "In this case, it seems to be more differences between both approximations. The presence of a non-constant speed seems to affect the results of the approximations with high orders of magintude for $\\varepsilon$. The first function $F(\\theta)$ has the major differences between methods. "
   ]
  },
  {
   "cell_type": "code",
   "execution_count": null,
   "metadata": {
    "slideshow": {
     "slide_type": "skip"
    }
   },
   "outputs": [],
   "source": []
  },
  {
   "cell_type": "markdown",
   "metadata": {
    "collapsed": true,
    "slideshow": {
     "slide_type": "slide"
    }
   },
   "source": [
    "## References\n",
    "[1] Jupyter Notebooks of SC1. Claudio Torres. https://github.com/tclaudioe/Scientific-Computing/tree/master/SC1.\n",
    "\n",
    "[2] Jupyter Notebooks of SC2. Claudio Torres. https://github.com/tclaudioe/Scientific-Computing/tree/master/SC2.\n",
    "\n",
    "[3] Jupyter Notebooks of SC5. Claudio Torres. https://github.com/tclaudioe/Scientific-Computing/tree/master/SC5.\n",
    "\n",
    "[4] Using observe to update values in a widget. http://ipywidgets.readthedocs.io/en/latest/examples/Using%20Interact.html#Arguments-that-are-dependent-on-each-other"
   ]
  }
 ],
 "metadata": {
  "celltoolbar": "Slideshow",
  "kernelspec": {
   "display_name": "Python 3",
   "language": "python",
   "name": "python3"
  },
  "language_info": {
   "codemirror_mode": {
    "name": "ipython",
    "version": 3
   },
   "file_extension": ".py",
   "mimetype": "text/x-python",
   "name": "python",
   "nbconvert_exporter": "python",
   "pygments_lexer": "ipython3",
   "version": "3.6.5"
  }
 },
 "nbformat": 4,
 "nbformat_minor": 1
}
